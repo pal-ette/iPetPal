{
  "nbformat": 4,
  "nbformat_minor": 0,
  "metadata": {
    "colab": {
      "provenance": []
    },
    "kernelspec": {
      "name": "python3",
      "display_name": "Python 3"
    },
    "language_info": {
      "name": "python"
    }
  },
  "cells": [
    {
      "cell_type": "code",
      "execution_count": null,
      "metadata": {
        "colab": {
          "base_uri": "https://localhost:8080/"
        },
        "id": "vgRmZYR2Qqo9",
        "outputId": "57bcb7e6-b48f-472b-8387-15f3a8d07fed"
      },
      "outputs": [
        {
          "output_type": "stream",
          "name": "stdout",
          "text": [
            "  % Total    % Received % Xferd  Average Speed   Time    Time     Time  Current\n",
            "                                 Dload  Upload   Total   Spent    Left  Speed\n",
            "\r  0     0    0     0    0     0      0      0 --:--:-- --:--:-- --:--:--     0\r100  6634  100  6634    0     0  39779      0 --:--:-- --:--:-- --:--:-- 39963\n"
          ]
        }
      ],
      "source": [
        "!curl -o \"aihubshell\" https://api.aihub.or.kr/api/aihubshell.do\n",
        "!chmod +x aihubshell\n",
        "AIHUB_ID = \"ryugibo@daum.net\" # @param {type:\"string\"}\n",
        "AIHUB_PW = \"\" # @param {type:\"string\"}"
      ]
    },
    {
      "cell_type": "code",
      "source": [
        "%cd CVProject"
      ],
      "metadata": {
        "colab": {
          "base_uri": "https://localhost:8080/"
        },
        "id": "d2QP_O3TRToG",
        "outputId": "dfd5f9fb-cdb3-4044-e51b-aebbabef19ca"
      },
      "execution_count": null,
      "outputs": [
        {
          "output_type": "stream",
          "name": "stdout",
          "text": [
            "/content/CVProject\n"
          ]
        }
      ]
    },
    {
      "cell_type": "code",
      "source": [
        "!../aihubshell -mode l -datasetkey 562 -filekey 51881"
      ],
      "metadata": {
        "colab": {
          "base_uri": "https://localhost:8080/"
        },
        "id": "lHil4UaiRIv5",
        "outputId": "ccafc56a-ef2e-478c-f6ce-5ae487d81a23"
      },
      "execution_count": null,
      "outputs": [
        {
          "output_type": "stream",
          "name": "stdout",
          "text": [
            "==========================================\n",
            "aihubshell version 24.01.29 v0.3\n",
            "==========================================\n",
            "Fetching file tree structure...\n",
            "The contents are encoded in UTF-8 including Korean characters. \n",
            "If the following contents are not output normally, \n",
            "Please modify the character information of the OS. \n",
            "=================공지사항=================== \n",
            "========================================== \n",
            "\n",
            "    └─153.반려동물 안구질환 데이터\n",
            "        ├─02.저작도구\n",
            "        │  ├─저작도구 소스코드.zip | 153 MB | 55226\n",
            "        │  └─저작도구 설명서.zip | 4 MB | 55227\n",
            "        └─01.데이터\n",
            "            ├─1.Training\n",
            "            │  ├─라벨링데이터\n",
            "            │  │  ├─TL1.zip | 5 GB | 51880\n",
            "            │  │  └─TL2.zip | 7 GB | 51881\n",
            "            │  └─원천데이터\n",
            "            │      ├─TS1.zip | 76 GB | 51882\n",
            "            │      └─TS2.zip | 94 GB | 51883\n",
            "            └─2.Validation\n",
            "                ├─라벨링데이터\n",
            "                │  └─VL.zip | 1 GB | 51884\n",
            "                └─원천데이터\n",
            "                    └─VS.zip | 18 GB | 51885\n"
          ]
        }
      ]
    },
    {
      "cell_type": "code",
      "source": [
        "!../aihubshell -mode d -datasetkey 562 -filekey 51880,51881,51884 -aihubpw {AIHUB_PW} -aihubid {AIHUB_ID}"
      ],
      "metadata": {
        "colab": {
          "base_uri": "https://localhost:8080/"
        },
        "id": "S8jQQ_rkRKOH",
        "outputId": "f4d5b196-1e15-48be-b8f6-85a941666cfd"
      },
      "execution_count": null,
      "outputs": [
        {
          "output_type": "stream",
          "name": "stdout",
          "text": [
            "==========================================\n",
            "aihubshell version 24.01.29 v0.3\n",
            "==========================================\n",
            "Authentication successful.\n",
            "  % Total    % Received % Xferd  Average Speed   Time    Time     Time  Current\n",
            "                                 Dload  Upload   Total   Spent    Left  Speed\n",
            "  0     0    0     0    0     0      0      0 --:--:-- --:--:-- --:--:--     0\n",
            "100 12.9G    0 12.9G    0     0  18.3M      0 --:--:--  0:12:00 --:--:-- 18.8M\n",
            "Request successful with HTTP status 200.\n",
            "Download successful.\n",
            "153.반려동물_안구질환_데이터/01.데이터/2.Validation/라벨링데이터/VL.zip.part0\n",
            "153.반려동물_안구질환_데이터/01.데이터/2.Validation/라벨링데이터/VL.zip.part1073741824\n",
            "153.반려동물_안구질환_데이터/01.데이터/1.Training/라벨링데이터/TL2.zip.part0\n",
            "153.반려동물_안구질환_데이터/01.데이터/1.Training/라벨링데이터/TL2.zip.part1073741824\n",
            "153.반려동물_안구질환_데이터/01.데이터/1.Training/라벨링데이터/TL2.zip.part2147483648\n",
            "153.반려동물_안구질환_데이터/01.데이터/1.Training/라벨링데이터/TL2.zip.part3221225472\n",
            "153.반려동물_안구질환_데이터/01.데이터/1.Training/라벨링데이터/TL2.zip.part4294967296\n",
            "153.반려동물_안구질환_데이터/01.데이터/1.Training/라벨링데이터/TL2.zip.part5368709120\n",
            "153.반려동물_안구질환_데이터/01.데이터/1.Training/라벨링데이터/TL2.zip.part6442450944\n",
            "153.반려동물_안구질환_데이터/01.데이터/1.Training/라벨링데이터/TL1.zip.part0\n",
            "153.반려동물_안구질환_데이터/01.데이터/1.Training/라벨링데이터/TL1.zip.part1073741824\n",
            "153.반려동물_안구질환_데이터/01.데이터/1.Training/라벨링데이터/TL1.zip.part2147483648\n",
            "153.반려동물_안구질환_데이터/01.데이터/1.Training/라벨링데이터/TL1.zip.part3221225472\n",
            "153.반려동물_안구질환_데이터/01.데이터/1.Training/라벨링데이터/TL1.zip.part4294967296\n",
            "잠시 기다려 주세요 병합중 입니다. \n",
            "Merging TL1.zip in ./153.반려동물_안구질환_데이터/01.데이터/1.Training/라벨링데이터\n",
            "Merging TL2.zip in ./153.반려동물_안구질환_데이터/01.데이터/1.Training/라벨링데이터\n",
            "Merging VL.zip in ./153.반려동물_안구질환_데이터/01.데이터/2.Validation/라벨링데이터\n",
            "병합이 완료 되었습니다. \n"
          ]
        }
      ]
    },
    {
      "cell_type": "code",
      "source": [
        "!unzip -l /content/CVProject/153.반려동물_안구질환_데이터/01.데이터/1.Training/라벨링데이터/TL1.zip -x */*/안구초음파**"
      ],
      "metadata": {
        "id": "DGCLIN0Ed-oj"
      },
      "execution_count": null,
      "outputs": []
    },
    {
      "cell_type": "code",
      "source": [
        "!unzip -q /content/CVProject/153.반려동물_안구질환_데이터/01.데이터/1.Training/라벨링데이터/TL1.zip -d ./raw_datas -x */*/안구초음파**"
      ],
      "metadata": {
        "id": "Ii5fqv7tRbEu"
      },
      "execution_count": null,
      "outputs": []
    },
    {
      "cell_type": "code",
      "source": [
        "!unzip -q /content/CVProject/153.반려동물_안구질환_데이터/01.데이터/1.Training/라벨링데이터/TL2.zip -d ./raw_datas -x */*/안구초음파**"
      ],
      "metadata": {
        "id": "_5GKR6K6YeXJ"
      },
      "execution_count": null,
      "outputs": []
    },
    {
      "cell_type": "code",
      "source": [
        "!unzip -q /content/CVProject/153.반려동물_안구질환_데이터/01.데이터/2.Validation/라벨링데이터/VL.zip -d ./raw_datas -x */*/안구초음파**"
      ],
      "metadata": {
        "id": "GQwCbFDwe5yt"
      },
      "execution_count": null,
      "outputs": []
    },
    {
      "cell_type": "code",
      "source": [
        "import os\n",
        "os.getcwd()"
      ],
      "metadata": {
        "colab": {
          "base_uri": "https://localhost:8080/",
          "height": 35
        },
        "id": "cimEyb6nXkbK",
        "outputId": "b2b86732-e2b4-43e3-e357-8cde360b273d"
      },
      "execution_count": null,
      "outputs": [
        {
          "output_type": "execute_result",
          "data": {
            "text/plain": [
              "'/content/CVProject'"
            ],
            "application/vnd.google.colaboratory.intrinsic+json": {
              "type": "string"
            }
          },
          "metadata": {},
          "execution_count": 27
        }
      ]
    },
    {
      "cell_type": "code",
      "source": [
        "import glob\n",
        "import json\n",
        "import os\n",
        "from PIL import Image, ImageChops\n",
        "from tqdm import tqdm\n",
        "\n",
        "\n",
        "def trim(im):\n",
        "    bg = Image.new(im.mode, im.size, im.getpixel((0,0)))\n",
        "    diff = ImageChops.difference(im, bg)\n",
        "    diff = ImageChops.add(diff, diff, 2.0, -100)\n",
        "    bbox = diff.getbbox()\n",
        "    if bbox:\n",
        "        return im.crop(bbox)\n",
        "    return im\n",
        "\n",
        "\n",
        "for desease in os.listdir(\"raw_datas/개/안구/일반\"):\n",
        "    if desease.startswith(\".\"):\n",
        "        continue\n",
        "    desease_path = f\"raw_datas/개/안구/일반/{desease}\"\n",
        "    for sick in os.listdir(desease_path):\n",
        "        if sick.startswith(\".\"):\n",
        "            continue\n",
        "        sick_path = f\"{desease_path}/{sick}\"\n",
        "        print(f\"{desease}({sick})\", end=\" >> \")\n",
        "        for meta_path in tqdm(glob.glob(f\"{sick_path}/*.json\"), position=0, leave=True):\n",
        "            f = open(meta_path, \"r\")\n",
        "            meta = json.load(f)\n",
        "            f.close()\n",
        "            if meta[\"images\"][\"meta\"][\"device\"] not in [\"일반카메라\", \"스마트폰\"]:\n",
        "                continue\n",
        "            img_filename = meta['label']['label_filename']\n",
        "            img_filepath = f\"{os.path.dirname(meta_path)}/{img_filename}\"\n",
        "\n",
        "            img = None\n",
        "            if os.path.isfile(img_filepath):\n",
        "                img = Image.open(img_filepath)\n",
        "            elif os.path.isfile(f\"{img_filepath}.jpg\"):\n",
        "                img = Image.open(f\"{img_filepath}.jpg\")\n",
        "            elif os.path.isfile(f\"{img_filepath}.jpeg\"):\n",
        "                img = Image.open(f\"{img_filepath}.jpeg\")\n",
        "            elif os.path.isfile(f\"{img_filepath}.png\"):\n",
        "                img = Image.open(f\"{img_filepath}.png\")\n",
        "\n",
        "            if img is None:\n",
        "                print(f\"'{img_filepath}' is not exist. in '{meta_path}'\")\n",
        "                continue\n",
        "\n",
        "            img = trim(img)\n",
        "\n",
        "            min_size = min(img.width, img.height)\n",
        "            x_crop = img.width - min_size\n",
        "            y_crop = img.height - min_size\n",
        "            img = img.crop((x_crop / 2, y_crop / 2, img.width - (x_crop / 2), img.height - (y_crop / 2)))\n",
        "            img = img.resize((224, 224), Image.Resampling.LANCZOS)\n",
        "\n",
        "            save_dir = f\"개_안구_squared/{'정상' if sick == '무' else desease}/\"\n",
        "            os.makedirs(save_dir, exist_ok=True)\n",
        "            img.save(f\"{save_dir}/{img_filename.replace('.png', '.jpg')}\", \"JPEG\")"
      ],
      "metadata": {
        "colab": {
          "base_uri": "https://localhost:8080/"
        },
        "id": "TwWABhDgoDHc",
        "outputId": "4b989f8b-1d0e-4e1e-a839-997c19267e2d"
      },
      "execution_count": null,
      "outputs": [
        {
          "output_type": "stream",
          "name": "stdout",
          "text": [
            "결막염(무) >> "
          ]
        },
        {
          "output_type": "stream",
          "name": "stderr",
          "text": [
            "100%|██████████| 10800/10800 [05:27<00:00, 33.02it/s]\n"
          ]
        },
        {
          "output_type": "stream",
          "name": "stdout",
          "text": [
            "결막염(유) >> "
          ]
        },
        {
          "output_type": "stream",
          "name": "stderr",
          "text": [
            "100%|██████████| 10801/10801 [01:33<00:00, 115.49it/s]\n"
          ]
        },
        {
          "output_type": "stream",
          "name": "stdout",
          "text": [
            "궤양성각막질환(무) >> "
          ]
        },
        {
          "output_type": "stream",
          "name": "stderr",
          "text": [
            "100%|██████████| 7740/7740 [06:35<00:00, 19.57it/s]\n"
          ]
        },
        {
          "output_type": "stream",
          "name": "stdout",
          "text": [
            "궤양성각막질환(상) >> "
          ]
        },
        {
          "output_type": "stream",
          "name": "stderr",
          "text": [
            "100%|██████████| 7727/7727 [00:57<00:00, 133.88it/s]\n"
          ]
        },
        {
          "output_type": "stream",
          "name": "stdout",
          "text": [
            "궤양성각막질환(하) >> "
          ]
        },
        {
          "output_type": "stream",
          "name": "stderr",
          "text": [
            "100%|██████████| 7741/7741 [02:12<00:00, 58.52it/s]\n"
          ]
        },
        {
          "output_type": "stream",
          "name": "stdout",
          "text": [
            "백내장(무) >> "
          ]
        },
        {
          "output_type": "stream",
          "name": "stderr",
          "text": [
            "100%|██████████| 7740/7740 [06:19<00:00, 20.40it/s]\n"
          ]
        },
        {
          "output_type": "stream",
          "name": "stdout",
          "text": [
            "백내장(비성숙) >> "
          ]
        },
        {
          "output_type": "stream",
          "name": "stderr",
          "text": [
            "100%|██████████| 7758/7758 [01:49<00:00, 71.04it/s]\n"
          ]
        },
        {
          "output_type": "stream",
          "name": "stdout",
          "text": [
            "백내장(성숙) >> "
          ]
        },
        {
          "output_type": "stream",
          "name": "stderr",
          "text": [
            "100%|██████████| 7727/7727 [01:52<00:00, 68.50it/s]\n"
          ]
        },
        {
          "output_type": "stream",
          "name": "stdout",
          "text": [
            "백내장(초기) >> "
          ]
        },
        {
          "output_type": "stream",
          "name": "stderr",
          "text": [
            "100%|██████████| 7738/7738 [01:42<00:00, 75.56it/s]\n"
          ]
        },
        {
          "output_type": "stream",
          "name": "stdout",
          "text": [
            "비궤양성각막질환(무) >> "
          ]
        },
        {
          "output_type": "stream",
          "name": "stderr",
          "text": [
            "100%|██████████| 5400/5400 [04:46<00:00, 18.82it/s]\n"
          ]
        },
        {
          "output_type": "stream",
          "name": "stdout",
          "text": [
            "비궤양성각막질환(상) >> "
          ]
        },
        {
          "output_type": "stream",
          "name": "stderr",
          "text": [
            "100%|██████████| 5399/5399 [01:11<00:00, 75.29it/s]\n"
          ]
        },
        {
          "output_type": "stream",
          "name": "stdout",
          "text": [
            "비궤양성각막질환(하) >> "
          ]
        },
        {
          "output_type": "stream",
          "name": "stderr",
          "text": [
            "100%|██████████| 5404/5404 [01:24<00:00, 63.78it/s]\n"
          ]
        },
        {
          "output_type": "stream",
          "name": "stdout",
          "text": [
            "색소침착성각막염(무) >> "
          ]
        },
        {
          "output_type": "stream",
          "name": "stderr",
          "text": [
            "100%|██████████| 7920/7920 [06:11<00:00, 21.31it/s]\n"
          ]
        },
        {
          "output_type": "stream",
          "name": "stdout",
          "text": [
            "색소침착성각막염(유) >> "
          ]
        },
        {
          "output_type": "stream",
          "name": "stderr",
          "text": [
            "100%|██████████| 7922/7922 [01:41<00:00, 78.20it/s]\n"
          ]
        },
        {
          "output_type": "stream",
          "name": "stdout",
          "text": [
            "안검내반증(무) >> "
          ]
        },
        {
          "output_type": "stream",
          "name": "stderr",
          "text": [
            "100%|██████████| 10799/10799 [08:50<00:00, 20.34it/s]\n"
          ]
        },
        {
          "output_type": "stream",
          "name": "stdout",
          "text": [
            "안검내반증(유) >> "
          ]
        },
        {
          "output_type": "stream",
          "name": "stderr",
          "text": [
            "100%|██████████| 10799/10799 [05:34<00:00, 32.29it/s]\n"
          ]
        },
        {
          "output_type": "stream",
          "name": "stdout",
          "text": [
            "안검염(무) >> "
          ]
        },
        {
          "output_type": "stream",
          "name": "stderr",
          "text": [
            "100%|██████████| 7740/7740 [05:42<00:00, 22.62it/s]\n"
          ]
        },
        {
          "output_type": "stream",
          "name": "stdout",
          "text": [
            "안검염(유) >> "
          ]
        },
        {
          "output_type": "stream",
          "name": "stderr",
          "text": [
            "100%|██████████| 7738/7738 [02:15<00:00, 57.25it/s]\n"
          ]
        },
        {
          "output_type": "stream",
          "name": "stdout",
          "text": [
            "안검종양(무) >> "
          ]
        },
        {
          "output_type": "stream",
          "name": "stderr",
          "text": [
            "100%|██████████| 5400/5400 [04:06<00:00, 21.94it/s]\n"
          ]
        },
        {
          "output_type": "stream",
          "name": "stdout",
          "text": [
            "안검종양(유) >> "
          ]
        },
        {
          "output_type": "stream",
          "name": "stderr",
          "text": [
            "100%|██████████| 5386/5386 [01:04<00:00, 83.99it/s]\n"
          ]
        },
        {
          "output_type": "stream",
          "name": "stdout",
          "text": [
            "유루증(무) >> "
          ]
        },
        {
          "output_type": "stream",
          "name": "stderr",
          "text": [
            "100%|██████████| 10800/10800 [08:17<00:00, 21.71it/s]\n"
          ]
        },
        {
          "output_type": "stream",
          "name": "stdout",
          "text": [
            "유루증(유) >> "
          ]
        },
        {
          "output_type": "stream",
          "name": "stderr",
          "text": [
            "100%|██████████| 10797/10797 [06:55<00:00, 26.01it/s]\n"
          ]
        },
        {
          "output_type": "stream",
          "name": "stdout",
          "text": [
            "핵경화(무) >> "
          ]
        },
        {
          "output_type": "stream",
          "name": "stderr",
          "text": [
            "100%|██████████| 10800/10800 [08:03<00:00, 22.33it/s]\n"
          ]
        },
        {
          "output_type": "stream",
          "name": "stdout",
          "text": [
            "핵경화(유) >> "
          ]
        },
        {
          "output_type": "stream",
          "name": "stderr",
          "text": [
            "100%|██████████| 10798/10798 [03:00<00:00, 59.89it/s]\n"
          ]
        }
      ]
    },
    {
      "cell_type": "code",
      "source": [
        "for label in os.listdir(\"개_안구_squared\"):\n",
        "    count = !ls \"개_안구_squared/\"{label} | wc -l\n",
        "    print(f\"{label} : {count}\")\n",
        "\n"
      ],
      "metadata": {
        "colab": {
          "base_uri": "https://localhost:8080/"
        },
        "id": "JWh6QeTqcNo_",
        "outputId": "3ba56801-b649-4bb8-f489-94bf13619702"
      },
      "execution_count": null,
      "outputs": [
        {
          "output_type": "stream",
          "name": "stdout",
          "text": [
            "결막염 : ['1105']\n",
            "궤양성각막질환 : ['4142']\n",
            "백내장 : ['1070']\n",
            "비궤양성각막질환 : ['756']\n",
            "색소침착성각막염 : ['443']\n",
            "안검내반증 : ['6738']\n",
            "안검염 : ['1277']\n",
            "안검종양 : ['101']\n",
            "유루증 : ['8402']\n",
            "정상 : ['85139']\n",
            "핵경화 : ['712']\n"
          ]
        }
      ]
    },
    {
      "cell_type": "code",
      "source": [
        "!zip -qr 개_안구_squared.zip 개_안구_squared"
      ],
      "metadata": {
        "id": "7YlL7uL8Jo3y"
      },
      "execution_count": null,
      "outputs": []
    }
  ]
}