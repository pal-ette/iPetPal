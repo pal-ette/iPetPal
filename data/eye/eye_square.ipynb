{
  "nbformat": 4,
  "nbformat_minor": 0,
  "metadata": {
    "colab": {
      "provenance": []
    },
    "kernelspec": {
      "name": "python3",
      "display_name": "Python 3"
    },
    "language_info": {
      "name": "python"
    }
  },
  "cells": [
    {
      "cell_type": "code",
      "execution_count": null,
      "metadata": {
        "colab": {
          "base_uri": "https://localhost:8080/"
        },
        "id": "vgRmZYR2Qqo9",
        "outputId": "57bcb7e6-b48f-472b-8387-15f3a8d07fed"
      },
      "outputs": [
        {
          "output_type": "stream",
          "name": "stdout",
          "text": [
            "  % Total    % Received % Xferd  Average Speed   Time    Time     Time  Current\n",
            "                                 Dload  Upload   Total   Spent    Left  Speed\n",
            "\r  0     0    0     0    0     0      0      0 --:--:-- --:--:-- --:--:--     0\r100  6634  100  6634    0     0  39779      0 --:--:-- --:--:-- --:--:-- 39963\n"
          ]
        }
      ],
      "source": [
        "!curl -o \"aihubshell\" https://api.aihub.or.kr/api/aihubshell.do\n",
        "!chmod +x aihubshell\n",
        "AIHUB_ID = \"ryugibo@daum.net\" # @param {type:\"string\"}\n",
        "AIHUB_PW = \"\" # @param {type:\"string\"}"
      ]
    },
    {
      "cell_type": "code",
      "source": [
        "%cd CVProject"
      ],
      "metadata": {
        "colab": {
          "base_uri": "https://localhost:8080/"
        },
        "id": "d2QP_O3TRToG",
        "outputId": "dfd5f9fb-cdb3-4044-e51b-aebbabef19ca"
      },
      "execution_count": null,
      "outputs": [
        {
          "output_type": "stream",
          "name": "stdout",
          "text": [
            "/content/CVProject\n"
          ]
        }
      ]
    },
    {
      "cell_type": "code",
      "source": [
        "!../aihubshell -mode l -datasetkey 562 -filekey 51881"
      ],
      "metadata": {
        "colab": {
          "base_uri": "https://localhost:8080/"
        },
        "id": "lHil4UaiRIv5",
        "outputId": "ccafc56a-ef2e-478c-f6ce-5ae487d81a23"
      },
      "execution_count": null,
      "outputs": [
        {
          "output_type": "stream",
          "name": "stdout",
          "text": [
            "==========================================\n",
            "aihubshell version 24.01.29 v0.3\n",
            "==========================================\n",
            "Fetching file tree structure...\n",
            "The contents are encoded in UTF-8 including Korean characters. \n",
            "If the following contents are not output normally, \n",
            "Please modify the character information of the OS. \n",
            "=================공지사항=================== \n",
            "========================================== \n",
            "\n",
            "    └─153.반려동물 안구질환 데이터\n",
            "        ├─02.저작도구\n",
            "        │  ├─저작도구 소스코드.zip | 153 MB | 55226\n",
            "        │  └─저작도구 설명서.zip | 4 MB | 55227\n",
            "        └─01.데이터\n",
            "            ├─1.Training\n",
            "            │  ├─라벨링데이터\n",
            "            │  │  ├─TL1.zip | 5 GB | 51880\n",
            "            │  │  └─TL2.zip | 7 GB | 51881\n",
            "            │  └─원천데이터\n",
            "            │      ├─TS1.zip | 76 GB | 51882\n",
            "            │      └─TS2.zip | 94 GB | 51883\n",
            "            └─2.Validation\n",
            "                ├─라벨링데이터\n",
            "                │  └─VL.zip | 1 GB | 51884\n",
            "                └─원천데이터\n",
            "                    └─VS.zip | 18 GB | 51885\n"
          ]
        }
      ]
    },
    {
      "cell_type": "code",
      "source": [
        "!../aihubshell -mode d -datasetkey 562 -filekey 51880,51881,51884 -aihubpw {AIHUB_PW} -aihubid {AIHUB_ID}"
      ],
      "metadata": {
        "colab": {
          "base_uri": "https://localhost:8080/"
        },
        "id": "S8jQQ_rkRKOH",
        "outputId": "f4d5b196-1e15-48be-b8f6-85a941666cfd"
      },
      "execution_count": null,
      "outputs": [
        {
          "output_type": "stream",
          "name": "stdout",
          "text": [
            "==========================================\n",
            "aihubshell version 24.01.29 v0.3\n",
            "==========================================\n",
            "Authentication successful.\n",
            "  % Total    % Received % Xferd  Average Speed   Time    Time     Time  Current\n",
            "                                 Dload  Upload   Total   Spent    Left  Speed\n",
            "  0     0    0     0    0     0      0      0 --:--:-- --:--:-- --:--:--     0\n",
            "100 12.9G    0 12.9G    0     0  18.3M      0 --:--:--  0:12:00 --:--:-- 18.8M\n",
            "Request successful with HTTP status 200.\n",
            "Download successful.\n",
            "153.반려동물_안구질환_데이터/01.데이터/2.Validation/라벨링데이터/VL.zip.part0\n",
            "153.반려동물_안구질환_데이터/01.데이터/2.Validation/라벨링데이터/VL.zip.part1073741824\n",
            "153.반려동물_안구질환_데이터/01.데이터/1.Training/라벨링데이터/TL2.zip.part0\n",
            "153.반려동물_안구질환_데이터/01.데이터/1.Training/라벨링데이터/TL2.zip.part1073741824\n",
            "153.반려동물_안구질환_데이터/01.데이터/1.Training/라벨링데이터/TL2.zip.part2147483648\n",
            "153.반려동물_안구질환_데이터/01.데이터/1.Training/라벨링데이터/TL2.zip.part3221225472\n",
            "153.반려동물_안구질환_데이터/01.데이터/1.Training/라벨링데이터/TL2.zip.part4294967296\n",
            "153.반려동물_안구질환_데이터/01.데이터/1.Training/라벨링데이터/TL2.zip.part5368709120\n",
            "153.반려동물_안구질환_데이터/01.데이터/1.Training/라벨링데이터/TL2.zip.part6442450944\n",
            "153.반려동물_안구질환_데이터/01.데이터/1.Training/라벨링데이터/TL1.zip.part0\n",
            "153.반려동물_안구질환_데이터/01.데이터/1.Training/라벨링데이터/TL1.zip.part1073741824\n",
            "153.반려동물_안구질환_데이터/01.데이터/1.Training/라벨링데이터/TL1.zip.part2147483648\n",
            "153.반려동물_안구질환_데이터/01.데이터/1.Training/라벨링데이터/TL1.zip.part3221225472\n",
            "153.반려동물_안구질환_데이터/01.데이터/1.Training/라벨링데이터/TL1.zip.part4294967296\n",
            "잠시 기다려 주세요 병합중 입니다. \n",
            "Merging TL1.zip in ./153.반려동물_안구질환_데이터/01.데이터/1.Training/라벨링데이터\n",
            "Merging TL2.zip in ./153.반려동물_안구질환_데이터/01.데이터/1.Training/라벨링데이터\n",
            "Merging VL.zip in ./153.반려동물_안구질환_데이터/01.데이터/2.Validation/라벨링데이터\n",
            "병합이 완료 되었습니다. \n"
          ]
        }
      ]
    },
    {
      "cell_type": "code",
      "source": [
        "!unzip -l /content/CVProject/153.반려동물_안구질환_데이터/01.데이터/1.Training/라벨링데이터/TL1.zip -x */*/안구초음파**"
      ],
      "metadata": {
        "id": "DGCLIN0Ed-oj"
      },
      "execution_count": null,
      "outputs": []
    },
    {
      "cell_type": "code",
      "source": [
        "!unzip -q /content/CVProject/153.반려동물_안구질환_데이터/01.데이터/1.Training/라벨링데이터/TL1.zip -d ./raw_datas -x */*/안구초음파**"
      ],
      "metadata": {
        "id": "Ii5fqv7tRbEu"
      },
      "execution_count": null,
      "outputs": []
    },
    {
      "cell_type": "code",
      "source": [
        "!unzip -q /content/CVProject/153.반려동물_안구질환_데이터/01.데이터/1.Training/라벨링데이터/TL2.zip -d ./raw_datas -x */*/안구초음파**"
      ],
      "metadata": {
        "id": "_5GKR6K6YeXJ"
      },
      "execution_count": null,
      "outputs": []
    },
    {
      "cell_type": "code",
      "source": [
        "!unzip -q /content/CVProject/153.반려동물_안구질환_데이터/01.데이터/2.Validation/라벨링데이터/VL.zip -d ./raw_datas -x */*/안구초음파**"
      ],
      "metadata": {
        "id": "GQwCbFDwe5yt"
      },
      "execution_count": null,
      "outputs": []
    },
    {
      "cell_type": "code",
      "source": [
        "import os\n",
        "os.getcwd()"
      ],
      "metadata": {
        "colab": {
          "base_uri": "https://localhost:8080/",
          "height": 35
        },
        "id": "cimEyb6nXkbK",
        "outputId": "fe5e99b4-1717-4eac-8e3c-99cbbbeed4dd"
      },
      "execution_count": null,
      "outputs": [
        {
          "output_type": "execute_result",
          "data": {
            "text/plain": [
              "'/content'"
            ],
            "application/vnd.google.colaboratory.intrinsic+json": {
              "type": "string"
            }
          },
          "metadata": {},
          "execution_count": 1
        }
      ]
    },
    {
      "cell_type": "code",
      "source": [
        "import glob\n",
        "import json\n",
        "import os\n",
        "from PIL import Image, ImageChops\n",
        "from tqdm import tqdm\n",
        "\n",
        "\n",
        "def trim(im):\n",
        "    bg = Image.new(im.mode, im.size, im.getpixel((0,0)))\n",
        "    diff = ImageChops.difference(im, bg)\n",
        "    diff = ImageChops.add(diff, diff, 2.0, -100)\n",
        "    bbox = diff.getbbox()\n",
        "    if bbox:\n",
        "        return im.crop(bbox)\n",
        "    return im\n",
        "\n",
        "\n",
        "for desease in os.listdir(\"CVProject/raw_datas/개/안구/일반\"):\n",
        "    if desease.startswith(\".\"):\n",
        "        continue\n",
        "    desease_path = f\"CVProject/raw_datas/개/안구/일반/{desease}\"\n",
        "    for sick in os.listdir(desease_path):\n",
        "        if sick.startswith(\".\"):\n",
        "            continue\n",
        "        sick_path = f\"{desease_path}/{sick}\"\n",
        "        print(f\"{desease}({sick})\", end=\" >> \")\n",
        "        for meta_path in tqdm(glob.glob(f\"{sick_path}/*.json\"), position=0, leave=True):\n",
        "            f = open(meta_path, \"r\")\n",
        "            meta = json.load(f)\n",
        "            f.close()\n",
        "\n",
        "            img_filename = meta['label']['label_filename']\n",
        "            img_filepath = f\"{os.path.dirname(meta_path)}/{img_filename}\"\n",
        "\n",
        "            img = None\n",
        "            if os.path.isfile(img_filepath):\n",
        "                img = Image.open(img_filepath)\n",
        "            elif os.path.isfile(f\"{img_filepath}.jpg\"):\n",
        "                img = Image.open(f\"{img_filepath}.jpg\")\n",
        "            elif os.path.isfile(f\"{img_filepath}.jpeg\"):\n",
        "                img = Image.open(f\"{img_filepath}.jpeg\")\n",
        "            elif os.path.isfile(f\"{img_filepath}.png\"):\n",
        "                img = Image.open(f\"{img_filepath}.png\")\n",
        "\n",
        "            if img is None:\n",
        "                print(f\"'{img_filepath}' is not exist. in '{meta_path}'\")\n",
        "                continue\n",
        "\n",
        "            if \".\" not in img_filepath:\n",
        "                print(f\"NO EXTENSION {desease}({sick}) {img_filepath}\")\n",
        "                img_filepath = f\"{img_filepath}.jpg\"\n",
        "\n",
        "            img = trim(img)\n",
        "\n",
        "            min_size = min(img.width, img.height)\n",
        "            x_crop = img.width - min_size\n",
        "            y_crop = img.height - min_size\n",
        "            img = img.crop((x_crop / 2, y_crop / 2, img.width - (x_crop / 2), img.height - (y_crop / 2)))\n",
        "            img = img.resize((224, 224), Image.Resampling.LANCZOS)\n",
        "\n",
        "            save_dir = f\"CVProject/개_안구_resized_keep/{desease}/{sick}\"\n",
        "            os.makedirs(save_dir, exist_ok=True)\n",
        "            img.save(f\"{save_dir}/{img_filename.replace('.png', '.jpg')}\", \"JPEG\")"
      ],
      "metadata": {
        "colab": {
          "base_uri": "https://localhost:8080/"
        },
        "id": "TwWABhDgoDHc",
        "outputId": "6820e05c-493d-49f2-d384-6d3e275e7caf"
      },
      "execution_count": 2,
      "outputs": [
        {
          "output_type": "stream",
          "name": "stdout",
          "text": [
            "결막염(무) >> "
          ]
        },
        {
          "output_type": "stream",
          "name": "stderr",
          "text": [
            "100%|██████████| 10800/10800 [11:29<00:00, 15.67it/s]\n"
          ]
        },
        {
          "output_type": "stream",
          "name": "stdout",
          "text": [
            "결막염(유) >> "
          ]
        },
        {
          "output_type": "stream",
          "name": "stderr",
          "text": [
            "100%|██████████| 10801/10801 [09:02<00:00, 19.93it/s]\n"
          ]
        },
        {
          "output_type": "stream",
          "name": "stdout",
          "text": [
            "궤양성각막질환(무) >> "
          ]
        },
        {
          "output_type": "stream",
          "name": "stderr",
          "text": [
            "100%|██████████| 7740/7740 [06:03<00:00, 21.29it/s]\n"
          ]
        },
        {
          "output_type": "stream",
          "name": "stdout",
          "text": [
            "궤양성각막질환(상) >> "
          ]
        },
        {
          "output_type": "stream",
          "name": "stderr",
          "text": [
            "  9%|▊         | 658/7727 [00:26<04:47, 24.55it/s]"
          ]
        },
        {
          "output_type": "stream",
          "name": "stdout",
          "text": [
            "NO EXTENSION 궤양성각막질환(상) CVProject/raw_datas/개/안구/일반/궤양성각막질환/상/crop_D14_116cbff7-60a5-11ec-8402-0a7404972c70\n"
          ]
        },
        {
          "output_type": "stream",
          "name": "stderr",
          "text": [
            "\r  9%|▊         | 661/7727 [00:26<05:37, 20.94it/s]"
          ]
        },
        {
          "output_type": "stream",
          "name": "stdout",
          "text": [
            "NO EXTENSION 궤양성각막질환(상) CVProject/raw_datas/개/안구/일반/궤양성각막질환/상/crop_D14_1271c9d1-60a5-11ec-8402-0a7404972c70\n"
          ]
        },
        {
          "output_type": "stream",
          "name": "stderr",
          "text": [
            "  9%|▉         | 697/7727 [00:28<04:45, 24.65it/s]"
          ]
        },
        {
          "output_type": "stream",
          "name": "stdout",
          "text": [
            "NO EXTENSION 궤양성각막질환(상) CVProject/raw_datas/개/안구/일반/궤양성각막질환/상/crop_D14_214c6b62-60a5-11ec-8402-0a7404972c70\n"
          ]
        },
        {
          "output_type": "stream",
          "name": "stderr",
          "text": [
            "100%|██████████| 7727/7727 [05:08<00:00, 25.04it/s]\n"
          ]
        },
        {
          "output_type": "stream",
          "name": "stdout",
          "text": [
            "궤양성각막질환(하) >> "
          ]
        },
        {
          "output_type": "stream",
          "name": "stderr",
          "text": [
            " 47%|████▋     | 3661/7741 [02:31<02:34, 26.46it/s]"
          ]
        },
        {
          "output_type": "stream",
          "name": "stdout",
          "text": [
            "NO EXTENSION 궤양성각막질환(하) CVProject/raw_datas/개/안구/일반/궤양성각막질환/하/crop_D35_1511bb1a-60a5-11ec-8402-0a7404972c70\n"
          ]
        },
        {
          "output_type": "stream",
          "name": "stderr",
          "text": [
            " 94%|█████████▎| 7256/7741 [04:45<00:12, 38.33it/s]"
          ]
        },
        {
          "output_type": "stream",
          "name": "stdout",
          "text": [
            "NO EXTENSION 궤양성각막질환(하) CVProject/raw_datas/개/안구/일반/궤양성각막질환/하/crop_D6_1596b783-60a5-11ec-8402-0a7404972c70\n"
          ]
        },
        {
          "output_type": "stream",
          "name": "stderr",
          "text": [
            "100%|██████████| 7741/7741 [04:58<00:00, 25.95it/s]\n"
          ]
        },
        {
          "output_type": "stream",
          "name": "stdout",
          "text": [
            "백내장(무) >> "
          ]
        },
        {
          "output_type": "stream",
          "name": "stderr",
          "text": [
            "100%|██████████| 7740/7740 [05:17<00:00, 24.38it/s]\n"
          ]
        },
        {
          "output_type": "stream",
          "name": "stdout",
          "text": [
            "백내장(비성숙) >> "
          ]
        },
        {
          "output_type": "stream",
          "name": "stderr",
          "text": [
            " 21%|██        | 1610/7758 [01:04<04:03, 25.24it/s]"
          ]
        },
        {
          "output_type": "stream",
          "name": "stdout",
          "text": [
            "NO EXTENSION 백내장(비성숙) CVProject/raw_datas/개/안구/일반/백내장/비성숙/crop_D20_151855da-60a5-11ec-8402-0a7404972c70\n"
          ]
        },
        {
          "output_type": "stream",
          "name": "stderr",
          "text": [
            " 41%|████▏     | 3219/7758 [02:07<02:52, 26.38it/s]"
          ]
        },
        {
          "output_type": "stream",
          "name": "stdout",
          "text": [
            "NO EXTENSION 백내장(비성숙) CVProject/raw_datas/개/안구/일반/백내장/비성숙/crop_D31_1536fda4-60a5-11ec-8402-0a7404972c70\n"
          ]
        },
        {
          "output_type": "stream",
          "name": "stderr",
          "text": [
            " 66%|██████▋   | 5155/7758 [03:49<02:24, 18.05it/s]"
          ]
        },
        {
          "output_type": "stream",
          "name": "stdout",
          "text": [
            "NO EXTENSION 백내장(비성숙) CVProject/raw_datas/개/안구/일반/백내장/비성숙/crop_D45_1543cbf3-60a5-11ec-8402-0a7404972c70\n"
          ]
        },
        {
          "output_type": "stream",
          "name": "stderr",
          "text": [
            "100%|██████████| 7758/7758 [05:55<00:00, 21.85it/s]\n"
          ]
        },
        {
          "output_type": "stream",
          "name": "stdout",
          "text": [
            "백내장(성숙) >> "
          ]
        },
        {
          "output_type": "stream",
          "name": "stderr",
          "text": [
            " 54%|█████▎    | 4143/7727 [02:43<02:10, 27.49it/s]"
          ]
        },
        {
          "output_type": "stream",
          "name": "stdout",
          "text": [
            "NO EXTENSION 백내장(성숙) CVProject/raw_datas/개/안구/일반/백내장/성숙/crop_D38_1539db64-60a5-11ec-8402-0a7404972c70\n"
          ]
        },
        {
          "output_type": "stream",
          "name": "stderr",
          "text": [
            "100%|██████████| 7727/7727 [05:03<00:00, 25.43it/s]\n"
          ]
        },
        {
          "output_type": "stream",
          "name": "stdout",
          "text": [
            "백내장(초기) >> "
          ]
        },
        {
          "output_type": "stream",
          "name": "stderr",
          "text": [
            "100%|██████████| 7738/7738 [05:32<00:00, 23.26it/s]\n"
          ]
        },
        {
          "output_type": "stream",
          "name": "stdout",
          "text": [
            "비궤양성각막질환(무) >> "
          ]
        },
        {
          "output_type": "stream",
          "name": "stderr",
          "text": [
            "100%|██████████| 5400/5400 [06:00<00:00, 14.99it/s]\n"
          ]
        },
        {
          "output_type": "stream",
          "name": "stdout",
          "text": [
            "비궤양성각막질환(상) >> "
          ]
        },
        {
          "output_type": "stream",
          "name": "stderr",
          "text": [
            "100%|██████████| 5399/5399 [05:08<00:00, 17.52it/s]\n"
          ]
        },
        {
          "output_type": "stream",
          "name": "stdout",
          "text": [
            "비궤양성각막질환(하) >> "
          ]
        },
        {
          "output_type": "stream",
          "name": "stderr",
          "text": [
            " 34%|███▍      | 1827/5404 [01:37<02:36, 22.79it/s]"
          ]
        },
        {
          "output_type": "stream",
          "name": "stdout",
          "text": [
            "NO EXTENSION 비궤양성각막질환(하) CVProject/raw_datas/개/안구/일반/비궤양성각막질환/하/crop_D27_21397a8e-60a5-11ec-8402-0a7404972c70\n"
          ]
        },
        {
          "output_type": "stream",
          "name": "stderr",
          "text": [
            " 45%|████▌     | 2450/5404 [02:06<02:25, 20.30it/s]"
          ]
        },
        {
          "output_type": "stream",
          "name": "stdout",
          "text": [
            "NO EXTENSION 비궤양성각막질환(하) CVProject/raw_datas/개/안구/일반/비궤양성각막질환/하/crop_D33_21352f61-60a5-11ec-8402-0a7404972c70\n"
          ]
        },
        {
          "output_type": "stream",
          "name": "stderr",
          "text": [
            " 73%|███████▎  | 3919/5404 [03:31<01:49, 13.61it/s]"
          ]
        },
        {
          "output_type": "stream",
          "name": "stdout",
          "text": [
            "NO EXTENSION 비궤양성각막질환(하) CVProject/raw_datas/개/안구/일반/비궤양성각막질환/하/crop_D49_0e807bc1-60a5-11ec-8402-0a7404972c70\n"
          ]
        },
        {
          "output_type": "stream",
          "name": "stderr",
          "text": [
            "100%|██████████| 5404/5404 [04:43<00:00, 19.06it/s]\n"
          ]
        },
        {
          "output_type": "stream",
          "name": "stdout",
          "text": [
            "색소침착성각막염(무) >> "
          ]
        },
        {
          "output_type": "stream",
          "name": "stderr",
          "text": [
            "100%|██████████| 7920/7920 [08:07<00:00, 16.26it/s]\n"
          ]
        },
        {
          "output_type": "stream",
          "name": "stdout",
          "text": [
            "색소침착성각막염(유) >> "
          ]
        },
        {
          "output_type": "stream",
          "name": "stderr",
          "text": [
            "  8%|▊         | 655/7922 [00:36<07:09, 16.91it/s]"
          ]
        },
        {
          "output_type": "stream",
          "name": "stdout",
          "text": [
            "NO EXTENSION 색소침착성각막염(유) CVProject/raw_datas/개/안구/일반/색소침착성각막염/유/crop_D14_15974602-60a5-11ec-8402-0a7404972c70\n"
          ]
        },
        {
          "output_type": "stream",
          "name": "stderr",
          "text": [
            " 73%|███████▎  | 5760/7922 [05:25<01:39, 21.77it/s]"
          ]
        },
        {
          "output_type": "stream",
          "name": "stdout",
          "text": [
            "NO EXTENSION 색소침착성각막염(유) CVProject/raw_datas/개/안구/일반/색소침착성각막염/유/crop_D49_151a1f72-60a5-11ec-8402-0a7404972c70\n"
          ]
        },
        {
          "output_type": "stream",
          "name": "stderr",
          "text": [
            " 74%|███████▍  | 5891/7922 [05:33<01:46, 19.08it/s]"
          ]
        },
        {
          "output_type": "stream",
          "name": "stdout",
          "text": [
            "NO EXTENSION 색소침착성각막염(유) CVProject/raw_datas/개/안구/일반/색소침착성각막염/유/crop_D4_1533ff97-60a5-11ec-8402-0a7404972c70\n"
          ]
        },
        {
          "output_type": "stream",
          "name": "stderr",
          "text": [
            "100%|██████████| 7922/7922 [07:32<00:00, 17.53it/s]\n"
          ]
        },
        {
          "output_type": "stream",
          "name": "stdout",
          "text": [
            "안검내반증(무) >> "
          ]
        },
        {
          "output_type": "stream",
          "name": "stderr",
          "text": [
            "100%|██████████| 10799/10799 [11:31<00:00, 15.61it/s]\n"
          ]
        },
        {
          "output_type": "stream",
          "name": "stdout",
          "text": [
            "안검내반증(유) >> "
          ]
        },
        {
          "output_type": "stream",
          "name": "stderr",
          "text": [
            "  9%|▉         | 991/10799 [01:01<10:15, 15.93it/s]"
          ]
        },
        {
          "output_type": "stream",
          "name": "stdout",
          "text": [
            "NO EXTENSION 안검내반증(유) CVProject/raw_datas/개/안구/일반/안검내반증/유/crop_D14_153daf0d-60a5-11ec-8402-0a7404972c70\n"
          ]
        },
        {
          "output_type": "stream",
          "name": "stderr",
          "text": [
            " 16%|█▌        | 1721/10799 [01:50<07:22, 20.51it/s]"
          ]
        },
        {
          "output_type": "stream",
          "name": "stdout",
          "text": [
            "NO EXTENSION 안검내반증(유) CVProject/raw_datas/개/안구/일반/안검내반증/유/crop_D18_152ddcf4-60a5-11ec-8402-0a7404972c70\n"
          ]
        },
        {
          "output_type": "stream",
          "name": "stderr",
          "text": [
            " 26%|██▌       | 2783/10799 [02:46<06:06, 21.87it/s]"
          ]
        },
        {
          "output_type": "stream",
          "name": "stdout",
          "text": [
            "NO EXTENSION 안검내반증(유) CVProject/raw_datas/개/안구/일반/안검내반증/유/crop_D23_0e807ae3-60a5-11ec-8402-0a7404972c70\n"
          ]
        },
        {
          "output_type": "stream",
          "name": "stderr",
          "text": [
            " 41%|████      | 4388/10799 [04:19<06:23, 16.70it/s]"
          ]
        },
        {
          "output_type": "stream",
          "name": "stdout",
          "text": [
            "NO EXTENSION 안검내반증(유) CVProject/raw_datas/개/안구/일반/안검내반증/유/crop_D31_1546a7b6-60a5-11ec-8402-0a7404972c70\n"
          ]
        },
        {
          "output_type": "stream",
          "name": "stderr",
          "text": [
            " 65%|██████▍   | 6966/10799 [06:58<03:49, 16.70it/s]"
          ]
        },
        {
          "output_type": "stream",
          "name": "stdout",
          "text": [
            "NO EXTENSION 안검내반증(유) CVProject/raw_datas/개/안구/일반/안검내반증/유/crop_D44_1528ab1e-60a5-11ec-8402-0a7404972c70\n"
          ]
        },
        {
          "output_type": "stream",
          "name": "stderr",
          "text": [
            " 72%|███████▏  | 7802/10799 [07:44<03:09, 15.78it/s]"
          ]
        },
        {
          "output_type": "stream",
          "name": "stdout",
          "text": [
            "NO EXTENSION 안검내반증(유) CVProject/raw_datas/개/안구/일반/안검내반증/유/crop_D49_154bb0b8-60a5-11ec-8402-0a7404972c70\n"
          ]
        },
        {
          "output_type": "stream",
          "name": "stderr",
          "text": [
            " 81%|████████  | 8698/10799 [08:43<02:29, 14.08it/s]"
          ]
        },
        {
          "output_type": "stream",
          "name": "stdout",
          "text": [
            "NO EXTENSION 안검내반증(유) CVProject/raw_datas/개/안구/일반/안검내반증/유/crop_D53_1570a582-60a5-11ec-8402-0a7404972c70\n"
          ]
        },
        {
          "output_type": "stream",
          "name": "stderr",
          "text": [
            " 84%|████████▍ | 9057/10799 [09:08<01:37, 17.88it/s]"
          ]
        },
        {
          "output_type": "stream",
          "name": "stdout",
          "text": [
            "NO EXTENSION 안검내반증(유) CVProject/raw_datas/개/안구/일반/안검내반증/유/crop_D55_152a334d-60a5-11ec-8402-0a7404972c70\n"
          ]
        },
        {
          "output_type": "stream",
          "name": "stderr",
          "text": [
            " 94%|█████████▍| 10162/10799 [10:11<00:29, 21.85it/s]"
          ]
        },
        {
          "output_type": "stream",
          "name": "stdout",
          "text": [
            "NO EXTENSION 안검내반증(유) CVProject/raw_datas/개/안구/일반/안검내반증/유/crop_D6_1526672f-60a5-11ec-8402-0a7404972c70\n"
          ]
        },
        {
          "output_type": "stream",
          "name": "stderr",
          "text": [
            " 96%|█████████▌| 10347/10799 [10:22<00:29, 15.51it/s]"
          ]
        },
        {
          "output_type": "stream",
          "name": "stdout",
          "text": [
            "NO EXTENSION 안검내반증(유) CVProject/raw_datas/개/안구/일반/안검내반증/유/crop_D7_152bd504-60a5-11ec-8402-0a7404972c70\n"
          ]
        },
        {
          "output_type": "stream",
          "name": "stderr",
          "text": [
            "100%|██████████| 10799/10799 [10:47<00:00, 16.69it/s]\n"
          ]
        },
        {
          "output_type": "stream",
          "name": "stdout",
          "text": [
            "안검염(무) >> "
          ]
        },
        {
          "output_type": "stream",
          "name": "stderr",
          "text": [
            "100%|██████████| 7740/7740 [08:09<00:00, 15.80it/s]\n"
          ]
        },
        {
          "output_type": "stream",
          "name": "stdout",
          "text": [
            "안검염(유) >> "
          ]
        },
        {
          "output_type": "stream",
          "name": "stderr",
          "text": [
            "  8%|▊         | 598/7738 [00:39<07:50, 15.16it/s]"
          ]
        },
        {
          "output_type": "stream",
          "name": "stdout",
          "text": [
            "NO EXTENSION 안검염(유) CVProject/raw_datas/개/안구/일반/안검염/유/crop_D13_1d02d505-60a5-11ec-8402-0a7404972c70\n"
          ]
        },
        {
          "output_type": "stream",
          "name": "stderr",
          "text": [
            " 13%|█▎        | 1040/7738 [01:05<06:48, 16.40it/s]"
          ]
        },
        {
          "output_type": "stream",
          "name": "stdout",
          "text": [
            "NO EXTENSION 안검염(유) CVProject/raw_datas/개/안구/일반/안검염/유/crop_D17_0e807a74-60a5-11ec-8402-0a7404972c70\n"
          ]
        },
        {
          "output_type": "stream",
          "name": "stderr",
          "text": [
            " 20%|██        | 1564/7738 [01:32<05:18, 19.37it/s]"
          ]
        },
        {
          "output_type": "stream",
          "name": "stdout",
          "text": [
            "NO EXTENSION 안검염(유) CVProject/raw_datas/개/안구/일반/안검염/유/crop_D20_1cf18687-60a5-11ec-8402-0a7404972c70\n"
          ]
        },
        {
          "output_type": "stream",
          "name": "stderr",
          "text": [
            " 27%|██▋       | 2078/7738 [02:02<05:31, 17.08it/s]"
          ]
        },
        {
          "output_type": "stream",
          "name": "stdout",
          "text": [
            "NO EXTENSION 안검염(유) CVProject/raw_datas/개/안구/일반/안검염/유/crop_D24_1cf0f819-60a5-11ec-8402-0a7404972c70\n"
          ]
        },
        {
          "output_type": "stream",
          "name": "stderr",
          "text": [
            " 27%|██▋       | 2084/7738 [02:02<05:35, 16.83it/s]"
          ]
        },
        {
          "output_type": "stream",
          "name": "stdout",
          "text": [
            "NO EXTENSION 안검염(유) CVProject/raw_datas/개/안구/일반/안검염/유/crop_D24_1d092d88-60a5-11ec-8402-0a7404972c70\n"
          ]
        },
        {
          "output_type": "stream",
          "name": "stderr",
          "text": [
            " 35%|███▌      | 2713/7738 [02:39<03:18, 25.26it/s]"
          ]
        },
        {
          "output_type": "stream",
          "name": "stdout",
          "text": [
            "NO EXTENSION 안검염(유) CVProject/raw_datas/개/안구/일반/안검염/유/crop_D29_1cf66ef0-60a5-11ec-8402-0a7404972c70\n"
          ]
        },
        {
          "output_type": "stream",
          "name": "stderr",
          "text": [
            " 54%|█████▎    | 4159/7738 [04:02<03:38, 16.38it/s]"
          ]
        },
        {
          "output_type": "stream",
          "name": "stdout",
          "text": [
            "NO EXTENSION 안검염(유) CVProject/raw_datas/개/안구/일반/안검염/유/crop_D39_1d08efe6-60a5-11ec-8402-0a7404972c70\n"
          ]
        },
        {
          "output_type": "stream",
          "name": "stderr",
          "text": [
            "100%|██████████| 7738/7738 [07:21<00:00, 17.53it/s]\n"
          ]
        },
        {
          "output_type": "stream",
          "name": "stdout",
          "text": [
            "안검종양(무) >> "
          ]
        },
        {
          "output_type": "stream",
          "name": "stderr",
          "text": [
            "100%|██████████| 5400/5400 [07:17<00:00, 12.34it/s]\n"
          ]
        },
        {
          "output_type": "stream",
          "name": "stdout",
          "text": [
            "안검종양(유) >> "
          ]
        },
        {
          "output_type": "stream",
          "name": "stderr",
          "text": [
            " 54%|█████▎    | 2885/5386 [02:47<01:51, 22.40it/s]"
          ]
        },
        {
          "output_type": "stream",
          "name": "stdout",
          "text": [
            "NO EXTENSION 안검종양(유) CVProject/raw_datas/개/안구/일반/안검종양/유/crop_D39_0dd1859c-60a5-11ec-8402-0a7404972c70\n"
          ]
        },
        {
          "output_type": "stream",
          "name": "stderr",
          "text": [
            "100%|██████████| 5386/5386 [05:03<00:00, 17.74it/s]\n"
          ]
        },
        {
          "output_type": "stream",
          "name": "stdout",
          "text": [
            "유루증(무) >> "
          ]
        },
        {
          "output_type": "stream",
          "name": "stderr",
          "text": [
            "100%|██████████| 10800/10800 [10:58<00:00, 16.40it/s]\n"
          ]
        },
        {
          "output_type": "stream",
          "name": "stdout",
          "text": [
            "유루증(유) >> "
          ]
        },
        {
          "output_type": "stream",
          "name": "stderr",
          "text": [
            " 80%|███████▉  | 8615/10797 [07:57<01:29, 24.40it/s]"
          ]
        },
        {
          "output_type": "stream",
          "name": "stdout",
          "text": [
            "NO EXTENSION 유루증(유) CVProject/raw_datas/개/안구/일반/유루증/유/crop_D52_0dd18607-60a5-11ec-8402-0a7404972c70\n"
          ]
        },
        {
          "output_type": "stream",
          "name": "stderr",
          "text": [
            "100%|██████████| 10797/10797 [09:41<00:00, 18.58it/s]\n"
          ]
        },
        {
          "output_type": "stream",
          "name": "stdout",
          "text": [
            "핵경화(무) >> "
          ]
        },
        {
          "output_type": "stream",
          "name": "stderr",
          "text": [
            "100%|██████████| 10800/10800 [09:14<00:00, 19.47it/s]\n"
          ]
        },
        {
          "output_type": "stream",
          "name": "stdout",
          "text": [
            "핵경화(유) >> "
          ]
        },
        {
          "output_type": "stream",
          "name": "stderr",
          "text": [
            "100%|██████████| 10798/10798 [07:56<00:00, 22.65it/s]\n"
          ]
        }
      ]
    },
    {
      "cell_type": "code",
      "source": [
        "basepath = \"CVProject/개_안구_resized_keep\"\n",
        "for desease in os.listdir(basepath):\n",
        "    if desease.startswith(\".\"):\n",
        "        continue\n",
        "    desease_path = f\"{basepath}/{desease}\"\n",
        "    for sick in os.listdir(desease_path):\n",
        "        if sick.startswith(\".\"):\n",
        "            continue\n",
        "        sick_path = f\"{desease_path}/{sick}\"\n",
        "        count = !ls {sick_path} | wc -l\n",
        "        print(f\"{desease}/{sick} : {count}\")"
      ],
      "metadata": {
        "id": "c-G2EipRRf_E",
        "outputId": "a2e5dbfc-8972-4fcf-b370-8f8012f6b4f1",
        "colab": {
          "base_uri": "https://localhost:8080/"
        }
      },
      "execution_count": 3,
      "outputs": [
        {
          "output_type": "stream",
          "name": "stdout",
          "text": [
            "결막염/무 : ['10800']\n",
            "결막염/유 : ['10801']\n",
            "궤양성각막질환/무 : ['7740']\n",
            "궤양성각막질환/상 : ['7727']\n",
            "궤양성각막질환/하 : ['7741']\n",
            "백내장/무 : ['7740']\n",
            "백내장/비성숙 : ['7758']\n",
            "백내장/성숙 : ['7727']\n",
            "백내장/초기 : ['7738']\n",
            "비궤양성각막질환/무 : ['5400']\n",
            "비궤양성각막질환/상 : ['5399']\n",
            "비궤양성각막질환/하 : ['5404']\n",
            "색소침착성각막염/무 : ['7920']\n",
            "색소침착성각막염/유 : ['7922']\n",
            "안검내반증/무 : ['10799']\n",
            "안검내반증/유 : ['10799']\n",
            "안검염/무 : ['7740']\n",
            "안검염/유 : ['7738']\n",
            "안검종양/무 : ['5400']\n",
            "안검종양/유 : ['5386']\n",
            "유루증/무 : ['10800']\n",
            "유루증/유 : ['10797']\n",
            "핵경화/무 : ['10800']\n",
            "핵경화/유 : ['10798']\n"
          ]
        }
      ]
    },
    {
      "cell_type": "code",
      "source": [
        "import os\n",
        "import shutil\n",
        "from tqdm import tqdm\n",
        "\n",
        "basepath = \"CVProject/개_안구_resized_keep\"\n",
        "targetpath = \"CVProject/개_안구_resized_train_test\"\n",
        "for desease in os.listdir(basepath):\n",
        "    if desease.startswith(\".\"):\n",
        "        continue\n",
        "    desease_path = f\"{basepath}/{desease}\"\n",
        "    for sick in os.listdir(desease_path):\n",
        "        if sick.startswith(\".\"):\n",
        "            continue\n",
        "        sick_path = f\"{desease_path}/{sick}\"\n",
        "        images = os.listdir(sick_path)\n",
        "\n",
        "        target_test_path = f\"{targetpath}/{desease}_test/{sick}\"\n",
        "        os.makedirs(target_test_path, exist_ok=True)\n",
        "        print(target_test_path, end=\" >> \")\n",
        "        for test_image in tqdm(images[:100], position=0, leave=True):\n",
        "            shutil.copyfile(f\"{sick_path}/{test_image}\", f\"{target_test_path}/{test_image}\")\n",
        "\n",
        "        target_train_path = f\"{targetpath}/{desease}_train/{sick}\"\n",
        "        os.makedirs(target_train_path, exist_ok=True)\n",
        "        print(target_train_path, end=\" >> \")\n",
        "        for train_image in tqdm(images[100:], position=0, leave=True):\n",
        "            shutil.copyfile(f\"{sick_path}/{train_image}\", f\"{target_train_path}/{train_image}\")"
      ],
      "metadata": {
        "id": "hxF510z8RJKl",
        "outputId": "375bcad0-877c-4db2-f7fd-62d0f8e03be1",
        "colab": {
          "base_uri": "https://localhost:8080/"
        }
      },
      "execution_count": 7,
      "outputs": [
        {
          "output_type": "stream",
          "name": "stdout",
          "text": [
            "CVProject/개_안구_resized_train_test/결막염_test/무 >> "
          ]
        },
        {
          "output_type": "stream",
          "name": "stderr",
          "text": [
            "100%|██████████| 100/100 [00:01<00:00, 63.17it/s]\n"
          ]
        },
        {
          "output_type": "stream",
          "name": "stdout",
          "text": [
            "CVProject/개_안구_resized_train_test/결막염_train/무 >> "
          ]
        },
        {
          "output_type": "stream",
          "name": "stderr",
          "text": [
            "100%|██████████| 10700/10700 [03:19<00:00, 53.73it/s]\n"
          ]
        },
        {
          "output_type": "stream",
          "name": "stdout",
          "text": [
            "CVProject/개_안구_resized_train_test/결막염_test/유 >> "
          ]
        },
        {
          "output_type": "stream",
          "name": "stderr",
          "text": [
            "100%|██████████| 100/100 [00:02<00:00, 45.57it/s]\n"
          ]
        },
        {
          "output_type": "stream",
          "name": "stdout",
          "text": [
            "CVProject/개_안구_resized_train_test/결막염_train/유 >> "
          ]
        },
        {
          "output_type": "stream",
          "name": "stderr",
          "text": [
            "100%|██████████| 10701/10701 [03:41<00:00, 48.30it/s]\n"
          ]
        },
        {
          "output_type": "stream",
          "name": "stdout",
          "text": [
            "CVProject/개_안구_resized_train_test/궤양성각막질환_test/무 >> "
          ]
        },
        {
          "output_type": "stream",
          "name": "stderr",
          "text": [
            "100%|██████████| 100/100 [00:01<00:00, 52.17it/s]\n"
          ]
        },
        {
          "output_type": "stream",
          "name": "stdout",
          "text": [
            "CVProject/개_안구_resized_train_test/궤양성각막질환_train/무 >> "
          ]
        },
        {
          "output_type": "stream",
          "name": "stderr",
          "text": [
            "100%|██████████| 7640/7640 [02:26<00:00, 52.16it/s]\n"
          ]
        },
        {
          "output_type": "stream",
          "name": "stdout",
          "text": [
            "CVProject/개_안구_resized_train_test/궤양성각막질환_test/상 >> "
          ]
        },
        {
          "output_type": "stream",
          "name": "stderr",
          "text": [
            "100%|██████████| 100/100 [00:01<00:00, 51.95it/s]\n"
          ]
        },
        {
          "output_type": "stream",
          "name": "stdout",
          "text": [
            "CVProject/개_안구_resized_train_test/궤양성각막질환_train/상 >> "
          ]
        },
        {
          "output_type": "stream",
          "name": "stderr",
          "text": [
            "100%|██████████| 7627/7627 [02:30<00:00, 50.64it/s]\n"
          ]
        },
        {
          "output_type": "stream",
          "name": "stdout",
          "text": [
            "CVProject/개_안구_resized_train_test/궤양성각막질환_test/하 >> "
          ]
        },
        {
          "output_type": "stream",
          "name": "stderr",
          "text": [
            "100%|██████████| 100/100 [00:01<00:00, 54.33it/s]\n"
          ]
        },
        {
          "output_type": "stream",
          "name": "stdout",
          "text": [
            "CVProject/개_안구_resized_train_test/궤양성각막질환_train/하 >> "
          ]
        },
        {
          "output_type": "stream",
          "name": "stderr",
          "text": [
            "100%|██████████| 7641/7641 [02:21<00:00, 53.92it/s]\n"
          ]
        },
        {
          "output_type": "stream",
          "name": "stdout",
          "text": [
            "CVProject/개_안구_resized_train_test/백내장_test/무 >> "
          ]
        },
        {
          "output_type": "stream",
          "name": "stderr",
          "text": [
            "100%|██████████| 100/100 [00:01<00:00, 57.25it/s]\n"
          ]
        },
        {
          "output_type": "stream",
          "name": "stdout",
          "text": [
            "CVProject/개_안구_resized_train_test/백내장_train/무 >> "
          ]
        },
        {
          "output_type": "stream",
          "name": "stderr",
          "text": [
            "100%|██████████| 7640/7640 [02:25<00:00, 52.60it/s]\n"
          ]
        },
        {
          "output_type": "stream",
          "name": "stdout",
          "text": [
            "CVProject/개_안구_resized_train_test/백내장_test/비성숙 >> "
          ]
        },
        {
          "output_type": "stream",
          "name": "stderr",
          "text": [
            "100%|██████████| 100/100 [00:01<00:00, 58.24it/s]\n"
          ]
        },
        {
          "output_type": "stream",
          "name": "stdout",
          "text": [
            "CVProject/개_안구_resized_train_test/백내장_train/비성숙 >> "
          ]
        },
        {
          "output_type": "stream",
          "name": "stderr",
          "text": [
            "100%|██████████| 7658/7658 [02:59<00:00, 42.68it/s]\n"
          ]
        },
        {
          "output_type": "stream",
          "name": "stdout",
          "text": [
            "CVProject/개_안구_resized_train_test/백내장_test/성숙 >> "
          ]
        },
        {
          "output_type": "stream",
          "name": "stderr",
          "text": [
            "100%|██████████| 100/100 [00:02<00:00, 34.13it/s]\n"
          ]
        },
        {
          "output_type": "stream",
          "name": "stdout",
          "text": [
            "CVProject/개_안구_resized_train_test/백내장_train/성숙 >> "
          ]
        },
        {
          "output_type": "stream",
          "name": "stderr",
          "text": [
            "100%|██████████| 7627/7627 [02:25<00:00, 52.53it/s]\n"
          ]
        },
        {
          "output_type": "stream",
          "name": "stdout",
          "text": [
            "CVProject/개_안구_resized_train_test/백내장_test/초기 >> "
          ]
        },
        {
          "output_type": "stream",
          "name": "stderr",
          "text": [
            "100%|██████████| 100/100 [00:01<00:00, 56.17it/s]\n"
          ]
        },
        {
          "output_type": "stream",
          "name": "stdout",
          "text": [
            "CVProject/개_안구_resized_train_test/백내장_train/초기 >> "
          ]
        },
        {
          "output_type": "stream",
          "name": "stderr",
          "text": [
            "100%|██████████| 7638/7638 [03:10<00:00, 40.18it/s]\n"
          ]
        },
        {
          "output_type": "stream",
          "name": "stdout",
          "text": [
            "CVProject/개_안구_resized_train_test/비궤양성각막질환_test/무 >> "
          ]
        },
        {
          "output_type": "stream",
          "name": "stderr",
          "text": [
            "100%|██████████| 100/100 [00:01<00:00, 51.58it/s]\n"
          ]
        },
        {
          "output_type": "stream",
          "name": "stdout",
          "text": [
            "CVProject/개_안구_resized_train_test/비궤양성각막질환_train/무 >> "
          ]
        },
        {
          "output_type": "stream",
          "name": "stderr",
          "text": [
            "100%|██████████| 5300/5300 [01:46<00:00, 49.89it/s]\n"
          ]
        },
        {
          "output_type": "stream",
          "name": "stdout",
          "text": [
            "CVProject/개_안구_resized_train_test/비궤양성각막질환_test/상 >> "
          ]
        },
        {
          "output_type": "stream",
          "name": "stderr",
          "text": [
            "100%|██████████| 100/100 [00:02<00:00, 35.97it/s]\n"
          ]
        },
        {
          "output_type": "stream",
          "name": "stdout",
          "text": [
            "CVProject/개_안구_resized_train_test/비궤양성각막질환_train/상 >> "
          ]
        },
        {
          "output_type": "stream",
          "name": "stderr",
          "text": [
            "100%|██████████| 5299/5299 [01:54<00:00, 46.28it/s]\n"
          ]
        },
        {
          "output_type": "stream",
          "name": "stdout",
          "text": [
            "CVProject/개_안구_resized_train_test/비궤양성각막질환_test/하 >> "
          ]
        },
        {
          "output_type": "stream",
          "name": "stderr",
          "text": [
            "100%|██████████| 100/100 [00:01<00:00, 51.28it/s]\n"
          ]
        },
        {
          "output_type": "stream",
          "name": "stdout",
          "text": [
            "CVProject/개_안구_resized_train_test/비궤양성각막질환_train/하 >> "
          ]
        },
        {
          "output_type": "stream",
          "name": "stderr",
          "text": [
            "100%|██████████| 5304/5304 [01:54<00:00, 46.29it/s]\n"
          ]
        },
        {
          "output_type": "stream",
          "name": "stdout",
          "text": [
            "CVProject/개_안구_resized_train_test/색소침착성각막염_test/무 >> "
          ]
        },
        {
          "output_type": "stream",
          "name": "stderr",
          "text": [
            "100%|██████████| 100/100 [00:02<00:00, 42.68it/s]\n"
          ]
        },
        {
          "output_type": "stream",
          "name": "stdout",
          "text": [
            "CVProject/개_안구_resized_train_test/색소침착성각막염_train/무 >> "
          ]
        },
        {
          "output_type": "stream",
          "name": "stderr",
          "text": [
            "100%|██████████| 7820/7820 [03:04<00:00, 42.29it/s]\n"
          ]
        },
        {
          "output_type": "stream",
          "name": "stdout",
          "text": [
            "CVProject/개_안구_resized_train_test/색소침착성각막염_test/유 >> "
          ]
        },
        {
          "output_type": "stream",
          "name": "stderr",
          "text": [
            "100%|██████████| 100/100 [00:03<00:00, 30.09it/s]\n"
          ]
        },
        {
          "output_type": "stream",
          "name": "stdout",
          "text": [
            "CVProject/개_안구_resized_train_test/색소침착성각막염_train/유 >> "
          ]
        },
        {
          "output_type": "stream",
          "name": "stderr",
          "text": [
            "100%|██████████| 7822/7822 [03:09<00:00, 41.34it/s]\n"
          ]
        },
        {
          "output_type": "stream",
          "name": "stdout",
          "text": [
            "CVProject/개_안구_resized_train_test/안검내반증_test/무 >> "
          ]
        },
        {
          "output_type": "stream",
          "name": "stderr",
          "text": [
            "100%|██████████| 100/100 [00:02<00:00, 45.99it/s]\n"
          ]
        },
        {
          "output_type": "stream",
          "name": "stdout",
          "text": [
            "CVProject/개_안구_resized_train_test/안검내반증_train/무 >> "
          ]
        },
        {
          "output_type": "stream",
          "name": "stderr",
          "text": [
            "100%|██████████| 10699/10699 [04:45<00:00, 37.48it/s]\n"
          ]
        },
        {
          "output_type": "stream",
          "name": "stdout",
          "text": [
            "CVProject/개_안구_resized_train_test/안검내반증_test/유 >> "
          ]
        },
        {
          "output_type": "stream",
          "name": "stderr",
          "text": [
            "100%|██████████| 100/100 [00:02<00:00, 48.25it/s]\n"
          ]
        },
        {
          "output_type": "stream",
          "name": "stdout",
          "text": [
            "CVProject/개_안구_resized_train_test/안검내반증_train/유 >> "
          ]
        },
        {
          "output_type": "stream",
          "name": "stderr",
          "text": [
            "100%|██████████| 10699/10699 [03:59<00:00, 44.73it/s]\n"
          ]
        },
        {
          "output_type": "stream",
          "name": "stdout",
          "text": [
            "CVProject/개_안구_resized_train_test/안검염_test/무 >> "
          ]
        },
        {
          "output_type": "stream",
          "name": "stderr",
          "text": [
            "100%|██████████| 100/100 [00:02<00:00, 48.16it/s]\n"
          ]
        },
        {
          "output_type": "stream",
          "name": "stdout",
          "text": [
            "CVProject/개_안구_resized_train_test/안검염_train/무 >> "
          ]
        },
        {
          "output_type": "stream",
          "name": "stderr",
          "text": [
            "100%|██████████| 7640/7640 [02:59<00:00, 42.52it/s]\n"
          ]
        },
        {
          "output_type": "stream",
          "name": "stdout",
          "text": [
            "CVProject/개_안구_resized_train_test/안검염_test/유 >> "
          ]
        },
        {
          "output_type": "stream",
          "name": "stderr",
          "text": [
            "100%|██████████| 100/100 [00:03<00:00, 32.08it/s]\n"
          ]
        },
        {
          "output_type": "stream",
          "name": "stdout",
          "text": [
            "CVProject/개_안구_resized_train_test/안검염_train/유 >> "
          ]
        },
        {
          "output_type": "stream",
          "name": "stderr",
          "text": [
            "100%|██████████| 7638/7638 [03:09<00:00, 40.37it/s]\n"
          ]
        },
        {
          "output_type": "stream",
          "name": "stdout",
          "text": [
            "CVProject/개_안구_resized_train_test/안검종양_test/무 >> "
          ]
        },
        {
          "output_type": "stream",
          "name": "stderr",
          "text": [
            "100%|██████████| 100/100 [00:02<00:00, 40.32it/s]\n"
          ]
        },
        {
          "output_type": "stream",
          "name": "stdout",
          "text": [
            "CVProject/개_안구_resized_train_test/안검종양_train/무 >> "
          ]
        },
        {
          "output_type": "stream",
          "name": "stderr",
          "text": [
            "100%|██████████| 5300/5300 [02:12<00:00, 39.87it/s]\n"
          ]
        },
        {
          "output_type": "stream",
          "name": "stdout",
          "text": [
            "CVProject/개_안구_resized_train_test/안검종양_test/유 >> "
          ]
        },
        {
          "output_type": "stream",
          "name": "stderr",
          "text": [
            "100%|██████████| 100/100 [00:02<00:00, 43.95it/s]\n"
          ]
        },
        {
          "output_type": "stream",
          "name": "stdout",
          "text": [
            "CVProject/개_안구_resized_train_test/안검종양_train/유 >> "
          ]
        },
        {
          "output_type": "stream",
          "name": "stderr",
          "text": [
            "100%|██████████| 5286/5286 [02:46<00:00, 31.84it/s]\n"
          ]
        },
        {
          "output_type": "stream",
          "name": "stdout",
          "text": [
            "CVProject/개_안구_resized_train_test/유루증_test/무 >> "
          ]
        },
        {
          "output_type": "stream",
          "name": "stderr",
          "text": [
            "100%|██████████| 100/100 [00:03<00:00, 30.18it/s]\n"
          ]
        },
        {
          "output_type": "stream",
          "name": "stdout",
          "text": [
            "CVProject/개_안구_resized_train_test/유루증_train/무 >> "
          ]
        },
        {
          "output_type": "stream",
          "name": "stderr",
          "text": [
            "100%|██████████| 10700/10700 [04:55<00:00, 36.25it/s]\n"
          ]
        },
        {
          "output_type": "stream",
          "name": "stdout",
          "text": [
            "CVProject/개_안구_resized_train_test/유루증_test/유 >> "
          ]
        },
        {
          "output_type": "stream",
          "name": "stderr",
          "text": [
            "100%|██████████| 100/100 [00:02<00:00, 38.03it/s]\n"
          ]
        },
        {
          "output_type": "stream",
          "name": "stdout",
          "text": [
            "CVProject/개_안구_resized_train_test/유루증_train/유 >> "
          ]
        },
        {
          "output_type": "stream",
          "name": "stderr",
          "text": [
            "100%|██████████| 10697/10697 [03:42<00:00, 48.12it/s]\n"
          ]
        },
        {
          "output_type": "stream",
          "name": "stdout",
          "text": [
            "CVProject/개_안구_resized_train_test/핵경화_test/무 >> "
          ]
        },
        {
          "output_type": "stream",
          "name": "stderr",
          "text": [
            "100%|██████████| 100/100 [00:02<00:00, 38.43it/s]\n"
          ]
        },
        {
          "output_type": "stream",
          "name": "stdout",
          "text": [
            "CVProject/개_안구_resized_train_test/핵경화_train/무 >> "
          ]
        },
        {
          "output_type": "stream",
          "name": "stderr",
          "text": [
            "100%|██████████| 10700/10700 [03:28<00:00, 51.21it/s]\n"
          ]
        },
        {
          "output_type": "stream",
          "name": "stdout",
          "text": [
            "CVProject/개_안구_resized_train_test/핵경화_test/유 >> "
          ]
        },
        {
          "output_type": "stream",
          "name": "stderr",
          "text": [
            "100%|██████████| 100/100 [00:02<00:00, 47.99it/s]\n"
          ]
        },
        {
          "output_type": "stream",
          "name": "stdout",
          "text": [
            "CVProject/개_안구_resized_train_test/핵경화_train/유 >> "
          ]
        },
        {
          "output_type": "stream",
          "name": "stderr",
          "text": [
            "100%|██████████| 10698/10698 [03:26<00:00, 51.91it/s]\n"
          ]
        }
      ]
    },
    {
      "cell_type": "code",
      "source": [
        "basepath = \"CVProject/개_안구_resized_train_test\"\n",
        "for desease in os.listdir(basepath):\n",
        "    if desease.startswith(\".\"):\n",
        "        continue\n",
        "    desease_path = f\"{basepath}/{desease}\"\n",
        "    for sick in os.listdir(desease_path):\n",
        "        if sick.startswith(\".\"):\n",
        "            continue\n",
        "        sick_path = f\"{desease_path}/{sick}\"\n",
        "        count = !ls {sick_path} | wc -l\n",
        "        print(f\"{desease}/{sick} : {count}\")"
      ],
      "metadata": {
        "colab": {
          "base_uri": "https://localhost:8080/"
        },
        "id": "JWh6QeTqcNo_",
        "outputId": "1fab6bda-7a0d-4d7c-99a1-4092ce177bf5"
      },
      "execution_count": 8,
      "outputs": [
        {
          "output_type": "stream",
          "name": "stdout",
          "text": [
            "결막염_test/무 : ['100']\n",
            "결막염_test/유 : ['100']\n",
            "결막염_train/무 : ['10700']\n",
            "결막염_train/유 : ['10701']\n",
            "궤양성각막질환_test/무 : ['100']\n",
            "궤양성각막질환_test/상 : ['100']\n",
            "궤양성각막질환_test/하 : ['100']\n",
            "궤양성각막질환_train/무 : ['7640']\n",
            "궤양성각막질환_train/상 : ['7627']\n",
            "궤양성각막질환_train/하 : ['7641']\n",
            "백내장_test/무 : ['100']\n",
            "백내장_test/비성숙 : ['100']\n",
            "백내장_test/성숙 : ['100']\n",
            "백내장_test/초기 : ['100']\n",
            "백내장_train/무 : ['7640']\n",
            "백내장_train/비성숙 : ['7658']\n",
            "백내장_train/성숙 : ['7627']\n",
            "백내장_train/초기 : ['7638']\n",
            "비궤양성각막질환_test/무 : ['100']\n",
            "비궤양성각막질환_test/상 : ['100']\n",
            "비궤양성각막질환_test/하 : ['100']\n",
            "비궤양성각막질환_train/무 : ['5300']\n",
            "비궤양성각막질환_train/상 : ['5299']\n",
            "비궤양성각막질환_train/하 : ['5304']\n",
            "색소침착성각막염_test/무 : ['100']\n",
            "색소침착성각막염_test/유 : ['100']\n",
            "색소침착성각막염_train/무 : ['7820']\n",
            "색소침착성각막염_train/유 : ['7822']\n",
            "안검내반증_test/무 : ['100']\n",
            "안검내반증_test/유 : ['100']\n",
            "안검내반증_train/무 : ['10699']\n",
            "안검내반증_train/유 : ['10699']\n",
            "안검염_test/무 : ['100']\n",
            "안검염_test/유 : ['100']\n",
            "안검염_train/무 : ['7640']\n",
            "안검염_train/유 : ['7638']\n",
            "안검종양_test/무 : ['100']\n",
            "안검종양_test/유 : ['100']\n",
            "안검종양_train/무 : ['5300']\n",
            "안검종양_train/유 : ['5286']\n",
            "유루증_test/무 : ['100']\n",
            "유루증_test/유 : ['100']\n",
            "유루증_train/무 : ['10700']\n",
            "유루증_train/유 : ['10697']\n",
            "핵경화_test/무 : ['100']\n",
            "핵경화_test/유 : ['100']\n",
            "핵경화_train/무 : ['10700']\n",
            "핵경화_train/유 : ['10698']\n"
          ]
        }
      ]
    },
    {
      "cell_type": "code",
      "source": [
        "!zip -qr CVProject/개_안구_squared_all.zip CVProject/개_안구_squared_all"
      ],
      "metadata": {
        "id": "7YlL7uL8Jo3y"
      },
      "execution_count": null,
      "outputs": []
    }
  ]
}