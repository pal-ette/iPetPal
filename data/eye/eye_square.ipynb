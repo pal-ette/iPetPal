{
  "nbformat": 4,
  "nbformat_minor": 0,
  "metadata": {
    "colab": {
      "provenance": []
    },
    "kernelspec": {
      "name": "python3",
      "display_name": "Python 3"
    },
    "language_info": {
      "name": "python"
    }
  },
  "cells": [
    {
      "cell_type": "code",
      "execution_count": null,
      "metadata": {
        "colab": {
          "base_uri": "https://localhost:8080/"
        },
        "id": "vgRmZYR2Qqo9",
        "outputId": "57bcb7e6-b48f-472b-8387-15f3a8d07fed"
      },
      "outputs": [
        {
          "output_type": "stream",
          "name": "stdout",
          "text": [
            "  % Total    % Received % Xferd  Average Speed   Time    Time     Time  Current\n",
            "                                 Dload  Upload   Total   Spent    Left  Speed\n",
            "\r  0     0    0     0    0     0      0      0 --:--:-- --:--:-- --:--:--     0\r100  6634  100  6634    0     0  39779      0 --:--:-- --:--:-- --:--:-- 39963\n"
          ]
        }
      ],
      "source": [
        "!curl -o \"aihubshell\" https://api.aihub.or.kr/api/aihubshell.do\n",
        "!chmod +x aihubshell\n",
        "AIHUB_ID = \"ryugibo@daum.net\" # @param {type:\"string\"}\n",
        "AIHUB_PW = \"\" # @param {type:\"string\"}"
      ]
    },
    {
      "cell_type": "code",
      "source": [
        "%cd CVProject"
      ],
      "metadata": {
        "colab": {
          "base_uri": "https://localhost:8080/"
        },
        "id": "d2QP_O3TRToG",
        "outputId": "dfd5f9fb-cdb3-4044-e51b-aebbabef19ca"
      },
      "execution_count": null,
      "outputs": [
        {
          "output_type": "stream",
          "name": "stdout",
          "text": [
            "/content/CVProject\n"
          ]
        }
      ]
    },
    {
      "cell_type": "code",
      "source": [
        "!../aihubshell -mode l -datasetkey 562 -filekey 51881"
      ],
      "metadata": {
        "colab": {
          "base_uri": "https://localhost:8080/"
        },
        "id": "lHil4UaiRIv5",
        "outputId": "ccafc56a-ef2e-478c-f6ce-5ae487d81a23"
      },
      "execution_count": null,
      "outputs": [
        {
          "output_type": "stream",
          "name": "stdout",
          "text": [
            "==========================================\n",
            "aihubshell version 24.01.29 v0.3\n",
            "==========================================\n",
            "Fetching file tree structure...\n",
            "The contents are encoded in UTF-8 including Korean characters. \n",
            "If the following contents are not output normally, \n",
            "Please modify the character information of the OS. \n",
            "=================공지사항=================== \n",
            "========================================== \n",
            "\n",
            "    └─153.반려동물 안구질환 데이터\n",
            "        ├─02.저작도구\n",
            "        │  ├─저작도구 소스코드.zip | 153 MB | 55226\n",
            "        │  └─저작도구 설명서.zip | 4 MB | 55227\n",
            "        └─01.데이터\n",
            "            ├─1.Training\n",
            "            │  ├─라벨링데이터\n",
            "            │  │  ├─TL1.zip | 5 GB | 51880\n",
            "            │  │  └─TL2.zip | 7 GB | 51881\n",
            "            │  └─원천데이터\n",
            "            │      ├─TS1.zip | 76 GB | 51882\n",
            "            │      └─TS2.zip | 94 GB | 51883\n",
            "            └─2.Validation\n",
            "                ├─라벨링데이터\n",
            "                │  └─VL.zip | 1 GB | 51884\n",
            "                └─원천데이터\n",
            "                    └─VS.zip | 18 GB | 51885\n"
          ]
        }
      ]
    },
    {
      "cell_type": "code",
      "source": [
        "!../aihubshell -mode d -datasetkey 562 -filekey 51880,51881,51884 -aihubpw {AIHUB_PW} -aihubid {AIHUB_ID}"
      ],
      "metadata": {
        "colab": {
          "base_uri": "https://localhost:8080/"
        },
        "id": "S8jQQ_rkRKOH",
        "outputId": "f4d5b196-1e15-48be-b8f6-85a941666cfd"
      },
      "execution_count": null,
      "outputs": [
        {
          "output_type": "stream",
          "name": "stdout",
          "text": [
            "==========================================\n",
            "aihubshell version 24.01.29 v0.3\n",
            "==========================================\n",
            "Authentication successful.\n",
            "  % Total    % Received % Xferd  Average Speed   Time    Time     Time  Current\n",
            "                                 Dload  Upload   Total   Spent    Left  Speed\n",
            "  0     0    0     0    0     0      0      0 --:--:-- --:--:-- --:--:--     0\n",
            "100 12.9G    0 12.9G    0     0  18.3M      0 --:--:--  0:12:00 --:--:-- 18.8M\n",
            "Request successful with HTTP status 200.\n",
            "Download successful.\n",
            "153.반려동물_안구질환_데이터/01.데이터/2.Validation/라벨링데이터/VL.zip.part0\n",
            "153.반려동물_안구질환_데이터/01.데이터/2.Validation/라벨링데이터/VL.zip.part1073741824\n",
            "153.반려동물_안구질환_데이터/01.데이터/1.Training/라벨링데이터/TL2.zip.part0\n",
            "153.반려동물_안구질환_데이터/01.데이터/1.Training/라벨링데이터/TL2.zip.part1073741824\n",
            "153.반려동물_안구질환_데이터/01.데이터/1.Training/라벨링데이터/TL2.zip.part2147483648\n",
            "153.반려동물_안구질환_데이터/01.데이터/1.Training/라벨링데이터/TL2.zip.part3221225472\n",
            "153.반려동물_안구질환_데이터/01.데이터/1.Training/라벨링데이터/TL2.zip.part4294967296\n",
            "153.반려동물_안구질환_데이터/01.데이터/1.Training/라벨링데이터/TL2.zip.part5368709120\n",
            "153.반려동물_안구질환_데이터/01.데이터/1.Training/라벨링데이터/TL2.zip.part6442450944\n",
            "153.반려동물_안구질환_데이터/01.데이터/1.Training/라벨링데이터/TL1.zip.part0\n",
            "153.반려동물_안구질환_데이터/01.데이터/1.Training/라벨링데이터/TL1.zip.part1073741824\n",
            "153.반려동물_안구질환_데이터/01.데이터/1.Training/라벨링데이터/TL1.zip.part2147483648\n",
            "153.반려동물_안구질환_데이터/01.데이터/1.Training/라벨링데이터/TL1.zip.part3221225472\n",
            "153.반려동물_안구질환_데이터/01.데이터/1.Training/라벨링데이터/TL1.zip.part4294967296\n",
            "잠시 기다려 주세요 병합중 입니다. \n",
            "Merging TL1.zip in ./153.반려동물_안구질환_데이터/01.데이터/1.Training/라벨링데이터\n",
            "Merging TL2.zip in ./153.반려동물_안구질환_데이터/01.데이터/1.Training/라벨링데이터\n",
            "Merging VL.zip in ./153.반려동물_안구질환_데이터/01.데이터/2.Validation/라벨링데이터\n",
            "병합이 완료 되었습니다. \n"
          ]
        }
      ]
    },
    {
      "cell_type": "code",
      "source": [
        "!unzip -l /content/CVProject/153.반려동물_안구질환_데이터/01.데이터/1.Training/라벨링데이터/TL1.zip -x */*/안구초음파**"
      ],
      "metadata": {
        "id": "DGCLIN0Ed-oj"
      },
      "execution_count": null,
      "outputs": []
    },
    {
      "cell_type": "code",
      "source": [
        "!unzip -q /content/CVProject/153.반려동물_안구질환_데이터/01.데이터/1.Training/라벨링데이터/TL1.zip -d ./raw_datas -x */*/안구초음파**"
      ],
      "metadata": {
        "id": "Ii5fqv7tRbEu"
      },
      "execution_count": null,
      "outputs": []
    },
    {
      "cell_type": "code",
      "source": [
        "!unzip -q /content/CVProject/153.반려동물_안구질환_데이터/01.데이터/1.Training/라벨링데이터/TL2.zip -d ./raw_datas -x */*/안구초음파**"
      ],
      "metadata": {
        "id": "_5GKR6K6YeXJ"
      },
      "execution_count": null,
      "outputs": []
    },
    {
      "cell_type": "code",
      "source": [
        "!unzip -q /content/CVProject/153.반려동물_안구질환_데이터/01.데이터/2.Validation/라벨링데이터/VL.zip -d ./raw_datas -x */*/안구초음파**"
      ],
      "metadata": {
        "id": "GQwCbFDwe5yt"
      },
      "execution_count": null,
      "outputs": []
    },
    {
      "cell_type": "code",
      "source": [
        "import os\n",
        "os.getcwd()"
      ],
      "metadata": {
        "colab": {
          "base_uri": "https://localhost:8080/",
          "height": 35
        },
        "id": "cimEyb6nXkbK",
        "outputId": "fe5e99b4-1717-4eac-8e3c-99cbbbeed4dd"
      },
      "execution_count": 1,
      "outputs": [
        {
          "output_type": "execute_result",
          "data": {
            "text/plain": [
              "'/content'"
            ],
            "application/vnd.google.colaboratory.intrinsic+json": {
              "type": "string"
            }
          },
          "metadata": {},
          "execution_count": 1
        }
      ]
    },
    {
      "cell_type": "code",
      "source": [
        "import glob\n",
        "import json\n",
        "import os\n",
        "from PIL import Image, ImageChops\n",
        "from tqdm import tqdm\n",
        "\n",
        "\n",
        "def trim(im):\n",
        "    bg = Image.new(im.mode, im.size, im.getpixel((0,0)))\n",
        "    diff = ImageChops.difference(im, bg)\n",
        "    diff = ImageChops.add(diff, diff, 2.0, -100)\n",
        "    bbox = diff.getbbox()\n",
        "    if bbox:\n",
        "        return im.crop(bbox)\n",
        "    return im\n",
        "\n",
        "\n",
        "for desease in os.listdir(\"CVProject/raw_datas/개/안구/일반\"):\n",
        "    if desease.startswith(\".\"):\n",
        "        continue\n",
        "    desease_path = f\"CVProject/raw_datas/개/안구/일반/{desease}\"\n",
        "    for sick in os.listdir(desease_path):\n",
        "        if sick.startswith(\".\"):\n",
        "            continue\n",
        "        sick_path = f\"{desease_path}/{sick}\"\n",
        "        print(f\"{desease}({sick})\", end=\" >> \")\n",
        "        for meta_path in tqdm(glob.glob(f\"{sick_path}/*.json\"), position=0, leave=True):\n",
        "            f = open(meta_path, \"r\")\n",
        "            meta = json.load(f)\n",
        "            f.close()\n",
        "\n",
        "            img_filename = meta['label']['label_filename']\n",
        "            img_filepath = f\"{os.path.dirname(meta_path)}/{img_filename}\"\n",
        "\n",
        "            img = None\n",
        "            if os.path.isfile(img_filepath):\n",
        "                img = Image.open(img_filepath)\n",
        "            elif os.path.isfile(f\"{img_filepath}.jpg\"):\n",
        "                img = Image.open(f\"{img_filepath}.jpg\")\n",
        "            elif os.path.isfile(f\"{img_filepath}.jpeg\"):\n",
        "                img = Image.open(f\"{img_filepath}.jpeg\")\n",
        "            elif os.path.isfile(f\"{img_filepath}.png\"):\n",
        "                img = Image.open(f\"{img_filepath}.png\")\n",
        "\n",
        "            if img is None:\n",
        "                print(f\"'{img_filepath}' is not exist. in '{meta_path}'\")\n",
        "                continue\n",
        "\n",
        "            if \".\" not in img_filepath:\n",
        "                print(f\"NO EXTENSION {desease}({sick}) {img_filepath}\")\n",
        "                img_filepath = f\"{img_filepath}.jpg\"\n",
        "\n",
        "            img = trim(img)\n",
        "\n",
        "            min_size = min(img.width, img.height)\n",
        "            x_crop = img.width - min_size\n",
        "            y_crop = img.height - min_size\n",
        "            img = img.crop((x_crop / 2, y_crop / 2, img.width - (x_crop / 2), img.height - (y_crop / 2)))\n",
        "            img = img.resize((224, 224), Image.Resampling.LANCZOS)\n",
        "\n",
        "            save_dir = f\"CVProject/개_안구_squared_all/{'정상' if sick == '무' else desease}/\"\n",
        "            os.makedirs(save_dir, exist_ok=True)\n",
        "            img.save(f\"{save_dir}/{img_filename.replace('.png', '.jpg')}\", \"JPEG\")"
      ],
      "metadata": {
        "colab": {
          "base_uri": "https://localhost:8080/"
        },
        "id": "TwWABhDgoDHc",
        "outputId": "f5406264-6fe3-4de7-f791-b75c93b06b96"
      },
      "execution_count": 7,
      "outputs": [
        {
          "output_type": "stream",
          "name": "stdout",
          "text": [
            "결막염(무) >> "
          ]
        },
        {
          "output_type": "stream",
          "name": "stderr",
          "text": [
            "100%|██████████| 10800/10800 [03:29<00:00, 51.58it/s]\n"
          ]
        },
        {
          "output_type": "stream",
          "name": "stdout",
          "text": [
            "결막염(유) >> "
          ]
        },
        {
          "output_type": "stream",
          "name": "stderr",
          "text": [
            "100%|██████████| 10801/10801 [02:55<00:00, 61.62it/s]\n"
          ]
        },
        {
          "output_type": "stream",
          "name": "stdout",
          "text": [
            "궤양성각막질환(무) >> "
          ]
        },
        {
          "output_type": "stream",
          "name": "stderr",
          "text": [
            "100%|██████████| 7740/7740 [02:43<00:00, 47.21it/s]\n"
          ]
        },
        {
          "output_type": "stream",
          "name": "stdout",
          "text": [
            "궤양성각막질환(상) >> "
          ]
        },
        {
          "output_type": "stream",
          "name": "stderr",
          "text": [
            "  9%|▊         | 661/7727 [00:13<02:22, 49.64it/s]"
          ]
        },
        {
          "output_type": "stream",
          "name": "stdout",
          "text": [
            "NO EXTENSION 궤양성각막질환(상) CVProject/raw_datas/개/안구/일반/궤양성각막질환/상/crop_D14_116cbff7-60a5-11ec-8402-0a7404972c70\n",
            "NO EXTENSION 궤양성각막질환(상) CVProject/raw_datas/개/안구/일반/궤양성각막질환/상/crop_D14_1271c9d1-60a5-11ec-8402-0a7404972c70\n"
          ]
        },
        {
          "output_type": "stream",
          "name": "stderr",
          "text": [
            "  9%|▉         | 700/7727 [00:14<02:18, 50.62it/s]"
          ]
        },
        {
          "output_type": "stream",
          "name": "stdout",
          "text": [
            "NO EXTENSION 궤양성각막질환(상) CVProject/raw_datas/개/안구/일반/궤양성각막질환/상/crop_D14_214c6b62-60a5-11ec-8402-0a7404972c70\n"
          ]
        },
        {
          "output_type": "stream",
          "name": "stderr",
          "text": [
            "100%|██████████| 7727/7727 [03:34<00:00, 35.96it/s]\n"
          ]
        },
        {
          "output_type": "stream",
          "name": "stdout",
          "text": [
            "궤양성각막질환(하) >> "
          ]
        },
        {
          "output_type": "stream",
          "name": "stderr",
          "text": [
            " 47%|████▋     | 3661/7741 [01:58<02:17, 29.73it/s]"
          ]
        },
        {
          "output_type": "stream",
          "name": "stdout",
          "text": [
            "NO EXTENSION 궤양성각막질환(하) CVProject/raw_datas/개/안구/일반/궤양성각막질환/하/crop_D35_1511bb1a-60a5-11ec-8402-0a7404972c70\n"
          ]
        },
        {
          "output_type": "stream",
          "name": "stderr",
          "text": [
            " 94%|█████████▎| 7255/7741 [03:56<00:16, 30.05it/s]"
          ]
        },
        {
          "output_type": "stream",
          "name": "stdout",
          "text": [
            "NO EXTENSION 궤양성각막질환(하) CVProject/raw_datas/개/안구/일반/궤양성각막질환/하/crop_D6_1596b783-60a5-11ec-8402-0a7404972c70\n"
          ]
        },
        {
          "output_type": "stream",
          "name": "stderr",
          "text": [
            "100%|██████████| 7741/7741 [04:11<00:00, 30.77it/s]\n"
          ]
        },
        {
          "output_type": "stream",
          "name": "stdout",
          "text": [
            "백내장(무) >> "
          ]
        },
        {
          "output_type": "stream",
          "name": "stderr",
          "text": [
            "100%|██████████| 7740/7740 [05:00<00:00, 25.74it/s]\n"
          ]
        },
        {
          "output_type": "stream",
          "name": "stdout",
          "text": [
            "백내장(비성숙) >> "
          ]
        },
        {
          "output_type": "stream",
          "name": "stderr",
          "text": [
            " 21%|██        | 1610/7758 [00:51<03:28, 29.43it/s]"
          ]
        },
        {
          "output_type": "stream",
          "name": "stdout",
          "text": [
            "NO EXTENSION 백내장(비성숙) CVProject/raw_datas/개/안구/일반/백내장/비성숙/crop_D20_151855da-60a5-11ec-8402-0a7404972c70\n"
          ]
        },
        {
          "output_type": "stream",
          "name": "stderr",
          "text": [
            " 42%|████▏     | 3221/7758 [01:42<02:34, 29.40it/s]"
          ]
        },
        {
          "output_type": "stream",
          "name": "stdout",
          "text": [
            "NO EXTENSION 백내장(비성숙) CVProject/raw_datas/개/안구/일반/백내장/비성숙/crop_D31_1536fda4-60a5-11ec-8402-0a7404972c70\n"
          ]
        },
        {
          "output_type": "stream",
          "name": "stderr",
          "text": [
            " 66%|██████▋   | 5157/7758 [02:43<01:15, 34.60it/s]"
          ]
        },
        {
          "output_type": "stream",
          "name": "stdout",
          "text": [
            "NO EXTENSION 백내장(비성숙) CVProject/raw_datas/개/안구/일반/백내장/비성숙/crop_D45_1543cbf3-60a5-11ec-8402-0a7404972c70\n"
          ]
        },
        {
          "output_type": "stream",
          "name": "stderr",
          "text": [
            "100%|██████████| 7758/7758 [04:08<00:00, 31.18it/s]\n"
          ]
        },
        {
          "output_type": "stream",
          "name": "stdout",
          "text": [
            "백내장(성숙) >> "
          ]
        },
        {
          "output_type": "stream",
          "name": "stderr",
          "text": [
            " 54%|█████▎    | 4140/7727 [02:08<01:55, 30.94it/s]"
          ]
        },
        {
          "output_type": "stream",
          "name": "stdout",
          "text": [
            "NO EXTENSION 백내장(성숙) CVProject/raw_datas/개/안구/일반/백내장/성숙/crop_D38_1539db64-60a5-11ec-8402-0a7404972c70\n"
          ]
        },
        {
          "output_type": "stream",
          "name": "stderr",
          "text": [
            "100%|██████████| 7727/7727 [04:03<00:00, 31.72it/s]\n"
          ]
        },
        {
          "output_type": "stream",
          "name": "stdout",
          "text": [
            "백내장(초기) >> "
          ]
        },
        {
          "output_type": "stream",
          "name": "stderr",
          "text": [
            "100%|██████████| 7738/7738 [04:05<00:00, 31.54it/s]\n"
          ]
        },
        {
          "output_type": "stream",
          "name": "stdout",
          "text": [
            "비궤양성각막질환(무) >> "
          ]
        },
        {
          "output_type": "stream",
          "name": "stderr",
          "text": [
            "100%|██████████| 5400/5400 [03:41<00:00, 24.35it/s]\n"
          ]
        },
        {
          "output_type": "stream",
          "name": "stdout",
          "text": [
            "비궤양성각막질환(상) >> "
          ]
        },
        {
          "output_type": "stream",
          "name": "stderr",
          "text": [
            "100%|██████████| 5399/5399 [02:59<00:00, 30.07it/s]\n"
          ]
        },
        {
          "output_type": "stream",
          "name": "stdout",
          "text": [
            "비궤양성각막질환(하) >> "
          ]
        },
        {
          "output_type": "stream",
          "name": "stderr",
          "text": [
            " 34%|███▍      | 1829/5404 [01:00<01:53, 31.55it/s]"
          ]
        },
        {
          "output_type": "stream",
          "name": "stdout",
          "text": [
            "NO EXTENSION 비궤양성각막질환(하) CVProject/raw_datas/개/안구/일반/비궤양성각막질환/하/crop_D27_21397a8e-60a5-11ec-8402-0a7404972c70\n"
          ]
        },
        {
          "output_type": "stream",
          "name": "stderr",
          "text": [
            " 45%|████▌     | 2449/5404 [01:22<01:58, 25.04it/s]"
          ]
        },
        {
          "output_type": "stream",
          "name": "stdout",
          "text": [
            "NO EXTENSION 비궤양성각막질환(하) CVProject/raw_datas/개/안구/일반/비궤양성각막질환/하/crop_D33_21352f61-60a5-11ec-8402-0a7404972c70\n"
          ]
        },
        {
          "output_type": "stream",
          "name": "stderr",
          "text": [
            " 73%|███████▎  | 3918/5404 [02:14<00:48, 30.49it/s]"
          ]
        },
        {
          "output_type": "stream",
          "name": "stdout",
          "text": [
            "NO EXTENSION 비궤양성각막질환(하) CVProject/raw_datas/개/안구/일반/비궤양성각막질환/하/crop_D49_0e807bc1-60a5-11ec-8402-0a7404972c70\n"
          ]
        },
        {
          "output_type": "stream",
          "name": "stderr",
          "text": [
            "100%|██████████| 5404/5404 [03:05<00:00, 29.10it/s]\n"
          ]
        },
        {
          "output_type": "stream",
          "name": "stdout",
          "text": [
            "색소침착성각막염(무) >> "
          ]
        },
        {
          "output_type": "stream",
          "name": "stderr",
          "text": [
            "100%|██████████| 7920/7920 [05:50<00:00, 22.61it/s]\n"
          ]
        },
        {
          "output_type": "stream",
          "name": "stdout",
          "text": [
            "색소침착성각막염(유) >> "
          ]
        },
        {
          "output_type": "stream",
          "name": "stderr",
          "text": [
            "  8%|▊         | 655/7922 [00:26<04:44, 25.51it/s]"
          ]
        },
        {
          "output_type": "stream",
          "name": "stdout",
          "text": [
            "NO EXTENSION 색소침착성각막염(유) CVProject/raw_datas/개/안구/일반/색소침착성각막염/유/crop_D14_15974602-60a5-11ec-8402-0a7404972c70\n"
          ]
        },
        {
          "output_type": "stream",
          "name": "stderr",
          "text": [
            " 73%|███████▎  | 5762/7922 [03:35<01:16, 28.14it/s]"
          ]
        },
        {
          "output_type": "stream",
          "name": "stdout",
          "text": [
            "NO EXTENSION 색소침착성각막염(유) CVProject/raw_datas/개/안구/일반/색소침착성각막염/유/crop_D49_151a1f72-60a5-11ec-8402-0a7404972c70\n"
          ]
        },
        {
          "output_type": "stream",
          "name": "stderr",
          "text": [
            " 74%|███████▍  | 5891/7922 [03:40<01:18, 25.91it/s]"
          ]
        },
        {
          "output_type": "stream",
          "name": "stdout",
          "text": [
            "NO EXTENSION 색소침착성각막염(유) CVProject/raw_datas/개/안구/일반/색소침착성각막염/유/crop_D4_1533ff97-60a5-11ec-8402-0a7404972c70\n"
          ]
        },
        {
          "output_type": "stream",
          "name": "stderr",
          "text": [
            "100%|██████████| 7922/7922 [05:00<00:00, 26.40it/s]\n"
          ]
        },
        {
          "output_type": "stream",
          "name": "stdout",
          "text": [
            "안검내반증(무) >> "
          ]
        },
        {
          "output_type": "stream",
          "name": "stderr",
          "text": [
            "100%|██████████| 10799/10799 [08:15<00:00, 21.81it/s]\n"
          ]
        },
        {
          "output_type": "stream",
          "name": "stdout",
          "text": [
            "안검내반증(유) >> "
          ]
        },
        {
          "output_type": "stream",
          "name": "stderr",
          "text": [
            "  9%|▉         | 993/10799 [00:44<05:52, 27.78it/s]"
          ]
        },
        {
          "output_type": "stream",
          "name": "stdout",
          "text": [
            "NO EXTENSION 안검내반증(유) CVProject/raw_datas/개/안구/일반/안검내반증/유/crop_D14_153daf0d-60a5-11ec-8402-0a7404972c70\n"
          ]
        },
        {
          "output_type": "stream",
          "name": "stderr",
          "text": [
            " 16%|█▌        | 1723/10799 [01:13<06:38, 22.77it/s]"
          ]
        },
        {
          "output_type": "stream",
          "name": "stdout",
          "text": [
            "NO EXTENSION 안검내반증(유) CVProject/raw_datas/개/안구/일반/안검내반증/유/crop_D18_152ddcf4-60a5-11ec-8402-0a7404972c70\n"
          ]
        },
        {
          "output_type": "stream",
          "name": "stderr",
          "text": [
            " 26%|██▌       | 2783/10799 [01:57<05:13, 25.60it/s]"
          ]
        },
        {
          "output_type": "stream",
          "name": "stdout",
          "text": [
            "NO EXTENSION 안검내반증(유) CVProject/raw_datas/개/안구/일반/안검내반증/유/crop_D23_0e807ae3-60a5-11ec-8402-0a7404972c70\n"
          ]
        },
        {
          "output_type": "stream",
          "name": "stderr",
          "text": [
            " 41%|████      | 4390/10799 [03:01<04:06, 26.00it/s]"
          ]
        },
        {
          "output_type": "stream",
          "name": "stdout",
          "text": [
            "NO EXTENSION 안검내반증(유) CVProject/raw_datas/개/안구/일반/안검내반증/유/crop_D31_1546a7b6-60a5-11ec-8402-0a7404972c70\n"
          ]
        },
        {
          "output_type": "stream",
          "name": "stderr",
          "text": [
            " 65%|██████▍   | 6967/10799 [04:50<02:55, 21.86it/s]"
          ]
        },
        {
          "output_type": "stream",
          "name": "stdout",
          "text": [
            "NO EXTENSION 안검내반증(유) CVProject/raw_datas/개/안구/일반/안검내반증/유/crop_D44_1528ab1e-60a5-11ec-8402-0a7404972c70\n"
          ]
        },
        {
          "output_type": "stream",
          "name": "stderr",
          "text": [
            " 72%|███████▏  | 7806/10799 [05:25<01:44, 28.60it/s]"
          ]
        },
        {
          "output_type": "stream",
          "name": "stdout",
          "text": [
            "NO EXTENSION 안검내반증(유) CVProject/raw_datas/개/안구/일반/안검내반증/유/crop_D49_154bb0b8-60a5-11ec-8402-0a7404972c70\n"
          ]
        },
        {
          "output_type": "stream",
          "name": "stderr",
          "text": [
            " 81%|████████  | 8699/10799 [06:02<01:14, 28.05it/s]"
          ]
        },
        {
          "output_type": "stream",
          "name": "stdout",
          "text": [
            "NO EXTENSION 안검내반증(유) CVProject/raw_datas/개/안구/일반/안검내반증/유/crop_D53_1570a582-60a5-11ec-8402-0a7404972c70\n"
          ]
        },
        {
          "output_type": "stream",
          "name": "stderr",
          "text": [
            " 84%|████████▍ | 9057/10799 [06:18<01:18, 22.13it/s]"
          ]
        },
        {
          "output_type": "stream",
          "name": "stdout",
          "text": [
            "NO EXTENSION 안검내반증(유) CVProject/raw_datas/개/안구/일반/안검내반증/유/crop_D55_152a334d-60a5-11ec-8402-0a7404972c70\n"
          ]
        },
        {
          "output_type": "stream",
          "name": "stderr",
          "text": [
            " 94%|█████████▍| 10162/10799 [07:05<00:28, 22.20it/s]"
          ]
        },
        {
          "output_type": "stream",
          "name": "stdout",
          "text": [
            "NO EXTENSION 안검내반증(유) CVProject/raw_datas/개/안구/일반/안검내반증/유/crop_D6_1526672f-60a5-11ec-8402-0a7404972c70\n"
          ]
        },
        {
          "output_type": "stream",
          "name": "stderr",
          "text": [
            " 96%|█████████▌| 10347/10799 [07:14<00:19, 23.72it/s]"
          ]
        },
        {
          "output_type": "stream",
          "name": "stdout",
          "text": [
            "NO EXTENSION 안검내반증(유) CVProject/raw_datas/개/안구/일반/안검내반증/유/crop_D7_152bd504-60a5-11ec-8402-0a7404972c70\n"
          ]
        },
        {
          "output_type": "stream",
          "name": "stderr",
          "text": [
            "100%|██████████| 10799/10799 [07:33<00:00, 23.82it/s]\n"
          ]
        },
        {
          "output_type": "stream",
          "name": "stdout",
          "text": [
            "안검염(무) >> "
          ]
        },
        {
          "output_type": "stream",
          "name": "stderr",
          "text": [
            "100%|██████████| 7740/7740 [06:08<00:00, 21.01it/s]\n"
          ]
        },
        {
          "output_type": "stream",
          "name": "stdout",
          "text": [
            "안검염(유) >> "
          ]
        },
        {
          "output_type": "stream",
          "name": "stderr",
          "text": [
            "  8%|▊         | 598/7738 [00:24<04:35, 25.95it/s]"
          ]
        },
        {
          "output_type": "stream",
          "name": "stdout",
          "text": [
            "NO EXTENSION 안검염(유) CVProject/raw_datas/개/안구/일반/안검염/유/crop_D13_1d02d505-60a5-11ec-8402-0a7404972c70\n"
          ]
        },
        {
          "output_type": "stream",
          "name": "stderr",
          "text": [
            " 13%|█▎        | 1042/7738 [00:41<04:50, 23.05it/s]"
          ]
        },
        {
          "output_type": "stream",
          "name": "stdout",
          "text": [
            "NO EXTENSION 안검염(유) CVProject/raw_datas/개/안구/일반/안검염/유/crop_D17_0e807a74-60a5-11ec-8402-0a7404972c70\n"
          ]
        },
        {
          "output_type": "stream",
          "name": "stderr",
          "text": [
            " 20%|██        | 1566/7738 [01:02<03:53, 26.43it/s]"
          ]
        },
        {
          "output_type": "stream",
          "name": "stdout",
          "text": [
            "NO EXTENSION 안검염(유) CVProject/raw_datas/개/안구/일반/안검염/유/crop_D20_1cf18687-60a5-11ec-8402-0a7404972c70\n"
          ]
        },
        {
          "output_type": "stream",
          "name": "stderr",
          "text": [
            " 27%|██▋       | 2079/7738 [01:20<03:26, 27.39it/s]"
          ]
        },
        {
          "output_type": "stream",
          "name": "stdout",
          "text": [
            "NO EXTENSION 안검염(유) CVProject/raw_datas/개/안구/일반/안검염/유/crop_D24_1cf0f819-60a5-11ec-8402-0a7404972c70\n",
            "NO EXTENSION 안검염(유) CVProject/raw_datas/개/안구/일반/안검염/유/crop_D24_1d092d88-60a5-11ec-8402-0a7404972c70\n"
          ]
        },
        {
          "output_type": "stream",
          "name": "stderr",
          "text": [
            " 35%|███▌      | 2711/7738 [01:45<03:02, 27.62it/s]"
          ]
        },
        {
          "output_type": "stream",
          "name": "stdout",
          "text": [
            "NO EXTENSION 안검염(유) CVProject/raw_datas/개/안구/일반/안검염/유/crop_D29_1cf66ef0-60a5-11ec-8402-0a7404972c70\n"
          ]
        },
        {
          "output_type": "stream",
          "name": "stderr",
          "text": [
            " 54%|█████▎    | 4158/7738 [02:43<02:31, 23.67it/s]"
          ]
        },
        {
          "output_type": "stream",
          "name": "stdout",
          "text": [
            "NO EXTENSION 안검염(유) CVProject/raw_datas/개/안구/일반/안검염/유/crop_D39_1d08efe6-60a5-11ec-8402-0a7404972c70\n"
          ]
        },
        {
          "output_type": "stream",
          "name": "stderr",
          "text": [
            "100%|██████████| 7738/7738 [05:09<00:00, 24.96it/s]\n"
          ]
        },
        {
          "output_type": "stream",
          "name": "stdout",
          "text": [
            "안검종양(무) >> "
          ]
        },
        {
          "output_type": "stream",
          "name": "stderr",
          "text": [
            "100%|██████████| 5400/5400 [05:07<00:00, 17.58it/s]\n"
          ]
        },
        {
          "output_type": "stream",
          "name": "stdout",
          "text": [
            "안검종양(유) >> "
          ]
        },
        {
          "output_type": "stream",
          "name": "stderr",
          "text": [
            " 54%|█████▎    | 2887/5386 [01:33<01:05, 38.30it/s]"
          ]
        },
        {
          "output_type": "stream",
          "name": "stdout",
          "text": [
            "NO EXTENSION 안검종양(유) CVProject/raw_datas/개/안구/일반/안검종양/유/crop_D39_0dd1859c-60a5-11ec-8402-0a7404972c70\n"
          ]
        },
        {
          "output_type": "stream",
          "name": "stderr",
          "text": [
            "100%|██████████| 5386/5386 [02:53<00:00, 31.12it/s]\n"
          ]
        },
        {
          "output_type": "stream",
          "name": "stdout",
          "text": [
            "유루증(무) >> "
          ]
        },
        {
          "output_type": "stream",
          "name": "stderr",
          "text": [
            "100%|██████████| 10800/10800 [07:34<00:00, 23.79it/s]\n"
          ]
        },
        {
          "output_type": "stream",
          "name": "stdout",
          "text": [
            "유루증(유) >> "
          ]
        },
        {
          "output_type": "stream",
          "name": "stderr",
          "text": [
            " 80%|███████▉  | 8615/10797 [06:01<01:18, 27.85it/s]"
          ]
        },
        {
          "output_type": "stream",
          "name": "stdout",
          "text": [
            "NO EXTENSION 유루증(유) CVProject/raw_datas/개/안구/일반/유루증/유/crop_D52_0dd18607-60a5-11ec-8402-0a7404972c70\n"
          ]
        },
        {
          "output_type": "stream",
          "name": "stderr",
          "text": [
            "100%|██████████| 10797/10797 [07:32<00:00, 23.87it/s]\n"
          ]
        },
        {
          "output_type": "stream",
          "name": "stdout",
          "text": [
            "핵경화(무) >> "
          ]
        },
        {
          "output_type": "stream",
          "name": "stderr",
          "text": [
            "100%|██████████| 10800/10800 [07:07<00:00, 25.28it/s]\n"
          ]
        },
        {
          "output_type": "stream",
          "name": "stdout",
          "text": [
            "핵경화(유) >> "
          ]
        },
        {
          "output_type": "stream",
          "name": "stderr",
          "text": [
            "100%|██████████| 10798/10798 [05:49<00:00, 30.91it/s]\n"
          ]
        }
      ]
    },
    {
      "cell_type": "code",
      "source": [
        "for label in os.listdir(\"CVProject/개_안구_squared_all\"):\n",
        "    count = !ls \"CVProject/개_안구_squared_all/\"{label} | wc -l\n",
        "    print(f\"{label} : {count}\")\n",
        "\n"
      ],
      "metadata": {
        "colab": {
          "base_uri": "https://localhost:8080/"
        },
        "id": "JWh6QeTqcNo_",
        "outputId": "14213dd3-c11a-4ed8-9a6f-7dfec0e4c0e4"
      },
      "execution_count": 10,
      "outputs": [
        {
          "output_type": "stream",
          "name": "stdout",
          "text": [
            "결막염 : ['10801']\n",
            "궤양성각막질환 : ['15468']\n",
            "백내장 : ['23223']\n",
            "비궤양성각막질환 : ['10803']\n",
            "색소침착성각막염 : ['7922']\n",
            "안검내반증 : ['10799']\n",
            "안검염 : ['7738']\n",
            "안검종양 : ['5386']\n",
            "유루증 : ['10797']\n",
            "정상 : ['85139']\n",
            "핵경화 : ['10798']\n"
          ]
        }
      ]
    },
    {
      "cell_type": "code",
      "source": [
        "!zip -qr CVProject/개_안구_squared_all.zip CVProject/개_안구_squared_all"
      ],
      "metadata": {
        "id": "7YlL7uL8Jo3y"
      },
      "execution_count": 11,
      "outputs": []
    }
  ]
}