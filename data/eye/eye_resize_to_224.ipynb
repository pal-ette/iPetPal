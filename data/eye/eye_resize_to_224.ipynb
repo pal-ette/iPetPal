{
  "cells": [
    {
      "cell_type": "code",
      "execution_count": null,
      "metadata": {
        "id": "2yU15luurTvz"
      },
      "outputs": [],
      "source": [
        "!rm -rf train_test_val/"
      ]
    },
    {
      "cell_type": "code",
      "execution_count": null,
      "metadata": {
        "collapsed": true,
        "id": "_gPROZ6qrOxA"
      },
      "outputs": [],
      "source": [
        "!unzip CVProject/안구질환/train_test_val.zip -d ./train_test_val/"
      ]
    },
    {
      "cell_type": "code",
      "execution_count": null,
      "metadata": {
        "colab": {
          "base_uri": "https://localhost:8080/"
        },
        "id": "D_ACq7H5scg-",
        "outputId": "9f5988af-8c4c-4feb-f728-a7817b54e958"
      },
      "outputs": [
        {
          "name": "stdout",
          "output_type": "stream",
          "text": [
            "14032\n"
          ]
        }
      ],
      "source": [
        "!ls ./train_test_val/content/train_test_val/train/정상/ | wc -l"
      ]
    },
    {
      "cell_type": "code",
      "execution_count": null,
      "metadata": {
        "colab": {
          "base_uri": "https://localhost:8080/"
        },
        "collapsed": true,
        "id": "e8Y04H1jzFTv",
        "outputId": "9c7026ef-3ad3-4b06-83a8-267418b23f96"
      },
      "outputs": [],
      "source": [
        "!unzip CVProject/안구질환/개_질환_최종.zip -d ./개_질환"
      ]
    },
    {
      "cell_type": "code",
      "execution_count": null,
      "metadata": {
        "colab": {
          "base_uri": "https://localhost:8080/"
        },
        "id": "XZkLa75FSMLr",
        "outputId": "8daf8d08-c77a-4e05-a5b9-e3e462fa580a"
      },
      "outputs": [
        {
          "name": "stdout",
          "output_type": "stream",
          "text": [
            "핵경화\n"
          ]
        },
        {
          "name": "stderr",
          "output_type": "stream",
          "text": [
            "100%|██████████| 10799/10799 [00:40<00:00, 265.16it/s]\n"
          ]
        },
        {
          "name": "stdout",
          "output_type": "stream",
          "text": [
            "안검종양\n"
          ]
        },
        {
          "name": "stderr",
          "output_type": "stream",
          "text": [
            "100%|██████████| 5387/5387 [00:21<00:00, 246.20it/s]\n"
          ]
        },
        {
          "name": "stdout",
          "output_type": "stream",
          "text": [
            "비궤양성각막질환\n"
          ]
        },
        {
          "name": "stderr",
          "output_type": "stream",
          "text": [
            "100%|██████████| 1187/1187 [00:04<00:00, 257.12it/s]\n"
          ]
        },
        {
          "name": "stdout",
          "output_type": "stream",
          "text": [
            "결막염\n"
          ]
        },
        {
          "name": "stderr",
          "output_type": "stream",
          "text": [
            "100%|██████████| 1204/1204 [00:04<00:00, 274.61it/s]\n"
          ]
        },
        {
          "name": "stdout",
          "output_type": "stream",
          "text": [
            "유루증\n"
          ]
        },
        {
          "name": "stderr",
          "output_type": "stream",
          "text": [
            "100%|██████████| 10798/10798 [00:56<00:00, 190.69it/s]\n"
          ]
        },
        {
          "name": "stdout",
          "output_type": "stream",
          "text": [
            "안검내반증\n"
          ]
        },
        {
          "name": "stderr",
          "output_type": "stream",
          "text": [
            "100%|██████████| 10800/10800 [00:50<00:00, 215.21it/s]\n"
          ]
        },
        {
          "name": "stdout",
          "output_type": "stream",
          "text": [
            "백내장\n"
          ]
        },
        {
          "name": "stderr",
          "output_type": "stream",
          "text": [
            "100%|██████████| 2576/2576 [00:09<00:00, 268.82it/s]\n"
          ]
        },
        {
          "name": "stdout",
          "output_type": "stream",
          "text": [
            "색소침착성각막염\n"
          ]
        },
        {
          "name": "stderr",
          "output_type": "stream",
          "text": [
            "100%|██████████| 853/853 [00:03<00:00, 269.11it/s]\n"
          ]
        },
        {
          "name": "stdout",
          "output_type": "stream",
          "text": [
            "안검염\n"
          ]
        },
        {
          "name": "stderr",
          "output_type": "stream",
          "text": [
            "100%|██████████| 7739/7739 [00:32<00:00, 238.76it/s]\n"
          ]
        },
        {
          "name": "stdout",
          "output_type": "stream",
          "text": [
            "정상\n"
          ]
        },
        {
          "name": "stderr",
          "output_type": "stream",
          "text": [
            "100%|██████████| 17541/17541 [01:53<00:00, 154.39it/s]\n"
          ]
        }
      ],
      "source": [
        "size = 224, 224\n",
        "# import required module\n",
        "import os\n",
        "from PIL import Image\n",
        "from tqdm import tqdm\n",
        "\n",
        "# iterate over files in\n",
        "# that directory\n",
        "for label in os.listdir(\"개_질환/content/개/\"):\n",
        "    if label.startswith(\".\"):\n",
        "        continue\n",
        "    print(label)\n",
        "    for file in tqdm(os.listdir(\"개_질환/content/개/\" + label), position=0, leave=True):\n",
        "        if label.startswith(\".\") or file.startswith(\".\"):\n",
        "            continue\n",
        "        file_path=\"개_질환/content/개/\" + label + \"/\" + file\n",
        "        img = Image.open(file_path)\n",
        "        img = img.resize((224, 224), Image.Resampling.LANCZOS)\n",
        "        os.makedirs(\"개_질환_resized/\" + label, exist_ok=True)\n",
        "        img.save(\"개_질환_resized/\" + label + \"/\" + file, \"JPEG\")"
      ]
    },
    {
      "cell_type": "code",
      "execution_count": null,
      "metadata": {
        "id": "pto9xVhQu7Kf"
      },
      "outputs": [],
      "source": [
        "!rm -rf train_test_val_resized"
      ]
    },
    {
      "cell_type": "code",
      "execution_count": null,
      "metadata": {
        "colab": {
          "base_uri": "https://localhost:8080/"
        },
        "id": "ZxcxDcYJtnZD",
        "outputId": "e980a60d-43d8-4266-d521-9abace52bfd7"
      },
      "outputs": [
        {
          "name": "stdout",
          "output_type": "stream",
          "text": [
            "test\n",
            "- 핵경화/ "
          ]
        },
        {
          "name": "stderr",
          "output_type": "stream",
          "text": [
            "100%|██████████| 1081/1081 [00:04<00:00, 217.14it/s]\n"
          ]
        },
        {
          "name": "stdout",
          "output_type": "stream",
          "text": [
            "- 안검종양/ "
          ]
        },
        {
          "name": "stderr",
          "output_type": "stream",
          "text": [
            "100%|██████████| 540/540 [00:02<00:00, 206.79it/s]\n"
          ]
        },
        {
          "name": "stdout",
          "output_type": "stream",
          "text": [
            "- 비궤양성각막질환/ "
          ]
        },
        {
          "name": "stderr",
          "output_type": "stream",
          "text": [
            "100%|██████████| 120/120 [00:00<00:00, 208.92it/s]\n"
          ]
        },
        {
          "name": "stdout",
          "output_type": "stream",
          "text": [
            "- 결막염/ "
          ]
        },
        {
          "name": "stderr",
          "output_type": "stream",
          "text": [
            "100%|██████████| 121/121 [00:00<00:00, 214.60it/s]\n"
          ]
        },
        {
          "name": "stdout",
          "output_type": "stream",
          "text": [
            "- 유루증/ "
          ]
        },
        {
          "name": "stderr",
          "output_type": "stream",
          "text": [
            "100%|██████████| 1081/1081 [00:06<00:00, 156.37it/s]\n"
          ]
        },
        {
          "name": "stdout",
          "output_type": "stream",
          "text": [
            "- 안검내반증/ "
          ]
        },
        {
          "name": "stderr",
          "output_type": "stream",
          "text": [
            "100%|██████████| 1081/1081 [00:06<00:00, 174.68it/s]\n"
          ]
        },
        {
          "name": "stdout",
          "output_type": "stream",
          "text": [
            "- 백내장/ "
          ]
        },
        {
          "name": "stderr",
          "output_type": "stream",
          "text": [
            "100%|██████████| 258/258 [00:01<00:00, 198.10it/s]\n"
          ]
        },
        {
          "name": "stdout",
          "output_type": "stream",
          "text": [
            "- 색소침착성각막염/ "
          ]
        },
        {
          "name": "stderr",
          "output_type": "stream",
          "text": [
            "100%|██████████| 86/86 [00:00<00:00, 214.76it/s]\n"
          ]
        },
        {
          "name": "stdout",
          "output_type": "stream",
          "text": [
            "- 안검염/ "
          ]
        },
        {
          "name": "stderr",
          "output_type": "stream",
          "text": [
            "100%|██████████| 775/775 [00:03<00:00, 212.39it/s]\n"
          ]
        },
        {
          "name": "stdout",
          "output_type": "stream",
          "text": [
            "- 정상/ "
          ]
        },
        {
          "name": "stderr",
          "output_type": "stream",
          "text": [
            "100%|██████████| 1755/1755 [00:11<00:00, 157.38it/s]\n"
          ]
        },
        {
          "name": "stdout",
          "output_type": "stream",
          "text": [
            "val\n",
            "- 핵경화/ "
          ]
        },
        {
          "name": "stderr",
          "output_type": "stream",
          "text": [
            "100%|██████████| 1079/1079 [00:04<00:00, 228.24it/s]\n"
          ]
        },
        {
          "name": "stdout",
          "output_type": "stream",
          "text": [
            "- 안검종양/ "
          ]
        },
        {
          "name": "stderr",
          "output_type": "stream",
          "text": [
            "100%|██████████| 538/538 [00:02<00:00, 228.28it/s]\n"
          ]
        },
        {
          "name": "stdout",
          "output_type": "stream",
          "text": [
            "- 비궤양성각막질환/ "
          ]
        },
        {
          "name": "stderr",
          "output_type": "stream",
          "text": [
            "100%|██████████| 118/118 [00:00<00:00, 234.79it/s]\n"
          ]
        },
        {
          "name": "stdout",
          "output_type": "stream",
          "text": [
            "- 결막염/ "
          ]
        },
        {
          "name": "stderr",
          "output_type": "stream",
          "text": [
            "100%|██████████| 120/120 [00:00<00:00, 230.04it/s]\n"
          ]
        },
        {
          "name": "stdout",
          "output_type": "stream",
          "text": [
            "- 유루증/ "
          ]
        },
        {
          "name": "stderr",
          "output_type": "stream",
          "text": [
            "100%|██████████| 1079/1079 [00:06<00:00, 169.99it/s]\n"
          ]
        },
        {
          "name": "stdout",
          "output_type": "stream",
          "text": [
            "- 안검내반증/ "
          ]
        },
        {
          "name": "stderr",
          "output_type": "stream",
          "text": [
            "100%|██████████| 1079/1079 [00:05<00:00, 187.88it/s]\n"
          ]
        },
        {
          "name": "stdout",
          "output_type": "stream",
          "text": [
            "- 백내장/ "
          ]
        },
        {
          "name": "stderr",
          "output_type": "stream",
          "text": [
            "100%|██████████| 257/257 [00:01<00:00, 233.20it/s]\n"
          ]
        },
        {
          "name": "stdout",
          "output_type": "stream",
          "text": [
            "- 색소침착성각막염/ "
          ]
        },
        {
          "name": "stderr",
          "output_type": "stream",
          "text": [
            "100%|██████████| 85/85 [00:00<00:00, 219.54it/s]\n"
          ]
        },
        {
          "name": "stdout",
          "output_type": "stream",
          "text": [
            "- 안검염/ "
          ]
        },
        {
          "name": "stderr",
          "output_type": "stream",
          "text": [
            "100%|██████████| 773/773 [00:03<00:00, 223.40it/s]\n"
          ]
        },
        {
          "name": "stdout",
          "output_type": "stream",
          "text": [
            "- 정상/ "
          ]
        },
        {
          "name": "stderr",
          "output_type": "stream",
          "text": [
            "100%|██████████| 1754/1754 [00:11<00:00, 152.18it/s]\n"
          ]
        },
        {
          "name": "stdout",
          "output_type": "stream",
          "text": [
            "train\n",
            "- 핵경화/ "
          ]
        },
        {
          "name": "stderr",
          "output_type": "stream",
          "text": [
            "100%|██████████| 8638/8638 [00:38<00:00, 226.23it/s]\n"
          ]
        },
        {
          "name": "stdout",
          "output_type": "stream",
          "text": [
            "- 안검종양/ "
          ]
        },
        {
          "name": "stderr",
          "output_type": "stream",
          "text": [
            "100%|██████████| 4308/4308 [00:19<00:00, 224.88it/s]\n"
          ]
        },
        {
          "name": "stdout",
          "output_type": "stream",
          "text": [
            "- 비궤양성각막질환/ "
          ]
        },
        {
          "name": "stderr",
          "output_type": "stream",
          "text": [
            "100%|██████████| 948/948 [00:04<00:00, 235.72it/s]\n"
          ]
        },
        {
          "name": "stdout",
          "output_type": "stream",
          "text": [
            "- 결막염/ "
          ]
        },
        {
          "name": "stderr",
          "output_type": "stream",
          "text": [
            "100%|██████████| 962/962 [00:04<00:00, 233.01it/s]\n"
          ]
        },
        {
          "name": "stdout",
          "output_type": "stream",
          "text": [
            "- 유루증/ "
          ]
        },
        {
          "name": "stderr",
          "output_type": "stream",
          "text": [
            "100%|██████████| 8637/8637 [00:48<00:00, 178.16it/s]\n"
          ]
        },
        {
          "name": "stdout",
          "output_type": "stream",
          "text": [
            "- 안검내반증/ "
          ]
        },
        {
          "name": "stderr",
          "output_type": "stream",
          "text": [
            "100%|██████████| 8639/8639 [00:48<00:00, 179.35it/s]\n"
          ]
        },
        {
          "name": "stdout",
          "output_type": "stream",
          "text": [
            "- 백내장/ "
          ]
        },
        {
          "name": "stderr",
          "output_type": "stream",
          "text": [
            "100%|██████████| 2060/2060 [00:09<00:00, 219.93it/s]\n"
          ]
        },
        {
          "name": "stdout",
          "output_type": "stream",
          "text": [
            "- 색소침착성각막염/ "
          ]
        },
        {
          "name": "stderr",
          "output_type": "stream",
          "text": [
            "100%|██████████| 681/681 [00:03<00:00, 216.48it/s]\n"
          ]
        },
        {
          "name": "stdout",
          "output_type": "stream",
          "text": [
            "- 안검염/ "
          ]
        },
        {
          "name": "stderr",
          "output_type": "stream",
          "text": [
            "100%|██████████| 6190/6190 [00:26<00:00, 230.33it/s]\n"
          ]
        },
        {
          "name": "stdout",
          "output_type": "stream",
          "text": [
            "- 정상/ "
          ]
        },
        {
          "name": "stderr",
          "output_type": "stream",
          "text": [
            "100%|██████████| 14032/14032 [01:27<00:00, 161.14it/s]\n"
          ]
        }
      ],
      "source": [
        "size = 224, 224\n",
        "# import required module\n",
        "import os\n",
        "from PIL import Image\n",
        "from tqdm import tqdm\n",
        "\n",
        "# iterate over files in\n",
        "# that directory\n",
        "for train_path in os.listdir(\"train_test_val/content/train_test_val/\"):\n",
        "    if train_path.startswith(\".\"):\n",
        "        continue\n",
        "    train_fullpath = f\"train_test_val/content/train_test_val/{train_path}\"\n",
        "    print(train_path)\n",
        "    for desease in os.listdir(train_fullpath):\n",
        "        if desease.startswith(\".\"):\n",
        "            continue\n",
        "        print(f\"- {desease}\", end=\"/ \")\n",
        "        desease_fullpath = f\"{train_fullpath}/{desease}\"\n",
        "        for file in tqdm(os.listdir(desease_fullpath), position=0, leave=True):\n",
        "            if file.startswith(\".\"):\n",
        "                continue\n",
        "            oldfile = f\"{desease_fullpath}/{file}\"\n",
        "            newpath = f\"train_test_val_resized/{train_path}/{desease}\"\n",
        "            os.makedirs(newpath, exist_ok=True)\n",
        "            newfile = f\"{newpath}/{file.replace('.png', '.jpg')}\"\n",
        "            img = Image.open(oldfile)\n",
        "            img = img.resize((224, 224), Image.Resampling.LANCZOS)\n",
        "            img.save(newfile, \"JPEG\")"
      ]
    },
    {
      "cell_type": "code",
      "execution_count": null,
      "metadata": {
        "colab": {
          "base_uri": "https://localhost:8080/"
        },
        "id": "16Pcgu9OvbnB",
        "outputId": "a1f3b49e-3137-4425-9875-3b988c25ce83"
      },
      "outputs": [
        {
          "name": "stdout",
          "output_type": "stream",
          "text": [
            "/content/CVProject/train_test_val_resized\n"
          ]
        }
      ],
      "source": [
        "%cd CVProject/train_test_val_resized/"
      ]
    },
    {
      "cell_type": "code",
      "execution_count": null,
      "metadata": {
        "id": "4rK0EWuA9bKl"
      },
      "outputs": [],
      "source": [
        "!zip -r train_test_val_resized.zip ."
      ]
    }
  ],
  "metadata": {
    "colab": {
      "provenance": []
    },
    "kernelspec": {
      "display_name": "Python 3",
      "name": "python3"
    },
    "language_info": {
      "name": "python"
    }
  },
  "nbformat": 4,
  "nbformat_minor": 0
}
