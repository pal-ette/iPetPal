{
  "nbformat": 4,
  "nbformat_minor": 0,
  "metadata": {
    "colab": {
      "provenance": [],
      "gpuType": "T4"
    },
    "kernelspec": {
      "name": "python3",
      "display_name": "Python 3"
    },
    "language_info": {
      "name": "python"
    },
    "accelerator": "GPU"
  },
  "cells": [
    {
      "cell_type": "code",
      "source": [
        "!pip install onnxruntime"
      ],
      "metadata": {
        "id": "OKhF3luFJ92p"
      },
      "execution_count": null,
      "outputs": []
    },
    {
      "cell_type": "code",
      "execution_count": null,
      "metadata": {
        "id": "jolMTnq8HyuT"
      },
      "outputs": [],
      "source": [
        "from transformers import AutoFeatureExtractor\n",
        "import onnxruntime\n",
        "import pickle\n",
        "from scipy.special import softmax\n",
        "from PIL import Image\n",
        "from torchvision.transforms import ToTensor\n",
        "\n",
        "feature_extractor = AutoFeatureExtractor.from_pretrained(\"google/vit-base-patch16-224\",\n",
        "                                                        do_rescale=False)"
      ]
    },
    {
      "cell_type": "code",
      "source": [
        "img_size = 224\n",
        "img_path = \"\"\"PATH TO IMAGE\"\"\""
      ],
      "metadata": {
        "id": "w0yYtKP4ITY5"
      },
      "execution_count": 3,
      "outputs": []
    },
    {
      "cell_type": "code",
      "source": [
        "with open('/path/to/classes.pkl', 'rb') as f:\n",
        "    classes = pickle.load(f)"
      ],
      "metadata": {
        "id": "6k8GeIFtMElI"
      },
      "execution_count": 4,
      "outputs": []
    },
    {
      "cell_type": "code",
      "source": [
        "filepath = '/path/to/ViT-skin_demo.onnx'\n",
        "ort_session = onnxruntime.InferenceSession(filepath)\n",
        "input_name = ort_session.get_inputs()[0].name"
      ],
      "metadata": {
        "id": "k8hVAYbyIqC6"
      },
      "execution_count": 5,
      "outputs": []
    },
    {
      "cell_type": "code",
      "source": [
        "def inference(img_path):\n",
        "\n",
        "    img = Image.open(img_path)\n",
        "    img_resized = img.resize((224, 224))\n",
        "    img_resized = ToTensor()(img_resized)\n",
        "    encoding = feature_extractor(images=img_resized, return_tensors='pt')\n",
        "\n",
        "    ort_inputs = {input_name: encoding['pixel_values'].numpy()}\n",
        "    ort_outs = ort_session.run(None, ort_inputs)\n",
        "\n",
        "    result = softmax(ort_outs)\n",
        "    result_dict = {}\n",
        "\n",
        "    for i, value in enumerate(result[0][0].tolist()):\n",
        "        result_dict[classes[str(i)]] = value\n",
        "        result = sorted(result_dict.items(), key=lambda x:x[1], reverse=True)\n",
        "\n",
        "    return result"
      ],
      "metadata": {
        "id": "DqVkKsK4IdKJ"
      },
      "execution_count": 21,
      "outputs": []
    },
    {
      "cell_type": "code",
      "source": [
        "import time\n",
        "s = time.time()\n",
        "result = inference(img_path)\n",
        "e = time.time()\n",
        "\n",
        "print(f'inference takes {e-s} sec')"
      ],
      "metadata": {
        "colab": {
          "base_uri": "https://localhost:8080/"
        },
        "id": "-qJhRE-5MwQY",
        "outputId": "3d39f23a-bf23-4e0b-8a27-ca9409a05d46"
      },
      "execution_count": 22,
      "outputs": [
        {
          "output_type": "stream",
          "name": "stdout",
          "text": [
            "inference takes 0.4013957977294922 sec\n"
          ]
        }
      ]
    },
    {
      "cell_type": "code",
      "source": [
        "for i, (k, v) in enumerate(result[:3]):\n",
        "    print(f\"{k}일 확률 {int(v*100)}%\")"
      ],
      "metadata": {
        "colab": {
          "base_uri": "https://localhost:8080/"
        },
        "id": "fsTssy-wZ80Q",
        "outputId": "b978197a-0b0f-4a45-b99b-ca95f29c276c"
      },
      "execution_count": 23,
      "outputs": [
        {
          "output_type": "stream",
          "name": "stdout",
          "text": [
            "무증상일 확률 50%\n",
            "A2_비듬_각질_상피성잔고리일 확률 38%\n",
            "A4_농포_여드름일 확률 10%\n"
          ]
        }
      ]
    }
  ]
}