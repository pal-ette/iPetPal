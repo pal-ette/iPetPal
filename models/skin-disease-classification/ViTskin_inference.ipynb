{
  "nbformat": 4,
  "nbformat_minor": 0,
  "metadata": {
    "colab": {
      "provenance": []
    },
    "kernelspec": {
      "name": "python3",
      "display_name": "Python 3"
    },
    "language_info": {
      "name": "python"
    }
  },
  "cells": [
    {
      "cell_type": "code",
      "source": [
        "!pip install onnxruntime"
      ],
      "metadata": {
        "id": "OKhF3luFJ92p"
      },
      "execution_count": null,
      "outputs": []
    },
    {
      "cell_type": "code",
      "execution_count": null,
      "metadata": {
        "id": "jolMTnq8HyuT"
      },
      "outputs": [],
      "source": [
        "from transformers import AutoFeatureExtractor\n",
        "import onnxruntime, pickle\n",
        "from scipy.special import softmax\n",
        "from PIL import Image\n",
        "\n",
        "feature_extractor = AutoFeatureExtractor.from_pretrained(\"google/vit-base-patch16-224\",\n",
        "                                                        do_rescale=False)"
      ]
    },
    {
      "cell_type": "code",
      "source": [
        "img_size = 224"
      ],
      "metadata": {
        "id": "w0yYtKP4ITY5"
      },
      "execution_count": 4,
      "outputs": []
    },
    {
      "cell_type": "code",
      "source": [
        "with open('/path/to/classes.pkl', 'rb') as f:\n",
        "    classes = pickle.load(f)"
      ],
      "metadata": {
        "id": "6k8GeIFtMElI"
      },
      "execution_count": null,
      "outputs": []
    },
    {
      "cell_type": "code",
      "source": [
        "filepath = \"\"\"onnx file path\"\"\"\n",
        "ort_session = onnxruntime.InferenceSession(filepath)\n",
        "input_name = ort_session.get_inputs()[0].name"
      ],
      "metadata": {
        "id": "k8hVAYbyIqC6"
      },
      "execution_count": null,
      "outputs": []
    },
    {
      "cell_type": "code",
      "source": [
        "def inference(img_path):\n",
        "\n",
        "    img = Image.open(img_path)\n",
        "    img_resized = img.resize((224, 224))\n",
        "    encoding = feature_extractor(images=img_resized, return_tensors='pt')\n",
        "\n",
        "    ort_inputs = {input_name: encoding['pixel_values'].numpy()}\n",
        "    ort_outs = ort_session.run(None, ort_inputs)\n",
        "\n",
        "    result = softmax(ort_outs)\n",
        "    result_dict = {}\n",
        "\n",
        "    for i, value in enumerate(result[0][0].tolist()):\n",
        "        result_dict[classes[str(i)]] = value\n",
        "        result = sorted(result_dict.items(), key=lambda x:x[1], reverse=True)\n",
        "\n",
        "    return result"
      ],
      "metadata": {
        "id": "DqVkKsK4IdKJ"
      },
      "execution_count": null,
      "outputs": []
    },
    {
      "cell_type": "code",
      "source": [
        "result = inference(img_path)\n",
        "\n",
        "for i, (k, v) in enumerate(result[:3]):\n",
        "    print(f\"{k}일 확률 {int(v*100)}%\")"
      ],
      "metadata": {
        "id": "-qJhRE-5MwQY"
      },
      "execution_count": null,
      "outputs": []
    }
  ]
}