{
  "nbformat": 4,
  "nbformat_minor": 0,
  "metadata": {
    "colab": {
      "provenance": [],
      "gpuType": "T4"
    },
    "kernelspec": {
      "name": "python3",
      "display_name": "Python 3"
    },
    "language_info": {
      "name": "python"
    },
    "accelerator": "GPU",
    "widgets": {
      "application/vnd.jupyter.widget-state+json": {
        "f1856bb5d3c145ccac160c9cb73a5629": {
          "model_module": "@jupyter-widgets/controls",
          "model_name": "HBoxModel",
          "model_module_version": "1.5.0",
          "state": {
            "_dom_classes": [],
            "_model_module": "@jupyter-widgets/controls",
            "_model_module_version": "1.5.0",
            "_model_name": "HBoxModel",
            "_view_count": null,
            "_view_module": "@jupyter-widgets/controls",
            "_view_module_version": "1.5.0",
            "_view_name": "HBoxView",
            "box_style": "",
            "children": [
              "IPY_MODEL_b7e82a4d80da4568afb1cdbf6a3610d8",
              "IPY_MODEL_4454855d845549b2870552ea4d8571a0",
              "IPY_MODEL_7a7deca5863a4faca96938d9bda4b913"
            ],
            "layout": "IPY_MODEL_a8f499061a384a0382f6c0af1ef84c91"
          }
        },
        "b7e82a4d80da4568afb1cdbf6a3610d8": {
          "model_module": "@jupyter-widgets/controls",
          "model_name": "HTMLModel",
          "model_module_version": "1.5.0",
          "state": {
            "_dom_classes": [],
            "_model_module": "@jupyter-widgets/controls",
            "_model_module_version": "1.5.0",
            "_model_name": "HTMLModel",
            "_view_count": null,
            "_view_module": "@jupyter-widgets/controls",
            "_view_module_version": "1.5.0",
            "_view_name": "HTMLView",
            "description": "",
            "description_tooltip": null,
            "layout": "IPY_MODEL_8fa81cce35114f52b90eaee67b34e749",
            "placeholder": "​",
            "style": "IPY_MODEL_eb5161caa44e47d2b31b5f1942077797",
            "value": "preprocessor_config.json: 100%"
          }
        },
        "4454855d845549b2870552ea4d8571a0": {
          "model_module": "@jupyter-widgets/controls",
          "model_name": "FloatProgressModel",
          "model_module_version": "1.5.0",
          "state": {
            "_dom_classes": [],
            "_model_module": "@jupyter-widgets/controls",
            "_model_module_version": "1.5.0",
            "_model_name": "FloatProgressModel",
            "_view_count": null,
            "_view_module": "@jupyter-widgets/controls",
            "_view_module_version": "1.5.0",
            "_view_name": "ProgressView",
            "bar_style": "success",
            "description": "",
            "description_tooltip": null,
            "layout": "IPY_MODEL_e718b6778c9b4da1be6026874ea70174",
            "max": 160,
            "min": 0,
            "orientation": "horizontal",
            "style": "IPY_MODEL_32afbdd7e1ed4bbc8c2b76a0e3c1a2b4",
            "value": 160
          }
        },
        "7a7deca5863a4faca96938d9bda4b913": {
          "model_module": "@jupyter-widgets/controls",
          "model_name": "HTMLModel",
          "model_module_version": "1.5.0",
          "state": {
            "_dom_classes": [],
            "_model_module": "@jupyter-widgets/controls",
            "_model_module_version": "1.5.0",
            "_model_name": "HTMLModel",
            "_view_count": null,
            "_view_module": "@jupyter-widgets/controls",
            "_view_module_version": "1.5.0",
            "_view_name": "HTMLView",
            "description": "",
            "description_tooltip": null,
            "layout": "IPY_MODEL_3825887014ba488ea21ae85668abf8fc",
            "placeholder": "​",
            "style": "IPY_MODEL_e438f0a156a34b99b52698aa0129056a",
            "value": " 160/160 [00:00&lt;00:00, 4.18kB/s]"
          }
        },
        "a8f499061a384a0382f6c0af1ef84c91": {
          "model_module": "@jupyter-widgets/base",
          "model_name": "LayoutModel",
          "model_module_version": "1.2.0",
          "state": {
            "_model_module": "@jupyter-widgets/base",
            "_model_module_version": "1.2.0",
            "_model_name": "LayoutModel",
            "_view_count": null,
            "_view_module": "@jupyter-widgets/base",
            "_view_module_version": "1.2.0",
            "_view_name": "LayoutView",
            "align_content": null,
            "align_items": null,
            "align_self": null,
            "border": null,
            "bottom": null,
            "display": null,
            "flex": null,
            "flex_flow": null,
            "grid_area": null,
            "grid_auto_columns": null,
            "grid_auto_flow": null,
            "grid_auto_rows": null,
            "grid_column": null,
            "grid_gap": null,
            "grid_row": null,
            "grid_template_areas": null,
            "grid_template_columns": null,
            "grid_template_rows": null,
            "height": null,
            "justify_content": null,
            "justify_items": null,
            "left": null,
            "margin": null,
            "max_height": null,
            "max_width": null,
            "min_height": null,
            "min_width": null,
            "object_fit": null,
            "object_position": null,
            "order": null,
            "overflow": null,
            "overflow_x": null,
            "overflow_y": null,
            "padding": null,
            "right": null,
            "top": null,
            "visibility": null,
            "width": null
          }
        },
        "8fa81cce35114f52b90eaee67b34e749": {
          "model_module": "@jupyter-widgets/base",
          "model_name": "LayoutModel",
          "model_module_version": "1.2.0",
          "state": {
            "_model_module": "@jupyter-widgets/base",
            "_model_module_version": "1.2.0",
            "_model_name": "LayoutModel",
            "_view_count": null,
            "_view_module": "@jupyter-widgets/base",
            "_view_module_version": "1.2.0",
            "_view_name": "LayoutView",
            "align_content": null,
            "align_items": null,
            "align_self": null,
            "border": null,
            "bottom": null,
            "display": null,
            "flex": null,
            "flex_flow": null,
            "grid_area": null,
            "grid_auto_columns": null,
            "grid_auto_flow": null,
            "grid_auto_rows": null,
            "grid_column": null,
            "grid_gap": null,
            "grid_row": null,
            "grid_template_areas": null,
            "grid_template_columns": null,
            "grid_template_rows": null,
            "height": null,
            "justify_content": null,
            "justify_items": null,
            "left": null,
            "margin": null,
            "max_height": null,
            "max_width": null,
            "min_height": null,
            "min_width": null,
            "object_fit": null,
            "object_position": null,
            "order": null,
            "overflow": null,
            "overflow_x": null,
            "overflow_y": null,
            "padding": null,
            "right": null,
            "top": null,
            "visibility": null,
            "width": null
          }
        },
        "eb5161caa44e47d2b31b5f1942077797": {
          "model_module": "@jupyter-widgets/controls",
          "model_name": "DescriptionStyleModel",
          "model_module_version": "1.5.0",
          "state": {
            "_model_module": "@jupyter-widgets/controls",
            "_model_module_version": "1.5.0",
            "_model_name": "DescriptionStyleModel",
            "_view_count": null,
            "_view_module": "@jupyter-widgets/base",
            "_view_module_version": "1.2.0",
            "_view_name": "StyleView",
            "description_width": ""
          }
        },
        "e718b6778c9b4da1be6026874ea70174": {
          "model_module": "@jupyter-widgets/base",
          "model_name": "LayoutModel",
          "model_module_version": "1.2.0",
          "state": {
            "_model_module": "@jupyter-widgets/base",
            "_model_module_version": "1.2.0",
            "_model_name": "LayoutModel",
            "_view_count": null,
            "_view_module": "@jupyter-widgets/base",
            "_view_module_version": "1.2.0",
            "_view_name": "LayoutView",
            "align_content": null,
            "align_items": null,
            "align_self": null,
            "border": null,
            "bottom": null,
            "display": null,
            "flex": null,
            "flex_flow": null,
            "grid_area": null,
            "grid_auto_columns": null,
            "grid_auto_flow": null,
            "grid_auto_rows": null,
            "grid_column": null,
            "grid_gap": null,
            "grid_row": null,
            "grid_template_areas": null,
            "grid_template_columns": null,
            "grid_template_rows": null,
            "height": null,
            "justify_content": null,
            "justify_items": null,
            "left": null,
            "margin": null,
            "max_height": null,
            "max_width": null,
            "min_height": null,
            "min_width": null,
            "object_fit": null,
            "object_position": null,
            "order": null,
            "overflow": null,
            "overflow_x": null,
            "overflow_y": null,
            "padding": null,
            "right": null,
            "top": null,
            "visibility": null,
            "width": null
          }
        },
        "32afbdd7e1ed4bbc8c2b76a0e3c1a2b4": {
          "model_module": "@jupyter-widgets/controls",
          "model_name": "ProgressStyleModel",
          "model_module_version": "1.5.0",
          "state": {
            "_model_module": "@jupyter-widgets/controls",
            "_model_module_version": "1.5.0",
            "_model_name": "ProgressStyleModel",
            "_view_count": null,
            "_view_module": "@jupyter-widgets/base",
            "_view_module_version": "1.2.0",
            "_view_name": "StyleView",
            "bar_color": null,
            "description_width": ""
          }
        },
        "3825887014ba488ea21ae85668abf8fc": {
          "model_module": "@jupyter-widgets/base",
          "model_name": "LayoutModel",
          "model_module_version": "1.2.0",
          "state": {
            "_model_module": "@jupyter-widgets/base",
            "_model_module_version": "1.2.0",
            "_model_name": "LayoutModel",
            "_view_count": null,
            "_view_module": "@jupyter-widgets/base",
            "_view_module_version": "1.2.0",
            "_view_name": "LayoutView",
            "align_content": null,
            "align_items": null,
            "align_self": null,
            "border": null,
            "bottom": null,
            "display": null,
            "flex": null,
            "flex_flow": null,
            "grid_area": null,
            "grid_auto_columns": null,
            "grid_auto_flow": null,
            "grid_auto_rows": null,
            "grid_column": null,
            "grid_gap": null,
            "grid_row": null,
            "grid_template_areas": null,
            "grid_template_columns": null,
            "grid_template_rows": null,
            "height": null,
            "justify_content": null,
            "justify_items": null,
            "left": null,
            "margin": null,
            "max_height": null,
            "max_width": null,
            "min_height": null,
            "min_width": null,
            "object_fit": null,
            "object_position": null,
            "order": null,
            "overflow": null,
            "overflow_x": null,
            "overflow_y": null,
            "padding": null,
            "right": null,
            "top": null,
            "visibility": null,
            "width": null
          }
        },
        "e438f0a156a34b99b52698aa0129056a": {
          "model_module": "@jupyter-widgets/controls",
          "model_name": "DescriptionStyleModel",
          "model_module_version": "1.5.0",
          "state": {
            "_model_module": "@jupyter-widgets/controls",
            "_model_module_version": "1.5.0",
            "_model_name": "DescriptionStyleModel",
            "_view_count": null,
            "_view_module": "@jupyter-widgets/base",
            "_view_module_version": "1.2.0",
            "_view_name": "StyleView",
            "description_width": ""
          }
        },
        "429c0aa8aeef4c35846093be9a4cc29b": {
          "model_module": "@jupyter-widgets/controls",
          "model_name": "HBoxModel",
          "model_module_version": "1.5.0",
          "state": {
            "_dom_classes": [],
            "_model_module": "@jupyter-widgets/controls",
            "_model_module_version": "1.5.0",
            "_model_name": "HBoxModel",
            "_view_count": null,
            "_view_module": "@jupyter-widgets/controls",
            "_view_module_version": "1.5.0",
            "_view_name": "HBoxView",
            "box_style": "",
            "children": [
              "IPY_MODEL_bbf6d7964a0f447bbf1a949f4aca207a",
              "IPY_MODEL_6033ad179b8048538fcc9b245b640ea8",
              "IPY_MODEL_6965138a873546b985edf6ae301ae66e"
            ],
            "layout": "IPY_MODEL_0de4ff5e24d94cda9ae855a429a47f4e"
          }
        },
        "bbf6d7964a0f447bbf1a949f4aca207a": {
          "model_module": "@jupyter-widgets/controls",
          "model_name": "HTMLModel",
          "model_module_version": "1.5.0",
          "state": {
            "_dom_classes": [],
            "_model_module": "@jupyter-widgets/controls",
            "_model_module_version": "1.5.0",
            "_model_name": "HTMLModel",
            "_view_count": null,
            "_view_module": "@jupyter-widgets/controls",
            "_view_module_version": "1.5.0",
            "_view_name": "HTMLView",
            "description": "",
            "description_tooltip": null,
            "layout": "IPY_MODEL_b317962f7be34b63bef32fb38d0c21d8",
            "placeholder": "​",
            "style": "IPY_MODEL_d3b00b6607434071bbd3196d06d0c91b",
            "value": "config.json: 100%"
          }
        },
        "6033ad179b8048538fcc9b245b640ea8": {
          "model_module": "@jupyter-widgets/controls",
          "model_name": "FloatProgressModel",
          "model_module_version": "1.5.0",
          "state": {
            "_dom_classes": [],
            "_model_module": "@jupyter-widgets/controls",
            "_model_module_version": "1.5.0",
            "_model_name": "FloatProgressModel",
            "_view_count": null,
            "_view_module": "@jupyter-widgets/controls",
            "_view_module_version": "1.5.0",
            "_view_name": "ProgressView",
            "bar_style": "success",
            "description": "",
            "description_tooltip": null,
            "layout": "IPY_MODEL_11f9bef2501a4b9fa0dd9bc0fa43cacb",
            "max": 69665,
            "min": 0,
            "orientation": "horizontal",
            "style": "IPY_MODEL_2ebe0dfa3f264d5c969b8592d2406176",
            "value": 69665
          }
        },
        "6965138a873546b985edf6ae301ae66e": {
          "model_module": "@jupyter-widgets/controls",
          "model_name": "HTMLModel",
          "model_module_version": "1.5.0",
          "state": {
            "_dom_classes": [],
            "_model_module": "@jupyter-widgets/controls",
            "_model_module_version": "1.5.0",
            "_model_name": "HTMLModel",
            "_view_count": null,
            "_view_module": "@jupyter-widgets/controls",
            "_view_module_version": "1.5.0",
            "_view_name": "HTMLView",
            "description": "",
            "description_tooltip": null,
            "layout": "IPY_MODEL_2a81c01030114a5e9ecafdf01b38cc4f",
            "placeholder": "​",
            "style": "IPY_MODEL_9b8615c0c1e94f1f9976aafc748d5f3a",
            "value": " 69.7k/69.7k [00:00&lt;00:00, 1.59MB/s]"
          }
        },
        "0de4ff5e24d94cda9ae855a429a47f4e": {
          "model_module": "@jupyter-widgets/base",
          "model_name": "LayoutModel",
          "model_module_version": "1.2.0",
          "state": {
            "_model_module": "@jupyter-widgets/base",
            "_model_module_version": "1.2.0",
            "_model_name": "LayoutModel",
            "_view_count": null,
            "_view_module": "@jupyter-widgets/base",
            "_view_module_version": "1.2.0",
            "_view_name": "LayoutView",
            "align_content": null,
            "align_items": null,
            "align_self": null,
            "border": null,
            "bottom": null,
            "display": null,
            "flex": null,
            "flex_flow": null,
            "grid_area": null,
            "grid_auto_columns": null,
            "grid_auto_flow": null,
            "grid_auto_rows": null,
            "grid_column": null,
            "grid_gap": null,
            "grid_row": null,
            "grid_template_areas": null,
            "grid_template_columns": null,
            "grid_template_rows": null,
            "height": null,
            "justify_content": null,
            "justify_items": null,
            "left": null,
            "margin": null,
            "max_height": null,
            "max_width": null,
            "min_height": null,
            "min_width": null,
            "object_fit": null,
            "object_position": null,
            "order": null,
            "overflow": null,
            "overflow_x": null,
            "overflow_y": null,
            "padding": null,
            "right": null,
            "top": null,
            "visibility": null,
            "width": null
          }
        },
        "b317962f7be34b63bef32fb38d0c21d8": {
          "model_module": "@jupyter-widgets/base",
          "model_name": "LayoutModel",
          "model_module_version": "1.2.0",
          "state": {
            "_model_module": "@jupyter-widgets/base",
            "_model_module_version": "1.2.0",
            "_model_name": "LayoutModel",
            "_view_count": null,
            "_view_module": "@jupyter-widgets/base",
            "_view_module_version": "1.2.0",
            "_view_name": "LayoutView",
            "align_content": null,
            "align_items": null,
            "align_self": null,
            "border": null,
            "bottom": null,
            "display": null,
            "flex": null,
            "flex_flow": null,
            "grid_area": null,
            "grid_auto_columns": null,
            "grid_auto_flow": null,
            "grid_auto_rows": null,
            "grid_column": null,
            "grid_gap": null,
            "grid_row": null,
            "grid_template_areas": null,
            "grid_template_columns": null,
            "grid_template_rows": null,
            "height": null,
            "justify_content": null,
            "justify_items": null,
            "left": null,
            "margin": null,
            "max_height": null,
            "max_width": null,
            "min_height": null,
            "min_width": null,
            "object_fit": null,
            "object_position": null,
            "order": null,
            "overflow": null,
            "overflow_x": null,
            "overflow_y": null,
            "padding": null,
            "right": null,
            "top": null,
            "visibility": null,
            "width": null
          }
        },
        "d3b00b6607434071bbd3196d06d0c91b": {
          "model_module": "@jupyter-widgets/controls",
          "model_name": "DescriptionStyleModel",
          "model_module_version": "1.5.0",
          "state": {
            "_model_module": "@jupyter-widgets/controls",
            "_model_module_version": "1.5.0",
            "_model_name": "DescriptionStyleModel",
            "_view_count": null,
            "_view_module": "@jupyter-widgets/base",
            "_view_module_version": "1.2.0",
            "_view_name": "StyleView",
            "description_width": ""
          }
        },
        "11f9bef2501a4b9fa0dd9bc0fa43cacb": {
          "model_module": "@jupyter-widgets/base",
          "model_name": "LayoutModel",
          "model_module_version": "1.2.0",
          "state": {
            "_model_module": "@jupyter-widgets/base",
            "_model_module_version": "1.2.0",
            "_model_name": "LayoutModel",
            "_view_count": null,
            "_view_module": "@jupyter-widgets/base",
            "_view_module_version": "1.2.0",
            "_view_name": "LayoutView",
            "align_content": null,
            "align_items": null,
            "align_self": null,
            "border": null,
            "bottom": null,
            "display": null,
            "flex": null,
            "flex_flow": null,
            "grid_area": null,
            "grid_auto_columns": null,
            "grid_auto_flow": null,
            "grid_auto_rows": null,
            "grid_column": null,
            "grid_gap": null,
            "grid_row": null,
            "grid_template_areas": null,
            "grid_template_columns": null,
            "grid_template_rows": null,
            "height": null,
            "justify_content": null,
            "justify_items": null,
            "left": null,
            "margin": null,
            "max_height": null,
            "max_width": null,
            "min_height": null,
            "min_width": null,
            "object_fit": null,
            "object_position": null,
            "order": null,
            "overflow": null,
            "overflow_x": null,
            "overflow_y": null,
            "padding": null,
            "right": null,
            "top": null,
            "visibility": null,
            "width": null
          }
        },
        "2ebe0dfa3f264d5c969b8592d2406176": {
          "model_module": "@jupyter-widgets/controls",
          "model_name": "ProgressStyleModel",
          "model_module_version": "1.5.0",
          "state": {
            "_model_module": "@jupyter-widgets/controls",
            "_model_module_version": "1.5.0",
            "_model_name": "ProgressStyleModel",
            "_view_count": null,
            "_view_module": "@jupyter-widgets/base",
            "_view_module_version": "1.2.0",
            "_view_name": "StyleView",
            "bar_color": null,
            "description_width": ""
          }
        },
        "2a81c01030114a5e9ecafdf01b38cc4f": {
          "model_module": "@jupyter-widgets/base",
          "model_name": "LayoutModel",
          "model_module_version": "1.2.0",
          "state": {
            "_model_module": "@jupyter-widgets/base",
            "_model_module_version": "1.2.0",
            "_model_name": "LayoutModel",
            "_view_count": null,
            "_view_module": "@jupyter-widgets/base",
            "_view_module_version": "1.2.0",
            "_view_name": "LayoutView",
            "align_content": null,
            "align_items": null,
            "align_self": null,
            "border": null,
            "bottom": null,
            "display": null,
            "flex": null,
            "flex_flow": null,
            "grid_area": null,
            "grid_auto_columns": null,
            "grid_auto_flow": null,
            "grid_auto_rows": null,
            "grid_column": null,
            "grid_gap": null,
            "grid_row": null,
            "grid_template_areas": null,
            "grid_template_columns": null,
            "grid_template_rows": null,
            "height": null,
            "justify_content": null,
            "justify_items": null,
            "left": null,
            "margin": null,
            "max_height": null,
            "max_width": null,
            "min_height": null,
            "min_width": null,
            "object_fit": null,
            "object_position": null,
            "order": null,
            "overflow": null,
            "overflow_x": null,
            "overflow_y": null,
            "padding": null,
            "right": null,
            "top": null,
            "visibility": null,
            "width": null
          }
        },
        "9b8615c0c1e94f1f9976aafc748d5f3a": {
          "model_module": "@jupyter-widgets/controls",
          "model_name": "DescriptionStyleModel",
          "model_module_version": "1.5.0",
          "state": {
            "_model_module": "@jupyter-widgets/controls",
            "_model_module_version": "1.5.0",
            "_model_name": "DescriptionStyleModel",
            "_view_count": null,
            "_view_module": "@jupyter-widgets/base",
            "_view_module_version": "1.2.0",
            "_view_name": "StyleView",
            "description_width": ""
          }
        },
        "65d995fff6274e0db4978a16ca21d0c6": {
          "model_module": "@jupyter-widgets/controls",
          "model_name": "HBoxModel",
          "model_module_version": "1.5.0",
          "state": {
            "_dom_classes": [],
            "_model_module": "@jupyter-widgets/controls",
            "_model_module_version": "1.5.0",
            "_model_name": "HBoxModel",
            "_view_count": null,
            "_view_module": "@jupyter-widgets/controls",
            "_view_module_version": "1.5.0",
            "_view_name": "HBoxView",
            "box_style": "",
            "children": [
              "IPY_MODEL_d918f3ee090f4f8ab3b1a18c729ee821",
              "IPY_MODEL_f7a6af2a2e144eec926f50aaea5eb9e8",
              "IPY_MODEL_afe1e8c41d164dbdb8cd837bcfe1b63d"
            ],
            "layout": "IPY_MODEL_35f659c5f2154d7f8c7bf784b7d9ed00"
          }
        },
        "d918f3ee090f4f8ab3b1a18c729ee821": {
          "model_module": "@jupyter-widgets/controls",
          "model_name": "HTMLModel",
          "model_module_version": "1.5.0",
          "state": {
            "_dom_classes": [],
            "_model_module": "@jupyter-widgets/controls",
            "_model_module_version": "1.5.0",
            "_model_name": "HTMLModel",
            "_view_count": null,
            "_view_module": "@jupyter-widgets/controls",
            "_view_module_version": "1.5.0",
            "_view_name": "HTMLView",
            "description": "",
            "description_tooltip": null,
            "layout": "IPY_MODEL_f024c14415134b928686e3188161c815",
            "placeholder": "​",
            "style": "IPY_MODEL_7181e94ea0a74d63bc2c0102315d4c46",
            "value": "model.safetensors: 100%"
          }
        },
        "f7a6af2a2e144eec926f50aaea5eb9e8": {
          "model_module": "@jupyter-widgets/controls",
          "model_name": "FloatProgressModel",
          "model_module_version": "1.5.0",
          "state": {
            "_dom_classes": [],
            "_model_module": "@jupyter-widgets/controls",
            "_model_module_version": "1.5.0",
            "_model_name": "FloatProgressModel",
            "_view_count": null,
            "_view_module": "@jupyter-widgets/controls",
            "_view_module_version": "1.5.0",
            "_view_name": "ProgressView",
            "bar_style": "success",
            "description": "",
            "description_tooltip": null,
            "layout": "IPY_MODEL_498bab7890ac4fae9d0cc1cb3653aeed",
            "max": 346293852,
            "min": 0,
            "orientation": "horizontal",
            "style": "IPY_MODEL_7278d6ed97584210b0ca17841da6db3b",
            "value": 346293852
          }
        },
        "afe1e8c41d164dbdb8cd837bcfe1b63d": {
          "model_module": "@jupyter-widgets/controls",
          "model_name": "HTMLModel",
          "model_module_version": "1.5.0",
          "state": {
            "_dom_classes": [],
            "_model_module": "@jupyter-widgets/controls",
            "_model_module_version": "1.5.0",
            "_model_name": "HTMLModel",
            "_view_count": null,
            "_view_module": "@jupyter-widgets/controls",
            "_view_module_version": "1.5.0",
            "_view_name": "HTMLView",
            "description": "",
            "description_tooltip": null,
            "layout": "IPY_MODEL_24b9ef6ac61f4febaa255bc8c6cff783",
            "placeholder": "​",
            "style": "IPY_MODEL_d53040e1db494f7f8522139e479803f3",
            "value": " 346M/346M [00:03&lt;00:00, 66.6MB/s]"
          }
        },
        "35f659c5f2154d7f8c7bf784b7d9ed00": {
          "model_module": "@jupyter-widgets/base",
          "model_name": "LayoutModel",
          "model_module_version": "1.2.0",
          "state": {
            "_model_module": "@jupyter-widgets/base",
            "_model_module_version": "1.2.0",
            "_model_name": "LayoutModel",
            "_view_count": null,
            "_view_module": "@jupyter-widgets/base",
            "_view_module_version": "1.2.0",
            "_view_name": "LayoutView",
            "align_content": null,
            "align_items": null,
            "align_self": null,
            "border": null,
            "bottom": null,
            "display": null,
            "flex": null,
            "flex_flow": null,
            "grid_area": null,
            "grid_auto_columns": null,
            "grid_auto_flow": null,
            "grid_auto_rows": null,
            "grid_column": null,
            "grid_gap": null,
            "grid_row": null,
            "grid_template_areas": null,
            "grid_template_columns": null,
            "grid_template_rows": null,
            "height": null,
            "justify_content": null,
            "justify_items": null,
            "left": null,
            "margin": null,
            "max_height": null,
            "max_width": null,
            "min_height": null,
            "min_width": null,
            "object_fit": null,
            "object_position": null,
            "order": null,
            "overflow": null,
            "overflow_x": null,
            "overflow_y": null,
            "padding": null,
            "right": null,
            "top": null,
            "visibility": null,
            "width": null
          }
        },
        "f024c14415134b928686e3188161c815": {
          "model_module": "@jupyter-widgets/base",
          "model_name": "LayoutModel",
          "model_module_version": "1.2.0",
          "state": {
            "_model_module": "@jupyter-widgets/base",
            "_model_module_version": "1.2.0",
            "_model_name": "LayoutModel",
            "_view_count": null,
            "_view_module": "@jupyter-widgets/base",
            "_view_module_version": "1.2.0",
            "_view_name": "LayoutView",
            "align_content": null,
            "align_items": null,
            "align_self": null,
            "border": null,
            "bottom": null,
            "display": null,
            "flex": null,
            "flex_flow": null,
            "grid_area": null,
            "grid_auto_columns": null,
            "grid_auto_flow": null,
            "grid_auto_rows": null,
            "grid_column": null,
            "grid_gap": null,
            "grid_row": null,
            "grid_template_areas": null,
            "grid_template_columns": null,
            "grid_template_rows": null,
            "height": null,
            "justify_content": null,
            "justify_items": null,
            "left": null,
            "margin": null,
            "max_height": null,
            "max_width": null,
            "min_height": null,
            "min_width": null,
            "object_fit": null,
            "object_position": null,
            "order": null,
            "overflow": null,
            "overflow_x": null,
            "overflow_y": null,
            "padding": null,
            "right": null,
            "top": null,
            "visibility": null,
            "width": null
          }
        },
        "7181e94ea0a74d63bc2c0102315d4c46": {
          "model_module": "@jupyter-widgets/controls",
          "model_name": "DescriptionStyleModel",
          "model_module_version": "1.5.0",
          "state": {
            "_model_module": "@jupyter-widgets/controls",
            "_model_module_version": "1.5.0",
            "_model_name": "DescriptionStyleModel",
            "_view_count": null,
            "_view_module": "@jupyter-widgets/base",
            "_view_module_version": "1.2.0",
            "_view_name": "StyleView",
            "description_width": ""
          }
        },
        "498bab7890ac4fae9d0cc1cb3653aeed": {
          "model_module": "@jupyter-widgets/base",
          "model_name": "LayoutModel",
          "model_module_version": "1.2.0",
          "state": {
            "_model_module": "@jupyter-widgets/base",
            "_model_module_version": "1.2.0",
            "_model_name": "LayoutModel",
            "_view_count": null,
            "_view_module": "@jupyter-widgets/base",
            "_view_module_version": "1.2.0",
            "_view_name": "LayoutView",
            "align_content": null,
            "align_items": null,
            "align_self": null,
            "border": null,
            "bottom": null,
            "display": null,
            "flex": null,
            "flex_flow": null,
            "grid_area": null,
            "grid_auto_columns": null,
            "grid_auto_flow": null,
            "grid_auto_rows": null,
            "grid_column": null,
            "grid_gap": null,
            "grid_row": null,
            "grid_template_areas": null,
            "grid_template_columns": null,
            "grid_template_rows": null,
            "height": null,
            "justify_content": null,
            "justify_items": null,
            "left": null,
            "margin": null,
            "max_height": null,
            "max_width": null,
            "min_height": null,
            "min_width": null,
            "object_fit": null,
            "object_position": null,
            "order": null,
            "overflow": null,
            "overflow_x": null,
            "overflow_y": null,
            "padding": null,
            "right": null,
            "top": null,
            "visibility": null,
            "width": null
          }
        },
        "7278d6ed97584210b0ca17841da6db3b": {
          "model_module": "@jupyter-widgets/controls",
          "model_name": "ProgressStyleModel",
          "model_module_version": "1.5.0",
          "state": {
            "_model_module": "@jupyter-widgets/controls",
            "_model_module_version": "1.5.0",
            "_model_name": "ProgressStyleModel",
            "_view_count": null,
            "_view_module": "@jupyter-widgets/base",
            "_view_module_version": "1.2.0",
            "_view_name": "StyleView",
            "bar_color": null,
            "description_width": ""
          }
        },
        "24b9ef6ac61f4febaa255bc8c6cff783": {
          "model_module": "@jupyter-widgets/base",
          "model_name": "LayoutModel",
          "model_module_version": "1.2.0",
          "state": {
            "_model_module": "@jupyter-widgets/base",
            "_model_module_version": "1.2.0",
            "_model_name": "LayoutModel",
            "_view_count": null,
            "_view_module": "@jupyter-widgets/base",
            "_view_module_version": "1.2.0",
            "_view_name": "LayoutView",
            "align_content": null,
            "align_items": null,
            "align_self": null,
            "border": null,
            "bottom": null,
            "display": null,
            "flex": null,
            "flex_flow": null,
            "grid_area": null,
            "grid_auto_columns": null,
            "grid_auto_flow": null,
            "grid_auto_rows": null,
            "grid_column": null,
            "grid_gap": null,
            "grid_row": null,
            "grid_template_areas": null,
            "grid_template_columns": null,
            "grid_template_rows": null,
            "height": null,
            "justify_content": null,
            "justify_items": null,
            "left": null,
            "margin": null,
            "max_height": null,
            "max_width": null,
            "min_height": null,
            "min_width": null,
            "object_fit": null,
            "object_position": null,
            "order": null,
            "overflow": null,
            "overflow_x": null,
            "overflow_y": null,
            "padding": null,
            "right": null,
            "top": null,
            "visibility": null,
            "width": null
          }
        },
        "d53040e1db494f7f8522139e479803f3": {
          "model_module": "@jupyter-widgets/controls",
          "model_name": "DescriptionStyleModel",
          "model_module_version": "1.5.0",
          "state": {
            "_model_module": "@jupyter-widgets/controls",
            "_model_module_version": "1.5.0",
            "_model_name": "DescriptionStyleModel",
            "_view_count": null,
            "_view_module": "@jupyter-widgets/base",
            "_view_module_version": "1.2.0",
            "_view_name": "StyleView",
            "description_width": ""
          }
        }
      }
    }
  },
  "cells": [
    {
      "cell_type": "code",
      "source": [
        "!pip install pytorch_lightning"
      ],
      "metadata": {
        "id": "yzJOSpPfxc41"
      },
      "execution_count": null,
      "outputs": []
    },
    {
      "cell_type": "markdown",
      "source": [
        "# Import Libraries"
      ],
      "metadata": {
        "id": "fBW67ETv856c"
      }
    },
    {
      "cell_type": "code",
      "source": [
        "import os, shutil\n",
        "import numpy as np\n",
        "import matplotlib.pyplot as plt\n",
        "from PIL import Image, UnidentifiedImageError\n",
        "import torch\n",
        "import pytorch_lightning as pl\n",
        "from pytorch_lightning.callbacks import ModelCheckpoint\n",
        "from torch.utils.data import Dataset\n",
        "from torchvision import datasets, transforms\n",
        "from torchmetrics import Accuracy"
      ],
      "metadata": {
        "id": "W4jk0LSB-bxb"
      },
      "execution_count": null,
      "outputs": []
    },
    {
      "cell_type": "code",
      "source": [
        "import torch\n",
        "device = torch.device('cuda' if torch.cuda.is_available() else 'cpu')"
      ],
      "metadata": {
        "id": "2jb-2QY79jtr"
      },
      "execution_count": null,
      "outputs": []
    },
    {
      "cell_type": "markdown",
      "source": [
        "# Load Data"
      ],
      "metadata": {
        "id": "ld7mLLZe87-M"
      }
    },
    {
      "cell_type": "code",
      "source": [
        "batch_size = 64\n",
        "img_size = 224\n",
        "\n",
        "data_dir = '/content/drive/MyDrive/CV_project/data/SKIN/test'"
      ],
      "metadata": {
        "id": "pvGszkTT-pnl"
      },
      "execution_count": null,
      "outputs": []
    },
    {
      "cell_type": "code",
      "source": [
        "from transformers import AutoFeatureExtractor\n",
        "\n",
        "feature_extractor = AutoFeatureExtractor.from_pretrained(\"google/vit-base-patch16-224\",\n",
        "                                                         do_rescale=False)"
      ],
      "metadata": {
        "colab": {
          "base_uri": "https://localhost:8080/",
          "height": 248,
          "referenced_widgets": [
            "f1856bb5d3c145ccac160c9cb73a5629",
            "b7e82a4d80da4568afb1cdbf6a3610d8",
            "4454855d845549b2870552ea4d8571a0",
            "7a7deca5863a4faca96938d9bda4b913",
            "a8f499061a384a0382f6c0af1ef84c91",
            "8fa81cce35114f52b90eaee67b34e749",
            "eb5161caa44e47d2b31b5f1942077797",
            "e718b6778c9b4da1be6026874ea70174",
            "32afbdd7e1ed4bbc8c2b76a0e3c1a2b4",
            "3825887014ba488ea21ae85668abf8fc",
            "e438f0a156a34b99b52698aa0129056a",
            "429c0aa8aeef4c35846093be9a4cc29b",
            "bbf6d7964a0f447bbf1a949f4aca207a",
            "6033ad179b8048538fcc9b245b640ea8",
            "6965138a873546b985edf6ae301ae66e",
            "0de4ff5e24d94cda9ae855a429a47f4e",
            "b317962f7be34b63bef32fb38d0c21d8",
            "d3b00b6607434071bbd3196d06d0c91b",
            "11f9bef2501a4b9fa0dd9bc0fa43cacb",
            "2ebe0dfa3f264d5c969b8592d2406176",
            "2a81c01030114a5e9ecafdf01b38cc4f",
            "9b8615c0c1e94f1f9976aafc748d5f3a"
          ]
        },
        "id": "7x9riN4e3IVX",
        "outputId": "b05b0a95-4828-4cbe-fd64-a3ba91188a1d"
      },
      "execution_count": null,
      "outputs": [
        {
          "output_type": "stream",
          "name": "stderr",
          "text": [
            "/usr/local/lib/python3.10/dist-packages/huggingface_hub/utils/_token.py:88: UserWarning: \n",
            "The secret `HF_TOKEN` does not exist in your Colab secrets.\n",
            "To authenticate with the Hugging Face Hub, create a token in your settings tab (https://huggingface.co/settings/tokens), set it as secret in your Google Colab and restart your session.\n",
            "You will be able to reuse this secret in all of your notebooks.\n",
            "Please note that authentication is recommended but still optional to access public models or datasets.\n",
            "  warnings.warn(\n"
          ]
        },
        {
          "output_type": "display_data",
          "data": {
            "text/plain": [
              "preprocessor_config.json:   0%|          | 0.00/160 [00:00<?, ?B/s]"
            ],
            "application/vnd.jupyter.widget-view+json": {
              "version_major": 2,
              "version_minor": 0,
              "model_id": "f1856bb5d3c145ccac160c9cb73a5629"
            }
          },
          "metadata": {}
        },
        {
          "output_type": "display_data",
          "data": {
            "text/plain": [
              "config.json:   0%|          | 0.00/69.7k [00:00<?, ?B/s]"
            ],
            "application/vnd.jupyter.widget-view+json": {
              "version_major": 2,
              "version_minor": 0,
              "model_id": "429c0aa8aeef4c35846093be9a4cc29b"
            }
          },
          "metadata": {}
        },
        {
          "output_type": "stream",
          "name": "stderr",
          "text": [
            "/usr/local/lib/python3.10/dist-packages/transformers/models/vit/feature_extraction_vit.py:28: FutureWarning: The class ViTFeatureExtractor is deprecated and will be removed in version 5 of Transformers. Please use ViTImageProcessor instead.\n",
            "  warnings.warn(\n"
          ]
        }
      ]
    },
    {
      "cell_type": "code",
      "source": [
        "from torchvision.transforms import (\n",
        "    # CenterCrop,\n",
        "    Compose,\n",
        "    # Normalize,\n",
        "    # RandomHorizontalFlip,\n",
        "    # RandomResizedCrop,\n",
        "    Resize,\n",
        "    ToTensor,\n",
        ")\n",
        "\n",
        "# normalize = Normalize(mean=feature_extractor.image_mean, std=feature_extractor.image_std)\n",
        "\n",
        "transforms = Compose(\n",
        "        [\n",
        "            Resize(img_size),\n",
        "            ToTensor(),\n",
        "        ]\n",
        "    )"
      ],
      "metadata": {
        "id": "urC6slLh9NAL"
      },
      "execution_count": null,
      "outputs": []
    },
    {
      "cell_type": "code",
      "source": [
        "!rm -r /content/drive/MyDrive/CV_project/data/SKIN/test/.ipynb_checkpoints"
      ],
      "metadata": {
        "id": "AwQlWRulK3-2"
      },
      "execution_count": null,
      "outputs": []
    },
    {
      "cell_type": "code",
      "source": [
        "dataset = datasets.ImageFolder(data_dir, transforms)"
      ],
      "metadata": {
        "id": "JwcEPNa3_o4s"
      },
      "execution_count": null,
      "outputs": []
    },
    {
      "cell_type": "code",
      "source": [
        "len(dataset)"
      ],
      "metadata": {
        "id": "SU6h8As_Coyd",
        "colab": {
          "base_uri": "https://localhost:8080/"
        },
        "outputId": "30250bd2-26e7-4af1-a9a9-3676dbe37157"
      },
      "execution_count": null,
      "outputs": [
        {
          "output_type": "execute_result",
          "data": {
            "text/plain": [
              "38081"
            ]
          },
          "metadata": {},
          "execution_count": 58
        }
      ]
    },
    {
      "cell_type": "code",
      "source": [
        "class Collator:\n",
        "   def __init__(self, feature_extractor):\n",
        "      self.feature_extractor = feature_extractor\n",
        "\n",
        "   def __call__(self, batch):\n",
        "      encodings = self.feature_extractor([x[0] for x in batch],\n",
        "      return_tensors='pt')\n",
        "      encodings['labels'] = torch.tensor([x[1] for x in batch],\n",
        "      dtype=torch.long)\n",
        "      return encodings\n",
        "\n",
        "collator = Collator(feature_extractor)"
      ],
      "metadata": {
        "id": "bl9td9Hr-CEd"
      },
      "execution_count": null,
      "outputs": []
    },
    {
      "cell_type": "code",
      "source": [
        "train_size = int(len(dataset)*0.8)\n",
        "valid_size = len(dataset) - train_size\n",
        "print(train_size, valid_size)"
      ],
      "metadata": {
        "colab": {
          "base_uri": "https://localhost:8080/"
        },
        "id": "Mx_Xsk5C3S92",
        "outputId": "912c403c-22dd-4200-a2b4-6fbebef0db41"
      },
      "execution_count": null,
      "outputs": [
        {
          "output_type": "stream",
          "name": "stdout",
          "text": [
            "30464 7617\n"
          ]
        }
      ]
    },
    {
      "cell_type": "code",
      "source": [
        "train_dataset, valid_dataset = torch.utils.data.random_split(dataset, [train_size, valid_size])"
      ],
      "metadata": {
        "id": "mrqzdH7O3UO-"
      },
      "execution_count": null,
      "outputs": []
    },
    {
      "cell_type": "code",
      "source": [
        "train_loader = torch.utils.data.DataLoader(train_dataset,\n",
        "                                          batch_size=batch_size,\n",
        "                                          collate_fn=collator,\n",
        "                                          shuffle=True,\n",
        "                                          num_workers=2)\n",
        "\n",
        "valid_loader = torch.utils.data.DataLoader(valid_dataset,\n",
        "                                          batch_size=batch_size,\n",
        "                                          collate_fn=collator,\n",
        "                                          shuffle=True,\n",
        "                                          num_workers=2)"
      ],
      "metadata": {
        "id": "veK7SvYC3VNu"
      },
      "execution_count": null,
      "outputs": []
    },
    {
      "cell_type": "code",
      "source": [
        "id2label = {}\n",
        "for i, class_name in enumerate(dataset.classes):\n",
        "  id2label[str(i)] = class_name\n",
        "print(dataset.class_to_idx)\n",
        "print(id2label)"
      ],
      "metadata": {
        "colab": {
          "base_uri": "https://localhost:8080/"
        },
        "id": "4Oi0kLJf3Z4d",
        "outputId": "eba69da6-e156-443c-840d-67b6a0d6e5e4"
      },
      "execution_count": null,
      "outputs": [
        {
          "output_type": "stream",
          "name": "stdout",
          "text": [
            "{'A1_구진_플라크': 0, 'A2_비듬_각질_상피성잔고리': 1, 'A3_태선화_과다색소침착': 2, 'A4_농포_여드름': 3, 'A5_미란_궤양': 4, 'A6_결절_종괴': 5, '무증상': 6}\n",
            "{'0': 'A1_구진_플라크', '1': 'A2_비듬_각질_상피성잔고리', '2': 'A3_태선화_과다색소침착', '3': 'A4_농포_여드름', '4': 'A5_미란_궤양', '5': 'A6_결절_종괴', '6': '무증상'}\n"
          ]
        }
      ]
    },
    {
      "cell_type": "code",
      "source": [
        "def imshow(img):\n",
        "\n",
        "    img = img.numpy().transpose((1, 2, 0))\n",
        "\n",
        "    mean = feature_extractor.image_mean\n",
        "    std = feature_extractor.image_std\n",
        "    img = std * img + mean\n",
        "    img = np.clip(img, 0, 1)\n",
        "\n",
        "    plt.imshow(img)\n",
        "    plt.show()"
      ],
      "metadata": {
        "id": "4WOz6eX73Wzt"
      },
      "execution_count": null,
      "outputs": []
    },
    {
      "cell_type": "code",
      "source": [
        "for data in valid_loader:\n",
        "    print(data['labels'][0])\n",
        "    imshow(data['pixel_values'][0])\n",
        "    break"
      ],
      "metadata": {
        "colab": {
          "base_uri": "https://localhost:8080/",
          "height": 489
        },
        "id": "RIsFD6cz3Xy2",
        "outputId": "64d3fb00-1138-42e9-fbcc-c38bf998810c"
      },
      "execution_count": null,
      "outputs": [
        {
          "output_type": "stream",
          "name": "stderr",
          "text": [
            "/usr/lib/python3.10/multiprocessing/popen_fork.py:66: RuntimeWarning: os.fork() was called. os.fork() is incompatible with multithreaded code, and JAX is multithreaded, so this will likely lead to a deadlock.\n",
            "  self.pid = os.fork()\n"
          ]
        },
        {
          "output_type": "stream",
          "name": "stdout",
          "text": [
            "tensor(0)\n"
          ]
        },
        {
          "output_type": "display_data",
          "data": {
            "text/plain": [
              "<Figure size 640x480 with 1 Axes>"
            ],
            "image/png": "[encoded data removed]"
          },
          "metadata": {}
        }
      ]
    },
    {
      "cell_type": "markdown",
      "source": [
        "# Load Pre-trained Model"
      ],
      "metadata": {
        "id": "oU6lfIkt891b"
      }
    },
    {
      "cell_type": "code",
      "source": [
        "from transformers import AutoImageProcessor, AutoModelForImageClassification, TrainingArguments, Trainer\n",
        "\n",
        "processor = AutoImageProcessor.from_pretrained(\"google/vit-base-patch16-224\",\n",
        "                                               do_rescale=False)\n",
        "model = AutoModelForImageClassification.from_pretrained(\n",
        "    \"google/vit-base-patch16-224\",\n",
        "    num_labels=len(id2label),\n",
        "    label2id=dataset.class_to_idx,\n",
        "    id2label=id2label,\n",
        "    ignore_mismatched_sizes=True\n",
        ").to(device)"
      ],
      "metadata": {
        "id": "tWeHzC0h8wAs",
        "colab": {
          "base_uri": "https://localhost:8080/",
          "height": 122,
          "referenced_widgets": [
            "65d995fff6274e0db4978a16ca21d0c6",
            "d918f3ee090f4f8ab3b1a18c729ee821",
            "f7a6af2a2e144eec926f50aaea5eb9e8",
            "afe1e8c41d164dbdb8cd837bcfe1b63d",
            "35f659c5f2154d7f8c7bf784b7d9ed00",
            "f024c14415134b928686e3188161c815",
            "7181e94ea0a74d63bc2c0102315d4c46",
            "498bab7890ac4fae9d0cc1cb3653aeed",
            "7278d6ed97584210b0ca17841da6db3b",
            "24b9ef6ac61f4febaa255bc8c6cff783",
            "d53040e1db494f7f8522139e479803f3"
          ]
        },
        "outputId": "0c39f852-4aaa-4bd8-bb94-941066ad6fba"
      },
      "execution_count": null,
      "outputs": [
        {
          "output_type": "display_data",
          "data": {
            "text/plain": [
              "model.safetensors:   0%|          | 0.00/346M [00:00<?, ?B/s]"
            ],
            "application/vnd.jupyter.widget-view+json": {
              "version_major": 2,
              "version_minor": 0,
              "model_id": "65d995fff6274e0db4978a16ca21d0c6"
            }
          },
          "metadata": {}
        },
        {
          "output_type": "stream",
          "name": "stderr",
          "text": [
            "Some weights of ViTForImageClassification were not initialized from the model checkpoint at google/vit-base-patch16-224 and are newly initialized because the shapes did not match:\n",
            "- classifier.bias: found shape torch.Size([1000]) in the checkpoint and torch.Size([7]) in the model instantiated\n",
            "- classifier.weight: found shape torch.Size([1000, 768]) in the checkpoint and torch.Size([7, 768]) in the model instantiated\n",
            "You should probably TRAIN this model on a down-stream task to be able to use it for predictions and inference.\n"
          ]
        }
      ]
    },
    {
      "cell_type": "code",
      "execution_count": null,
      "metadata": {
        "id": "dhKOvhxT8N4I",
        "colab": {
          "base_uri": "https://localhost:8080/"
        },
        "outputId": "973e103f-43d6-40c7-e52a-2a81662759ad"
      },
      "outputs": [
        {
          "output_type": "execute_result",
          "data": {
            "text/plain": [
              "['A1_구진_플라크',\n",
              " 'A2_비듬_각질_상피성잔고리',\n",
              " 'A3_태선화_과다색소침착',\n",
              " 'A4_농포_여드름',\n",
              " 'A5_미란_궤양',\n",
              " 'A6_결절_종괴',\n",
              " '무증상']"
            ]
          },
          "metadata": {},
          "execution_count": 71
        }
      ],
      "source": [
        "dataset.classes"
      ]
    },
    {
      "cell_type": "markdown",
      "source": [
        "# Model Training"
      ],
      "metadata": {
        "id": "2Nu9xk8X8_xr"
      }
    },
    {
      "cell_type": "code",
      "source": [
        "class ViTClassifier(pl.LightningModule):\n",
        "\n",
        "   def __init__(self, model, lr: float = 2e-5, num_classes=2, **kwargs):\n",
        "       super().__init__()\n",
        "       self.save_hyperparameters('lr', *list(kwargs))\n",
        "       self.model = model\n",
        "       self.forward = self.model.forward\n",
        "       self.acc = Accuracy(task=\"multiclass\", num_classes=num_classes)\n",
        "\n",
        "   def training_step(self, batch, batch_idx):\n",
        "       outputs = self(**batch)\n",
        "       self.log(f\"train_loss\", outputs.loss)\n",
        "       acc = self.acc(outputs.logits.argmax(1), batch['labels'])\n",
        "       self.log(f\"train_acc\", acc, prog_bar=True)\n",
        "       return outputs.loss\n",
        "\n",
        "   def validation_step(self, batch, batch_idx):\n",
        "       outputs = self(**batch)\n",
        "       self.log(f\"val_loss\", outputs.loss)\n",
        "       acc = self.acc(outputs.logits.argmax(1), batch['labels'])\n",
        "       self.log(f\"val_acc\", acc, prog_bar=True)\n",
        "       return outputs.loss\n",
        "\n",
        "   def configure_optimizers(self):\n",
        "       return torch.optim.Adam(self.parameters(), lr=self.hparams.lr, weight_decay = 0.00025)"
      ],
      "metadata": {
        "id": "nogREeyjDCxU"
      },
      "execution_count": null,
      "outputs": []
    },
    {
      "cell_type": "code",
      "source": [
        "pl.seed_everything(42)\n",
        "classifier = ViTClassifier(model, lr=2e-5, num_classes=len(dataset.classes))"
      ],
      "metadata": {
        "id": "yXZCYdr8DMd7",
        "colab": {
          "base_uri": "https://localhost:8080/"
        },
        "outputId": "e4285df9-da06-4e3d-cc40-702e91c55320"
      },
      "execution_count": null,
      "outputs": [
        {
          "output_type": "stream",
          "name": "stderr",
          "text": [
            "INFO:lightning_fabric.utilities.seed:Seed set to 42\n"
          ]
        }
      ]
    },
    {
      "cell_type": "code",
      "source": [
        "classifier"
      ],
      "metadata": {
        "colab": {
          "base_uri": "https://localhost:8080/"
        },
        "id": "00xuj9w83gzF",
        "outputId": "aa194dab-f52a-4feb-ded9-6a8f70f88764"
      },
      "execution_count": null,
      "outputs": [
        {
          "output_type": "execute_result",
          "data": {
            "text/plain": [
              "ViTClassifier(\n",
              "  (model): ViTForImageClassification(\n",
              "    (vit): ViTModel(\n",
              "      (embeddings): ViTEmbeddings(\n",
              "        (patch_embeddings): ViTPatchEmbeddings(\n",
              "          (projection): Conv2d(3, 768, kernel_size=(16, 16), stride=(16, 16))\n",
              "        )\n",
              "        (dropout): Dropout(p=0.0, inplace=False)\n",
              "      )\n",
              "      (encoder): ViTEncoder(\n",
              "        (layer): ModuleList(\n",
              "          (0-11): 12 x ViTLayer(\n",
              "            (attention): ViTAttention(\n",
              "              (attention): ViTSelfAttention(\n",
              "                (query): Linear(in_features=768, out_features=768, bias=True)\n",
              "                (key): Linear(in_features=768, out_features=768, bias=True)\n",
              "                (value): Linear(in_features=768, out_features=768, bias=True)\n",
              "                (dropout): Dropout(p=0.0, inplace=False)\n",
              "              )\n",
              "              (output): ViTSelfOutput(\n",
              "                (dense): Linear(in_features=768, out_features=768, bias=True)\n",
              "                (dropout): Dropout(p=0.0, inplace=False)\n",
              "              )\n",
              "            )\n",
              "            (intermediate): ViTIntermediate(\n",
              "              (dense): Linear(in_features=768, out_features=3072, bias=True)\n",
              "              (intermediate_act_fn): GELUActivation()\n",
              "            )\n",
              "            (output): ViTOutput(\n",
              "              (dense): Linear(in_features=3072, out_features=768, bias=True)\n",
              "              (dropout): Dropout(p=0.0, inplace=False)\n",
              "            )\n",
              "            (layernorm_before): LayerNorm((768,), eps=1e-12, elementwise_affine=True)\n",
              "            (layernorm_after): LayerNorm((768,), eps=1e-12, elementwise_affine=True)\n",
              "          )\n",
              "        )\n",
              "      )\n",
              "      (layernorm): LayerNorm((768,), eps=1e-12, elementwise_affine=True)\n",
              "    )\n",
              "    (classifier): Linear(in_features=768, out_features=7, bias=True)\n",
              "  )\n",
              "  (acc): MulticlassAccuracy()\n",
              ")"
            ]
          },
          "metadata": {},
          "execution_count": 74
        }
      ]
    },
    {
      "cell_type": "code",
      "source": [
        "for i, (name, param) in enumerate(classifier.named_parameters()):\n",
        "    if 'classifier' in name:\n",
        "      print(i, name)\n",
        "      break\n",
        "\n",
        "    param.requires_grad = False"
      ],
      "metadata": {
        "id": "jr2284jLDRHc",
        "colab": {
          "base_uri": "https://localhost:8080/"
        },
        "outputId": "3fdbdc60-c573-4d17-8178-fb8ffe6ae7c6"
      },
      "execution_count": null,
      "outputs": [
        {
          "output_type": "stream",
          "name": "stdout",
          "text": [
            "198 model.classifier.weight\n"
          ]
        }
      ]
    },
    {
      "cell_type": "code",
      "source": [
        "for i, (name, param) in enumerate(classifier.named_parameters()):\n",
        "    if param.requires_grad:\n",
        "      print(i, name)"
      ],
      "metadata": {
        "id": "1ONGvqVhDT4E",
        "colab": {
          "base_uri": "https://localhost:8080/"
        },
        "outputId": "05fa8e05-bb2e-4c21-9647-40fd9d06f471"
      },
      "execution_count": null,
      "outputs": [
        {
          "output_type": "stream",
          "name": "stdout",
          "text": [
            "198 model.classifier.weight\n",
            "199 model.classifier.bias\n"
          ]
        }
      ]
    },
    {
      "cell_type": "code",
      "source": [
        "from IPython.display import clear_output\n",
        "\n",
        "class MetricsPlotter(pl.Callback):\n",
        "\n",
        "    def __init__(self):\n",
        "        super().__init__()\n",
        "        self.epoch = 0\n",
        "        self.metrics = {'train_loss': [], 'val_loss': [], 'train_acc': [], 'val_acc': []}\n",
        "\n",
        "    def on_validation_epoch_end(self, trainer, pl_module):\n",
        "\n",
        "        for key in self.metrics.keys():\n",
        "            value = trainer.logged_metrics.get(key, 0)\n",
        "            if isinstance(value, torch.Tensor):\n",
        "                value = value.cpu().numpy().item()\n",
        "            self.metrics[key].append(value)\n",
        "\n",
        "        if self.epoch != 0:\n",
        "            clear_output(wait=True)\n",
        "            print(\"epoch {} train acc {} validation acc {}\".format(self.epoch,\n",
        "                                                                   self.metrics['train_acc'][-1],\n",
        "                                                                   self.metrics['val_acc'][-1]))\n",
        "            self.loss_epoch_curve()\n",
        "\n",
        "        self.epoch += 1\n",
        "\n",
        "    def loss_epoch_curve(self):\n",
        "\n",
        "        figure, ax = plt.subplots(1, 2, figsize=(12, 5))\n",
        "\n",
        "        ax[0].plot(self.metrics['train_loss'])\n",
        "        ax[0].plot(self.metrics['val_loss'])\n",
        "        ax[0].set_title('Loss-Epoch curve')\n",
        "        ax[0].set_ylabel('Loss')\n",
        "        ax[0].set_xlabel('Epoch')\n",
        "        ax[0].legend(['train', 'val'], loc='upper right')\n",
        "\n",
        "        ax[1].plot(self.metrics['train_acc'])\n",
        "        ax[1].plot(self.metrics['val_acc'])\n",
        "        ax[1].set_title('Model Accuracy')\n",
        "        ax[1].set_ylabel('Accuracy')\n",
        "        ax[1].set_xlabel('Epoch')\n",
        "        ax[1].legend(['train', 'val'], loc='lower right')\n",
        "\n",
        "        plt.show()"
      ],
      "metadata": {
        "id": "m-q7n2qdENtl"
      },
      "execution_count": null,
      "outputs": []
    },
    {
      "cell_type": "code",
      "source": [
        "model_path = '/content/drive/MyDrive/CV_project/skin_model'\n",
        "\n",
        "checkpoint = ModelCheckpoint(\n",
        "    monitor = \"val_loss\",\n",
        "    mode = \"min\",\n",
        "    dirpath = model_path,\n",
        "    filename = \"sample-vit_{epoch:02d}-{val_loss:.2f}\",\n",
        "    save_weights_only = False,\n",
        "    save_top_k = 2\n",
        ")"
      ],
      "metadata": {
        "id": "-vHo3wiVERE7"
      },
      "execution_count": null,
      "outputs": []
    },
    {
      "cell_type": "code",
      "source": [
        "trainer = pl.Trainer(precision='16-mixed', max_epochs=3,\n",
        "                    callbacks=[checkpoint, MetricsPlotter()])"
      ],
      "metadata": {
        "colab": {
          "base_uri": "https://localhost:8080/"
        },
        "id": "WqDgcMYj3oOv",
        "outputId": "bb458d93-69cc-4bfe-dd95-8e6b16b7d77b"
      },
      "execution_count": null,
      "outputs": [
        {
          "output_type": "stream",
          "name": "stderr",
          "text": [
            "INFO:pytorch_lightning.utilities.rank_zero:Using 16bit Automatic Mixed Precision (AMP)\n",
            "INFO:pytorch_lightning.utilities.rank_zero:GPU available: True (cuda), used: True\n",
            "INFO:pytorch_lightning.utilities.rank_zero:TPU available: False, using: 0 TPU cores\n",
            "INFO:pytorch_lightning.utilities.rank_zero:IPU available: False, using: 0 IPUs\n",
            "INFO:pytorch_lightning.utilities.rank_zero:HPU available: False, using: 0 HPUs\n"
          ]
        }
      ]
    },
    {
      "cell_type": "code",
      "source": [
        "from PIL import ImageFile, Image\n",
        "ImageFile.LOAD_TRUNCATED_IMAGES = True"
      ],
      "metadata": {
        "id": "8v14Zk07SA0P"
      },
      "execution_count": null,
      "outputs": []
    },
    {
      "cell_type": "code",
      "source": [
        "trainer.fit(classifier, train_loader, valid_loader)"
      ],
      "metadata": {
        "id": "XPU-OR6C3pSW"
      },
      "execution_count": null,
      "outputs": []
    },
    {
      "cell_type": "code",
      "source": [
        "# pl model.to_onnx"
      ],
      "metadata": {
        "id": "JIGaD3TA3q4G"
      },
      "execution_count": null,
      "outputs": []
    },
    {
      "cell_type": "markdown",
      "source": [
        "# Inference"
      ],
      "metadata": {
        "id": "OxCAhjl8ET2O"
      }
    },
    {
      "cell_type": "code",
      "source": [
        "def inference(img_path):\n",
        "\n",
        "    img = Image.open(img_path)\n",
        "    encoding = feature_extractor(images=img, return_tensors='pt')\n",
        "\n",
        "    outputs = classifier(encoding['pixel_values'])\n",
        "    result = outputs.logits.softmax(1)\n",
        "    result_dict = {}\n",
        "\n",
        "    for i, value in enumerate(result[0].tolist()):\n",
        "        result_dict[id2label[str(i)]] = value\n",
        "\n",
        "    result = sorted(result_dict.items(), key=lambda x:x[1], reverse=True)\n",
        "\n",
        "    return result"
      ],
      "metadata": {
        "id": "jvYxVOSCEVDM"
      },
      "execution_count": null,
      "outputs": []
    },
    {
      "cell_type": "code",
      "source": [
        "file_path = ''\n",
        "result = inference(file_path)\n",
        "print(f'{result[0][0]}일 확률이 {int(result[0][1]*100)}%, {result[1][0]}일 확률이 {int(result[1][1]*100)}% 입니다.')"
      ],
      "metadata": {
        "id": "Fo1vNlNqEhTF"
      },
      "execution_count": null,
      "outputs": []
    }
  ]
}