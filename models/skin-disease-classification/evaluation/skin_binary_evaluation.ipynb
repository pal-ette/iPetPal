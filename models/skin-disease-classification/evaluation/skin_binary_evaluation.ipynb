{
  "nbformat": 4,
  "nbformat_minor": 0,
  "metadata": {
    "colab": {
      "provenance": [],
      "machine_shape": "hm",
      "gpuType": "L4"
    },
    "kernelspec": {
      "name": "python3",
      "display_name": "Python 3"
    },
    "language_info": {
      "name": "python"
    },
    "accelerator": "GPU"
  },
  "cells": [
    {
      "cell_type": "code",
      "source": [
        "from google.colab import drive\n",
        "drive.mount('/content/drive')"
      ],
      "metadata": {
        "colab": {
          "base_uri": "https://localhost:8080/"
        },
        "id": "vfj-5Y0qXdli",
        "outputId": "ec0bca76-e85b-4a89-9e00-257e0ab6476e"
      },
      "execution_count": 1,
      "outputs": [
        {
          "output_type": "stream",
          "name": "stdout",
          "text": [
            "Mounted at /content/drive\n"
          ]
        }
      ]
    },
    {
      "cell_type": "code",
      "source": [
        "!pip install timm"
      ],
      "metadata": {
        "id": "uhGUxY-0Wijh"
      },
      "execution_count": null,
      "outputs": []
    },
    {
      "cell_type": "code",
      "source": [
        "import torch, os, random\n",
        "import torch.nn as nn\n",
        "import timm"
      ],
      "metadata": {
        "id": "SGX7KGCIXBgA"
      },
      "execution_count": 22,
      "outputs": []
    },
    {
      "cell_type": "code",
      "source": [
        "device = torch.device('cuda' if torch.cuda.is_available() else 'cpu')"
      ],
      "metadata": {
        "id": "6sKpjmILXHWY"
      },
      "execution_count": 23,
      "outputs": []
    },
    {
      "cell_type": "code",
      "source": [
        "class Classifier(nn.Module):\n",
        "    def __init__(self, model, num_classes=2):\n",
        "        super().__init__()\n",
        "        self.model = model\n",
        "        self.classifier = nn.Linear(hidden_size, num_classes)\n",
        "        # self.sigmoid = nn.Sigmoid()\n",
        "\n",
        "    def forward(self, x):\n",
        "        x = self.model(x)\n",
        "        x = self.classifier(x)\n",
        "        return x # self.sigmoid(x)"
      ],
      "metadata": {
        "id": "qjM009J0W9zq"
      },
      "execution_count": 4,
      "outputs": []
    },
    {
      "cell_type": "code",
      "source": [
        "model_name = 'inception_v4' # inception_v4 inception_resnet_v2\n",
        "hidden_size = 768\n",
        "pretrained = False\n",
        "model = timm.create_model(model_name, pretrained=pretrained, num_classes=2)"
      ],
      "metadata": {
        "id": "HJDNuRe8W7c4"
      },
      "execution_count": 36,
      "outputs": []
    },
    {
      "cell_type": "code",
      "source": [
        "classifier = Classifier(model, num_classes=6).to(device)"
      ],
      "metadata": {
        "id": "ZVER6vZeW_Sw"
      },
      "execution_count": 25,
      "outputs": []
    },
    {
      "cell_type": "code",
      "source": [
        "dict_file = '/content/drive/MyDrive/CV_project/skin_model/binary_inception_v4.pt'"
      ],
      "metadata": {
        "id": "O0u3UoRxXkbQ"
      },
      "execution_count": 37,
      "outputs": []
    },
    {
      "cell_type": "code",
      "execution_count": 39,
      "metadata": {
        "colab": {
          "base_uri": "https://localhost:8080/"
        },
        "id": "YEmV1xfqWdh2",
        "outputId": "6c37bc2f-d8e5-49ab-8658-929e606ce4e9"
      },
      "outputs": [
        {
          "output_type": "execute_result",
          "data": {
            "text/plain": [
              "<All keys matched successfully>"
            ]
          },
          "metadata": {},
          "execution_count": 39
        }
      ],
      "source": [
        "pretrained = torch.load(dict_file)\n",
        "\n",
        "state_dict = pretrained['state_dict']\n",
        "labels = pretrained['label']\n",
        "\n",
        "model_dict = model.state_dict()\n",
        "model_dict.update(state_dict)\n",
        "model.load_state_dict(model_dict)"
      ]
    },
    {
      "cell_type": "code",
      "source": [
        "labels"
      ],
      "metadata": {
        "colab": {
          "base_uri": "https://localhost:8080/"
        },
        "id": "CFASr27wqvtx",
        "outputId": "8092fbe0-c33f-48df-b91c-b03a18c170ee"
      },
      "execution_count": 40,
      "outputs": [
        {
          "output_type": "execute_result",
          "data": {
            "text/plain": [
              "['무증상', '유증상']"
            ]
          },
          "metadata": {},
          "execution_count": 40
        }
      ]
    },
    {
      "cell_type": "markdown",
      "source": [
        "# to .onnx"
      ],
      "metadata": {
        "id": "ze50fvbWYTyo"
      }
    },
    {
      "cell_type": "code",
      "source": [
        "import torch.onnx"
      ],
      "metadata": {
        "id": "g95JJ11phNU7"
      },
      "execution_count": 9,
      "outputs": []
    },
    {
      "cell_type": "code",
      "source": [
        "classifier = model.to(device)\n",
        "classifier.eval()"
      ],
      "metadata": {
        "id": "shXvEWTdmRoE"
      },
      "execution_count": null,
      "outputs": []
    },
    {
      "cell_type": "code",
      "source": [
        "model_path = '/content/drive/MyDrive/CV_project/skin_model'"
      ],
      "metadata": {
        "id": "M7rCNdGkpl54"
      },
      "execution_count": 16,
      "outputs": []
    },
    {
      "cell_type": "code",
      "source": [
        "torch_input = torch.randn(1, 3, 224, 224).to(device)\n",
        "torch.onnx.export(classifier, torch_input, os.path.join(model_path, 'binary_inception_v4.onnx'))"
      ],
      "metadata": {
        "id": "ROVFIWPPcSX1"
      },
      "execution_count": 42,
      "outputs": []
    },
    {
      "cell_type": "markdown",
      "source": [
        "# onnx inference"
      ],
      "metadata": {
        "id": "gebJVEw4mvtB"
      }
    },
    {
      "cell_type": "code",
      "source": [
        "!pip install onnxruntime"
      ],
      "metadata": {
        "colab": {
          "base_uri": "https://localhost:8080/"
        },
        "id": "9QobjFsEmxJM",
        "outputId": "0aa4c186-642e-4204-f668-5230042ee3ba"
      },
      "execution_count": 93,
      "outputs": [
        {
          "output_type": "stream",
          "name": "stdout",
          "text": [
            "Collecting onnxruntime\n",
            "  Downloading onnxruntime-1.18.0-cp310-cp310-manylinux_2_27_x86_64.manylinux_2_28_x86_64.whl (6.8 MB)\n",
            "\u001b[2K     \u001b[90m━━━━━━━━━━━━━━━━━━━━━━━━━━━━━━━━━━━━━━━━\u001b[0m \u001b[32m6.8/6.8 MB\u001b[0m \u001b[31m61.8 MB/s\u001b[0m eta \u001b[36m0:00:00\u001b[0m\n",
            "\u001b[?25hCollecting coloredlogs (from onnxruntime)\n",
            "  Downloading coloredlogs-15.0.1-py2.py3-none-any.whl (46 kB)\n",
            "\u001b[2K     \u001b[90m━━━━━━━━━━━━━━━━━━━━━━━━━━━━━━━━━━━━━━━━\u001b[0m \u001b[32m46.0/46.0 kB\u001b[0m \u001b[31m6.6 MB/s\u001b[0m eta \u001b[36m0:00:00\u001b[0m\n",
            "\u001b[?25hRequirement already satisfied: flatbuffers in /usr/local/lib/python3.10/dist-packages (from onnxruntime) (24.3.25)\n",
            "Requirement already satisfied: numpy>=1.21.6 in /usr/local/lib/python3.10/dist-packages (from onnxruntime) (1.25.2)\n",
            "Requirement already satisfied: packaging in /usr/local/lib/python3.10/dist-packages (from onnxruntime) (24.0)\n",
            "Requirement already satisfied: protobuf in /usr/local/lib/python3.10/dist-packages (from onnxruntime) (3.20.3)\n",
            "Requirement already satisfied: sympy in /usr/local/lib/python3.10/dist-packages (from onnxruntime) (1.12)\n",
            "Collecting humanfriendly>=9.1 (from coloredlogs->onnxruntime)\n",
            "  Downloading humanfriendly-10.0-py2.py3-none-any.whl (86 kB)\n",
            "\u001b[2K     \u001b[90m━━━━━━━━━━━━━━━━━━━━━━━━━━━━━━━━━━━━━━━━\u001b[0m \u001b[32m86.8/86.8 kB\u001b[0m \u001b[31m15.4 MB/s\u001b[0m eta \u001b[36m0:00:00\u001b[0m\n",
            "\u001b[?25hRequirement already satisfied: mpmath>=0.19 in /usr/local/lib/python3.10/dist-packages (from sympy->onnxruntime) (1.3.0)\n",
            "Installing collected packages: humanfriendly, coloredlogs, onnxruntime\n",
            "Successfully installed coloredlogs-15.0.1 humanfriendly-10.0 onnxruntime-1.18.0\n"
          ]
        }
      ]
    },
    {
      "cell_type": "code",
      "source": [
        "import onnxruntime\n",
        "from scipy.special import softmax\n",
        "from PIL import Image\n",
        "from torchvision.transforms import ToTensor"
      ],
      "metadata": {
        "id": "O7_Rcb50mxvx"
      },
      "execution_count": 46,
      "outputs": []
    },
    {
      "cell_type": "code",
      "source": [
        "labels"
      ],
      "metadata": {
        "colab": {
          "base_uri": "https://localhost:8080/"
        },
        "id": "exLrWGJlkiKi",
        "outputId": "74c5c92b-ea82-4d26-f6da-f451a6413a4f"
      },
      "execution_count": 43,
      "outputs": [
        {
          "output_type": "execute_result",
          "data": {
            "text/plain": [
              "['무증상', '유증상']"
            ]
          },
          "metadata": {},
          "execution_count": 43
        }
      ]
    },
    {
      "cell_type": "code",
      "source": [
        "model_path = '/content/drive/MyDrive/CV_project/skin_model'"
      ],
      "metadata": {
        "id": "xBQ87MEPnpmQ"
      },
      "execution_count": 44,
      "outputs": []
    },
    {
      "cell_type": "code",
      "source": [
        "filepath = os.path.join(model_path, 'binary_inception_v4.onnx')\n",
        "ort_session = onnxruntime.InferenceSession(filepath)\n",
        "input_name = ort_session.get_inputs()[0].name"
      ],
      "metadata": {
        "id": "xYJ9xdkmm-Ip"
      },
      "execution_count": 47,
      "outputs": []
    },
    {
      "cell_type": "code",
      "source": [
        "labels"
      ],
      "metadata": {
        "id": "dNPz27LyCmG6"
      },
      "execution_count": null,
      "outputs": []
    },
    {
      "cell_type": "code",
      "source": [
        "def inference(img_path, labels):\n",
        "\n",
        "    img = Image.open(img_path)\n",
        "    img = img.resize((224, 224))\n",
        "    img = ToTensor()(img).unsqueeze(0)\n",
        "\n",
        "    ort_inputs = {input_name: img.numpy()}\n",
        "    ort_outs = ort_session.run(None, ort_inputs)\n",
        "\n",
        "    result = softmax(ort_outs)\n",
        "    result_dict = {}\n",
        "\n",
        "    for i, value in enumerate(result[0][0].tolist()):\n",
        "        result_dict[labels[i]] = value\n",
        "\n",
        "    result = sorted(result_dict.items(), key=lambda x:x[1], reverse=True)\n",
        "\n",
        "    return result"
      ],
      "metadata": {
        "id": "K7DVtNjxXL9H"
      },
      "execution_count": 56,
      "outputs": []
    },
    {
      "cell_type": "code",
      "source": [
        "def inference_simple(img_path):\n",
        "\n",
        "    img = Image.open(img_path)\n",
        "    img = img.resize((224, 224))\n",
        "    img = ToTensor()(img).unsqueeze(0)\n",
        "\n",
        "    ort_inputs = {input_name: img.numpy()}\n",
        "    ort_outs = ort_session.run(None, ort_inputs)\n",
        "\n",
        "    result = softmax(ort_outs)\n",
        "    return (result[0][0].argmax(), result[0][0].tolist())"
      ],
      "metadata": {
        "id": "9bFbRC86EKjd"
      },
      "execution_count": 103,
      "outputs": []
    },
    {
      "cell_type": "code",
      "source": [
        "root = '/content/drive/MyDrive/CV_project/data/SKIN/test/test_dog_resized'"
      ],
      "metadata": {
        "id": "Yi3m-v8EDRfU"
      },
      "execution_count": 104,
      "outputs": []
    },
    {
      "cell_type": "code",
      "source": [
        "predictions = {'target':[], 'pred':[], 'probs':[]}\n",
        "for folder in os.listdir(root):\n",
        "    print(folder, len(os.listdir(os.path.join(root, folder))))\n",
        "    for file in os.listdir(os.path.join(root, folder)):\n",
        "        if folder.startswith('A'):\n",
        "            predictions['target'].append(1)\n",
        "        else:\n",
        "            predictions['target'].append(0)\n",
        "        inf_result = inference_simple(os.path.join(root, folder, file))\n",
        "        predictions['pred'].append(inf_result[0])\n",
        "        predictions['probs'].append(inf_result[1])\n",
        "        if len(predictions['pred']) % 1000 == 0:\n",
        "            print(len(predictions['pred']), \"done\")"
      ],
      "metadata": {
        "colab": {
          "base_uri": "https://localhost:8080/"
        },
        "id": "9MUsPGGSDl-0",
        "outputId": "547a2024-5566-4d2e-83de-8f1b18a4fed7"
      },
      "execution_count": 107,
      "outputs": [
        {
          "output_type": "stream",
          "name": "stdout",
          "text": [
            "A1_구진_플라크 4068\n",
            "1000 done\n",
            "2000 done\n",
            "3000 done\n",
            "4000 done\n",
            "무증상 17401\n",
            "5000 done\n",
            "6000 done\n",
            "7000 done\n",
            "8000 done\n",
            "9000 done\n",
            "10000 done\n",
            "11000 done\n",
            "12000 done\n",
            "13000 done\n",
            "14000 done\n",
            "15000 done\n",
            "16000 done\n",
            "17000 done\n",
            "18000 done\n",
            "19000 done\n",
            "20000 done\n",
            "21000 done\n",
            "A2_비듬_각질_상피성잔고리 7849\n",
            "22000 done\n",
            "23000 done\n",
            "24000 done\n",
            "25000 done\n",
            "26000 done\n",
            "27000 done\n",
            "28000 done\n",
            "29000 done\n",
            "A3_태선화_과다색소침착 6746\n",
            "30000 done\n",
            "31000 done\n",
            "32000 done\n",
            "33000 done\n",
            "34000 done\n",
            "35000 done\n",
            "36000 done\n",
            "A4_농포_여드름 1668\n",
            "37000 done\n",
            "A5_미란_궤양 1500\n",
            "38000 done\n",
            "39000 done\n",
            "A6_결절_종괴 1514\n",
            "40000 done\n"
          ]
        }
      ]
    },
    {
      "cell_type": "code",
      "source": [
        "preds = list(map(int, predictions['pred']))\n",
        "predictions['pred'] = preds\n",
        "\n",
        "import json\n",
        "\n",
        "with open('/content/drive/MyDrive/CV_project/skin_model/prediction/binary-inceptionv4-epoch10.json', 'w') as f:\n",
        "    json.dump(predictions, f)"
      ],
      "metadata": {
        "id": "3XmZYUKhZFHt"
      },
      "execution_count": 108,
      "outputs": []
    },
    {
      "cell_type": "code",
      "source": [
        "import matplotlib.font_manager as font_manager\n",
        "import matplotlib.pyplot as plt\n",
        "\n",
        "font_files = font_manager.findSystemFonts(fontpaths='/content/drive/MyDrive/Pal-ette/D2Coding')\n",
        "for font_file in font_files:\n",
        "    font_manager.fontManager.addfont(font_file)\n",
        "\n",
        "plt.rc('font', family='D2Coding')"
      ],
      "metadata": {
        "id": "N-ha4jfyTbGO"
      },
      "execution_count": 109,
      "outputs": []
    },
    {
      "cell_type": "code",
      "source": [
        "from sklearn.metrics import confusion_matrix\n",
        "import seaborn as sns\n",
        "\n",
        "cm = confusion_matrix(predictions['target'], predictions['pred'], normalize='true')\n",
        "hm = sns.heatmap(cm, annot=True, fmt='.2f', cmap='flare_r')\n",
        "hm.set_xlabel('Prediction', fontsize=10)\n",
        "hm.set_ylabel('True Label', fontsize=10)\n",
        "hm.set_xticklabels(labels=labels, fontsize=10)\n",
        "hm.set_yticklabels(labels=labels, fontsize=10, rotation=0)"
      ],
      "metadata": {
        "colab": {
          "base_uri": "https://localhost:8080/",
          "height": 465
        },
        "id": "CxR7qlUCEsKL",
        "outputId": "66183605-22aa-4113-f6a6-a17cd444e5f4"
      },
      "execution_count": 110,
      "outputs": [
        {
          "output_type": "execute_result",
          "data": {
            "text/plain": [
              "[Text(0, 0.5, '무증상'), Text(0, 1.5, '유증상')]"
            ]
          },
          "metadata": {},
          "execution_count": 110
        },
        {
          "output_type": "display_data",
          "data": {
            "text/plain": [
              "<Figure size 640x480 with 2 Axes>"
            ],
            "image/png": "[encoded data removed]"
          },
          "metadata": {}
        }
      ]
    },
    {
      "cell_type": "code",
      "source": [
        "from sklearn.metrics import classification_report\n",
        "\n",
        "cr = classification_report(predictions['target'], predictions['pred'])\n",
        "print(cr)"
      ],
      "metadata": {
        "colab": {
          "base_uri": "https://localhost:8080/"
        },
        "id": "ZIlMCz65VrVe",
        "outputId": "55c3696e-c096-48d1-ef63-22ee5b3f633e"
      },
      "execution_count": 111,
      "outputs": [
        {
          "output_type": "stream",
          "name": "stdout",
          "text": [
            "              precision    recall  f1-score   support\n",
            "\n",
            "           0       0.65      0.60      0.62     17401\n",
            "           1       0.72      0.75      0.74     23345\n",
            "\n",
            "    accuracy                           0.69     40746\n",
            "   macro avg       0.68      0.68      0.68     40746\n",
            "weighted avg       0.69      0.69      0.69     40746\n",
            "\n"
          ]
        }
      ]
    },
    {
      "cell_type": "code",
      "source": [
        "from sklearn.metrics import precision_recall_curve\n",
        "from sklearn.metrics import auc\n",
        "import numpy as np\n",
        "\n",
        "target = np.array(predictions['target'])\n",
        "probs = np.array(predictions['probs'])[:, 1]\n",
        "\n",
        "precision, recall, thresholds = precision_recall_curve(target, probs)\n",
        "pr_auc = auc(recall, precision)\n",
        "plt.plot(recall, precision)\n",
        "plt.title('Precision-Recall Curve (AUC = ' + str(round(pr_auc,4)) + ')')\n",
        "plt.xlabel('Recall')\n",
        "plt.ylabel('Precision')\n",
        "plt.show()"
      ],
      "metadata": {
        "colab": {
          "base_uri": "https://localhost:8080/",
          "height": 468
        },
        "id": "psObzSRUZQ37",
        "outputId": "7d29fdf7-45db-453b-a210-e6949a715cee"
      },
      "execution_count": 113,
      "outputs": [
        {
          "output_type": "display_data",
          "data": {
            "text/plain": [
              "<Figure size 640x480 with 1 Axes>"
            ],
            "image/png": "[encoded data removed]"
          },
          "metadata": {}
        }
      ]
    },
    {
      "cell_type": "code",
      "source": [],
      "metadata": {
        "id": "c41ZmSgjgtw3"
      },
      "execution_count": null,
      "outputs": []
    }
  ]
}