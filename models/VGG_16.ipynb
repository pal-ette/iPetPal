{
  "nbformat": 4,
  "nbformat_minor": 0,
  "metadata": {
    "colab": {
      "provenance": [],
      "gpuType": "T4",
      "machine_shape": "hm"
    },
    "kernelspec": {
      "name": "python3",
      "display_name": "Python 3"
    },
    "language_info": {
      "name": "python"
    },
    "accelerator": "GPU"
  },
  "cells": [
    {
      "cell_type": "code",
      "execution_count": null,
      "metadata": {
        "id": "DntLxesOqNVz"
      },
      "outputs": [],
      "source": [
        "!unzip -q \"/content/drive/MyDrive/CV_project/data/안구질환/train_test_val.zip\"\n"
      ]
    },
    {
      "cell_type": "code",
      "source": [
        "import torch\n",
        "from torch import nn\n",
        "from torch import optim\n",
        "from torch.nn import functional as F\n",
        "from torch.utils.data import DataLoader\n",
        "from torchvision import models\n",
        "from torchvision import transforms\n",
        "from torchvision.datasets import ImageFolder"
      ],
      "metadata": {
        "id": "Q1wbGWxkraPC"
      },
      "execution_count": null,
      "outputs": []
    },
    {
      "cell_type": "code",
      "source": [
        "!find /content/train_test_val/ -name \".ipynb_checkpoints\" -type d -exec rm -rf {} +\n"
      ],
      "metadata": {
        "id": "wSc77qQNtnRy"
      },
      "execution_count": null,
      "outputs": []
    },
    {
      "cell_type": "code",
      "source": [
        "# 하이퍼파라미터 설정\n",
        "hyperparams = {\n",
        "    \"batch_size\": 16,  # 배치 크기: 한 번에 네 개의 이미지를 처리\n",
        "    \"learning_rate\": 0.0001,  # 학습률: 모델이 학습할 때 가중치를 업데이트하는 속도\n",
        "    \"epochs\": 10,  # 에포크 수: 전체 데이터셋을 몇 번 반복해서 학습할 것인지 설정\n",
        "    \"transform\": transforms.Compose(  # 데이터 변환 파이프라인 설정\n",
        "        [\n",
        "            transforms.Resize(256),  # 이미지를 256x256 크기로 리사이즈\n",
        "            transforms.CenterCrop(224),  # 이미지를 중앙에서 224x224 크기로 자름\n",
        "            transforms.ToTensor(),  # 이미지를 텐서로 변환 (픽셀 값을 [0, 1] 범위로 변환)\n",
        "            transforms.Normalize(mean=[0.48235, 0.45882, 0.40784], std=[1.0/255.0, 1.0/255.0, 1.0/255.0])\n",
        "            # 이미지 정규화: 평균과 표준편차를 사용하여 각 채널을 정규화\n",
        "        ]\n",
        "    )\n",
        "}\n",
        "\n"
      ],
      "metadata": {
        "id": "EECAc_ylrq2Z"
      },
      "execution_count": null,
      "outputs": []
    },
    {
      "cell_type": "markdown",
      "source": [
        "### pytorch 이미지 폴더, 이미지 로더 설정"
      ],
      "metadata": {
        "id": "wUphdHArQEXV"
      }
    },
    {
      "cell_type": "code",
      "source": [
        "# 학습 데이터셋 생성\n",
        "train_dataset = ImageFolder(root=\"/content/train_test_val/train\", transform=hyperparams[\"transform\"])\n",
        "\n",
        "# 테스트 데이터셋 생성\n",
        "test_dataset = ImageFolder(root=\"/content/train_test_val/test\", transform=hyperparams[\"transform\"])\n",
        "\n",
        "# 학습 데이터 로더 생성\n",
        "train_dataloader = DataLoader(train_dataset, batch_size=hyperparams[\"batch_size\"], shuffle=True, drop_last=True)\n",
        "\n",
        "# 테스트 데이터 로더 생성\n",
        "test_dataloader = DataLoader(test_dataset, batch_size=hyperparams[\"batch_size\"], shuffle=True, drop_last=True)\n"
      ],
      "metadata": {
        "id": "9W_seLkXQDX_"
      },
      "execution_count": null,
      "outputs": []
    },
    {
      "cell_type": "markdown",
      "source": [
        "### 모델 불러오기\n"
      ],
      "metadata": {
        "id": "C2PvXo15FHWZ"
      }
    },
    {
      "cell_type": "code",
      "source": [
        "model = models.vgg16(weights=\"VGG16_Weights.IMAGENET1K_V1\")\n",
        "model.classifier[6] = nn.Linear(4096, len(train_dataset.classes))"
      ],
      "metadata": {
        "id": "Fj1dKLr_2yye",
        "colab": {
          "base_uri": "https://localhost:8080/"
        },
        "outputId": "75187ecc-6b78-4171-ad9a-69c344bcaac7"
      },
      "execution_count": null,
      "outputs": [
        {
          "output_type": "stream",
          "name": "stderr",
          "text": [
            "Downloading: \"https://download.pytorch.org/models/vgg16-397923af.pth\" to /root/.cache/torch/hub/checkpoints/vgg16-397923af.pth\n",
            "100%|██████████| 528M/528M [00:02<00:00, 221MB/s]\n"
          ]
        }
      ]
    },
    {
      "cell_type": "code",
      "source": [
        "device = \"cuda\" if torch.cuda.is_available() else \"cpu\"\n",
        "model = model.to(device)\n",
        "criterion = nn.CrossEntropyLoss().to(device)\n",
        "optimizer = optim.SGD(model.parameters(), lr=hyperparams[\"learning_rate\"])"
      ],
      "metadata": {
        "id": "Irh556ZDQaC-"
      },
      "execution_count": null,
      "outputs": []
    },
    {
      "cell_type": "code",
      "source": [
        "for epoch in range(hyperparams[\"epochs\"]):\n",
        "    cost = 0.0\n",
        "\n",
        "    for images, classes in train_dataloader:\n",
        "        images = images.to(device)\n",
        "        classes = classes.to(device)\n",
        "\n",
        "        output = model(images)\n",
        "        loss = criterion(output, classes)\n",
        "\n",
        "        optimizer.zero_grad()\n",
        "        loss.backward()\n",
        "        optimizer.step()\n",
        "\n",
        "        cost += loss\n",
        "\n",
        "    cost = cost / len(train_dataloader)\n",
        "    print(f\"Epoch : {epoch+1:4d}, Cost : {cost:.3f}\")"
      ],
      "metadata": {
        "colab": {
          "base_uri": "https://localhost:8080/"
        },
        "id": "szhKY07WFbqP",
        "outputId": "6546f8e2-772e-48b8-91ee-f68eef1f11d6"
      },
      "execution_count": null,
      "outputs": [
        {
          "output_type": "stream",
          "name": "stdout",
          "text": [
            "Epoch :    1, Cost : 1.513\n",
            "Epoch :    2, Cost : 1.253\n",
            "Epoch :    3, Cost : 1.178\n",
            "Epoch :    4, Cost : 1.131\n",
            "Epoch :    5, Cost : 1.095\n",
            "Epoch :    6, Cost : 1.061\n",
            "Epoch :    7, Cost : 1.035\n",
            "Epoch :    8, Cost : 1.010\n",
            "Epoch :    9, Cost : 0.986\n",
            "Epoch :   10, Cost : 0.970\n"
          ]
        }
      ]
    },
    {
      "cell_type": "code",
      "source": [
        "with torch.no_grad():\n",
        "    model.eval()\n",
        "\n",
        "    accuracy = 0.0\n",
        "    for images, classes in test_dataloader:\n",
        "        images = images.to(device)\n",
        "        classes = classes.to(device)\n",
        "\n",
        "        outputs = model(images)\n",
        "        probs = F.softmax(outputs, dim=-1)\n",
        "        outputs_classes = torch.argmax(probs, dim=-1)\n",
        "\n",
        "        accuracy += int(torch.eq(classes, outputs_classes).sum())\n",
        "\n",
        "    print(f\"acc@1 : {accuracy / (len(test_dataloader) * hyperparams['batch_size']) * 100:.2f}%\")"
      ],
      "metadata": {
        "colab": {
          "base_uri": "https://localhost:8080/"
        },
        "id": "TARx9jebG7g1",
        "outputId": "c09ac20b-e1c5-41d7-8061-af2daad13318"
      },
      "execution_count": null,
      "outputs": [
        {
          "output_type": "stream",
          "name": "stdout",
          "text": [
            "acc@1 : 61.83%\n"
          ]
        }
      ]
    },
    {
      "cell_type": "code",
      "source": [
        "checkpoint = {\n",
        "    'epoch': epoch,\n",
        "    'model_state_dict': model.state_dict(),\n",
        "    'optimizer_state_dict': optimizer.state_dict(),\n",
        "    'loss': loss,\n",
        "    # 필요에 따라 다른 정보 추가\n",
        "}\n",
        "torch.save(checkpoint, \"/content/drive/MyDrive/CV_project/안구질환_모델/VGG16_checkpoint.pt\")\n"
      ],
      "metadata": {
        "id": "rWuH_BZZQxgF"
      },
      "execution_count": null,
      "outputs": []
    }
  ]
}