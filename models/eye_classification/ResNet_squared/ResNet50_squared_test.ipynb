{
  "nbformat": 4,
  "nbformat_minor": 0,
  "metadata": {
    "colab": {
      "provenance": [],
      "gpuType": "T4"
    },
    "kernelspec": {
      "name": "python3",
      "display_name": "Python 3"
    },
    "language_info": {
      "name": "python"
    },
    "accelerator": "GPU"
  },
  "cells": [
    {
      "cell_type": "code",
      "source": [
        "import tensorflow as tf\n",
        "import os\n",
        "from scipy.special import softmax\n",
        "from PIL import Image"
      ],
      "metadata": {
        "id": "gqDSLriFxiYs"
      },
      "execution_count": null,
      "outputs": []
    },
    {
      "cell_type": "code",
      "source": [
        "test_data = '/content/drive/MyDrive/CV_project/data/안구질환/개_train_test_val_squared/test'"
      ],
      "metadata": {
        "id": "vh8TB1hnfgQo"
      },
      "execution_count": null,
      "outputs": []
    },
    {
      "cell_type": "code",
      "source": [
        "model_path = '/content/drive/MyDrive/CV_project/안구질환_모델/Resnet_squared_e30_b32_model.tf'\n",
        "model = tf.keras.models.load_model(model_path)"
      ],
      "metadata": {
        "id": "INEovPeaLwTU"
      },
      "execution_count": null,
      "outputs": []
    },
    {
      "cell_type": "code",
      "source": [
        "# 라벨 한국어 번역\n",
        "labels = ['결막염',\n",
        "          '궤양성 각막질환',\n",
        "          '백내장',\n",
        "          '비궤양성 각막질환',\n",
        "          '색소 침착성 각막염',\n",
        "          '안검내반증',\n",
        "          '안검염',\n",
        "          '안검 종양',\n",
        "          '유루증',\n",
        "          '정상',\n",
        "          '핵경화']"
      ],
      "metadata": {
        "id": "mBQD3UguiE1r"
      },
      "execution_count": null,
      "outputs": []
    },
    {
      "cell_type": "code",
      "source": [
        "import numpy as np"
      ],
      "metadata": {
        "id": "Efs9jP1SsMbe"
      },
      "execution_count": null,
      "outputs": []
    },
    {
      "cell_type": "code",
      "source": [
        "def inference(file_path):\n",
        "    img = Image.open(file_path)\n",
        "    img = img.resize((224, 224))\n",
        "    img = np.array(img)\n",
        "\n",
        "    img = img / 255.\n",
        "    img = tf.expand_dims(img, axis=0)\n",
        "    pred = model.predict(img, verbose=0)\n",
        "    return pred"
      ],
      "metadata": {
        "id": "YzrT0Z_bqfLX"
      },
      "execution_count": null,
      "outputs": []
    },
    {
      "cell_type": "code",
      "source": [
        "predictions = {'target':[], 'pred':[], 'prob':[]}\n",
        "for folder in os.listdir(test_data):\n",
        "    print(folder)\n",
        "    for file in os.listdir(os.path.join(test_data, folder)):\n",
        "        pred = inference(os.path.join(test_data, folder, file))\n",
        "        predictions['target'].append(folder)\n",
        "        predictions['pred'].append(labels[pred.argmax()])\n",
        "        predictions['prob'].append(pred.tolist())\n",
        "        if len(predictions['target']) % 1000 == 0:\n",
        "            print(len(predictions['target']), \"predictions done\")"
      ],
      "metadata": {
        "colab": {
          "base_uri": "https://localhost:8080/"
        },
        "id": "ZcLqNo8vqzJJ",
        "outputId": "5b33bf18-c173-470c-bfd0-49f287d410cb"
      },
      "execution_count": null,
      "outputs": [
        {
          "output_type": "stream",
          "name": "stdout",
          "text": [
            "안검내반증\n",
            "정상\n",
            "1000 predictions done\n",
            "2000 predictions done\n",
            "3000 predictions done\n",
            "4000 predictions done\n",
            "5000 predictions done\n",
            "6000 predictions done\n",
            "7000 predictions done\n",
            "8000 predictions done\n",
            "9000 predictions done\n",
            "핵경화\n",
            "안검종양\n",
            "백내장\n",
            "비궤양성각막질환\n",
            "궤양성각막질환\n",
            "색소침착성각막염\n",
            "결막염\n",
            "10000 predictions done\n",
            "안검염\n",
            "유루증\n"
          ]
        }
      ]
    },
    {
      "cell_type": "code",
      "source": [
        "from collections import Counter\n",
        "\n",
        "Counter(predictions['target'])"
      ],
      "metadata": {
        "colab": {
          "base_uri": "https://localhost:8080/"
        },
        "id": "x5EEBeJNXkrU",
        "outputId": "c2e965ee-7379-408f-e6d2-b39d3699b973"
      },
      "execution_count": null,
      "outputs": [
        {
          "output_type": "execute_result",
          "data": {
            "text/plain": [
              "Counter({'안검내반증': 675,\n",
              "         '정상': 8515,\n",
              "         '핵경화': 72,\n",
              "         '안검종양': 11,\n",
              "         '백내장': 107,\n",
              "         '비궤양성각막질환': 77,\n",
              "         '궤양성각막질환': 415,\n",
              "         '색소침착성각막염': 45,\n",
              "         '결막염': 111,\n",
              "         '안검염': 129,\n",
              "         '유루증': 841})"
            ]
          },
          "metadata": {},
          "execution_count": 15
        }
      ]
    },
    {
      "cell_type": "code",
      "source": [
        "Counter(predictions['pred'])"
      ],
      "metadata": {
        "colab": {
          "base_uri": "https://localhost:8080/"
        },
        "id": "m1Dfwk6XvB64",
        "outputId": "82fc78f5-a6d9-4ce4-a866-231f8072e872"
      },
      "execution_count": null,
      "outputs": [
        {
          "output_type": "execute_result",
          "data": {
            "text/plain": [
              "Counter({'유루증': 810,\n",
              "         '안검내반증': 582,\n",
              "         '정상': 8727,\n",
              "         '핵경화': 97,\n",
              "         '안검염': 83,\n",
              "         '안검 종양': 7,\n",
              "         '궤양성 각막질환': 381,\n",
              "         '결막염': 70,\n",
              "         '백내장': 112,\n",
              "         '비궤양성 각막질환': 95,\n",
              "         '색소 침착성 각막염': 34})"
            ]
          },
          "metadata": {},
          "execution_count": 16
        }
      ]
    },
    {
      "cell_type": "code",
      "source": [
        "import unicodedata\n",
        "target = [unicodedata.normalize('NFC', t) for t in predictions['target']]\n",
        "predictions['target'] = target"
      ],
      "metadata": {
        "id": "QJEKCHHTdTwy"
      },
      "execution_count": null,
      "outputs": []
    },
    {
      "cell_type": "code",
      "source": [
        "pred = [unicodedata.normalize('NFC', p) for p in predictions['pred']]\n",
        "predictions['pred'] = pred"
      ],
      "metadata": {
        "id": "SvBe2gAw225G"
      },
      "execution_count": null,
      "outputs": []
    },
    {
      "cell_type": "markdown",
      "source": [
        "### D2 폰트 적용"
      ],
      "metadata": {
        "id": "ETwP9r0Uumzm"
      }
    },
    {
      "cell_type": "code",
      "source": [
        "import matplotlib.font_manager as font_manager\n",
        "import matplotlib.pyplot as plt\n",
        "\n",
        "font_files = font_manager.findSystemFonts(fontpaths='/content/drive/MyDrive/Pal-ette/D2Coding')\n",
        "for font_file in font_files:\n",
        "    font_manager.fontManager.addfont(font_file)\n",
        "\n",
        "plt.rc('font', family='D2Coding')"
      ],
      "metadata": {
        "id": "0b78nltwTOIZ"
      },
      "execution_count": null,
      "outputs": []
    },
    {
      "cell_type": "markdown",
      "source": [
        "### confusion matrix 생성 및 시각화"
      ],
      "metadata": {
        "id": "2VoTYFlVurFP"
      }
    },
    {
      "cell_type": "code",
      "source": [
        "# confusion matrix 생성 및 시각화\n",
        "import matplotlib.font_manager as font_manager\n",
        "import matplotlib.pyplot as plt\n",
        "from sklearn.metrics import confusion_matrix\n",
        "import seaborn as sns\n",
        "import numpy as np\n",
        "\n",
        "cm = confusion_matrix(predictions['target'], predictions['pred'], normalize='true')\n",
        "hm = sns.heatmap(cm, annot=True, fmt='.2f', cmap='flare_r')\n",
        "hm.set_xlabel('예측값', fontsize=10)\n",
        "hm.set_ylabel('실제값', fontsize=10)\n",
        "hm.set_xticklabels(labels=labels, fontsize=10, rotation=45, ha='right', rotation_mode='anchor')\n",
        "hm.set_yticklabels(labels=labels, fontsize=10, rotation=0)\n",
        "\n",
        "plt.show()"
      ],
      "metadata": {
        "id": "CxR7qlUCEsKL",
        "colab": {
          "base_uri": "https://localhost:8080/",
          "height": 221
        },
        "outputId": "3def5ac0-39c0-40b4-cf28-05782b73f3d4"
      },
      "execution_count": null,
      "outputs": [
        {
          "output_type": "error",
          "ename": "NameError",
          "evalue": "name 'predictions' is not defined",
          "traceback": [
            "\u001b[0;31m---------------------------------------------------------------------------\u001b[0m",
            "\u001b[0;31mNameError\u001b[0m                                 Traceback (most recent call last)",
            "\u001b[0;32m<ipython-input-2-a4f8a488669b>\u001b[0m in \u001b[0;36m<cell line: 8>\u001b[0;34m()\u001b[0m\n\u001b[1;32m      6\u001b[0m \u001b[0;32mimport\u001b[0m \u001b[0mnumpy\u001b[0m \u001b[0;32mas\u001b[0m \u001b[0mnp\u001b[0m\u001b[0;34m\u001b[0m\u001b[0;34m\u001b[0m\u001b[0m\n\u001b[1;32m      7\u001b[0m \u001b[0;34m\u001b[0m\u001b[0m\n\u001b[0;32m----> 8\u001b[0;31m \u001b[0mcm\u001b[0m \u001b[0;34m=\u001b[0m \u001b[0mconfusion_matrix\u001b[0m\u001b[0;34m(\u001b[0m\u001b[0mpredictions\u001b[0m\u001b[0;34m[\u001b[0m\u001b[0;34m'target'\u001b[0m\u001b[0;34m]\u001b[0m\u001b[0;34m,\u001b[0m \u001b[0mpredictions\u001b[0m\u001b[0;34m[\u001b[0m\u001b[0;34m'pred'\u001b[0m\u001b[0;34m]\u001b[0m\u001b[0;34m,\u001b[0m \u001b[0mnormalize\u001b[0m\u001b[0;34m=\u001b[0m\u001b[0;34m'true'\u001b[0m\u001b[0;34m)\u001b[0m\u001b[0;34m\u001b[0m\u001b[0;34m\u001b[0m\u001b[0m\n\u001b[0m\u001b[1;32m      9\u001b[0m \u001b[0mhm\u001b[0m \u001b[0;34m=\u001b[0m \u001b[0msns\u001b[0m\u001b[0;34m.\u001b[0m\u001b[0mheatmap\u001b[0m\u001b[0;34m(\u001b[0m\u001b[0mcm\u001b[0m\u001b[0;34m,\u001b[0m \u001b[0mannot\u001b[0m\u001b[0;34m=\u001b[0m\u001b[0;32mTrue\u001b[0m\u001b[0;34m,\u001b[0m \u001b[0mfmt\u001b[0m\u001b[0;34m=\u001b[0m\u001b[0;34m'.2f'\u001b[0m\u001b[0;34m,\u001b[0m \u001b[0mcmap\u001b[0m\u001b[0;34m=\u001b[0m\u001b[0;34m'flare_r'\u001b[0m\u001b[0;34m)\u001b[0m\u001b[0;34m\u001b[0m\u001b[0;34m\u001b[0m\u001b[0m\n\u001b[1;32m     10\u001b[0m \u001b[0mhm\u001b[0m\u001b[0;34m.\u001b[0m\u001b[0mset_xlabel\u001b[0m\u001b[0;34m(\u001b[0m\u001b[0;34m'예측값'\u001b[0m\u001b[0;34m,\u001b[0m \u001b[0mfontsize\u001b[0m\u001b[0;34m=\u001b[0m\u001b[0;36m10\u001b[0m\u001b[0;34m)\u001b[0m\u001b[0;34m\u001b[0m\u001b[0;34m\u001b[0m\u001b[0m\n",
            "\u001b[0;31mNameError\u001b[0m: name 'predictions' is not defined"
          ]
        }
      ]
    },
    {
      "cell_type": "code",
      "source": [
        "from sklearn.metrics import classification_report\n",
        "\n",
        "cr = classification_report(predictions['target'], predictions['pred'])\n",
        "print(cr)"
      ],
      "metadata": {
        "colab": {
          "base_uri": "https://localhost:8080/"
        },
        "id": "WRBUn_R_UFPt",
        "outputId": "cb56c89a-f568-40c0-df22-c7e48085fb76"
      },
      "execution_count": null,
      "outputs": [
        {
          "output_type": "stream",
          "name": "stdout",
          "text": [
            "              precision    recall  f1-score   support\n",
            "\n",
            "         결막염       0.66      0.41      0.51       111\n",
            "     궤양성각막질환       0.94      0.87      0.90       415\n",
            "         백내장       0.79      0.83      0.81       107\n",
            "    비궤양성각막질환       0.47      0.58      0.52        77\n",
            "    색소침착성각막염       0.35      0.27      0.30        45\n",
            "       안검내반증       0.53      0.46      0.49       675\n",
            "         안검염       0.45      0.29      0.35       129\n",
            "        안검종양       0.43      0.27      0.33        11\n",
            "         유루증       0.61      0.59      0.60       841\n",
            "          정상       0.96      0.98      0.97      8515\n",
            "         핵경화       0.55      0.74      0.63        72\n",
            "\n",
            "    accuracy                           0.89     10998\n",
            "   macro avg       0.61      0.57      0.58     10998\n",
            "weighted avg       0.89      0.89      0.89     10998\n",
            "\n"
          ]
        }
      ]
    },
    {
      "cell_type": "code",
      "source": [
        "from sklearn.metrics import precision_recall_curve\n",
        "from sklearn.metrics import auc\n",
        "import numpy as np\n",
        "\n",
        "legend = []\n",
        "\n",
        "for i in range(len(labels)):\n",
        "    target = np.array(predictions['target'])==i\n",
        "    target = target.astype(int)\n",
        "    probs = np.array(predictions['probs'])[:, i]\n",
        "\n",
        "    precision, recall, thresholds = precision_recall_curve(target, probs)\n",
        "    pr_auc = auc(recall, precision)\n",
        "    plt.plot(recall, precision)\n",
        "    legend.append(labels[i] + '(AUC = ' + str(round(pr_auc,4)) + ')')\n",
        "\n",
        "plt.title('Precision-Recall Curve')\n",
        "plt.xlabel('Recall')\n",
        "plt.ylabel('Precision')\n",
        "plt.legend(legend, loc='lower left')\n",
        "plt.show()"
      ],
      "metadata": {
        "colab": {
          "base_uri": "https://localhost:8080/",
          "height": 221
        },
        "id": "vMJ48OTfUg4d",
        "outputId": "ba045e3b-fa5d-4fdf-e733-51e2e2c968df"
      },
      "execution_count": null,
      "outputs": [
        {
          "output_type": "error",
          "ename": "KeyError",
          "evalue": "'probs'",
          "traceback": [
            "\u001b[0;31m---------------------------------------------------------------------------\u001b[0m",
            "\u001b[0;31mKeyError\u001b[0m                                  Traceback (most recent call last)",
            "\u001b[0;32m<ipython-input-24-51a68f38f25e>\u001b[0m in \u001b[0;36m<cell line: 7>\u001b[0;34m()\u001b[0m\n\u001b[1;32m      8\u001b[0m     \u001b[0mtarget\u001b[0m \u001b[0;34m=\u001b[0m \u001b[0mnp\u001b[0m\u001b[0;34m.\u001b[0m\u001b[0marray\u001b[0m\u001b[0;34m(\u001b[0m\u001b[0mpredictions\u001b[0m\u001b[0;34m[\u001b[0m\u001b[0;34m'target'\u001b[0m\u001b[0;34m]\u001b[0m\u001b[0;34m)\u001b[0m\u001b[0;34m==\u001b[0m\u001b[0mi\u001b[0m\u001b[0;34m\u001b[0m\u001b[0;34m\u001b[0m\u001b[0m\n\u001b[1;32m      9\u001b[0m     \u001b[0mtarget\u001b[0m \u001b[0;34m=\u001b[0m \u001b[0mtarget\u001b[0m\u001b[0;34m.\u001b[0m\u001b[0mastype\u001b[0m\u001b[0;34m(\u001b[0m\u001b[0mint\u001b[0m\u001b[0;34m)\u001b[0m\u001b[0;34m\u001b[0m\u001b[0;34m\u001b[0m\u001b[0m\n\u001b[0;32m---> 10\u001b[0;31m     \u001b[0mprobs\u001b[0m \u001b[0;34m=\u001b[0m \u001b[0mnp\u001b[0m\u001b[0;34m.\u001b[0m\u001b[0marray\u001b[0m\u001b[0;34m(\u001b[0m\u001b[0mpredictions\u001b[0m\u001b[0;34m[\u001b[0m\u001b[0;34m'probs'\u001b[0m\u001b[0;34m]\u001b[0m\u001b[0;34m)\u001b[0m\u001b[0;34m[\u001b[0m\u001b[0;34m:\u001b[0m\u001b[0;34m,\u001b[0m \u001b[0mi\u001b[0m\u001b[0;34m]\u001b[0m\u001b[0;34m\u001b[0m\u001b[0;34m\u001b[0m\u001b[0m\n\u001b[0m\u001b[1;32m     11\u001b[0m \u001b[0;34m\u001b[0m\u001b[0m\n\u001b[1;32m     12\u001b[0m     \u001b[0mprecision\u001b[0m\u001b[0;34m,\u001b[0m \u001b[0mrecall\u001b[0m\u001b[0;34m,\u001b[0m \u001b[0mthresholds\u001b[0m \u001b[0;34m=\u001b[0m \u001b[0mprecision_recall_curve\u001b[0m\u001b[0;34m(\u001b[0m\u001b[0mtarget\u001b[0m\u001b[0;34m,\u001b[0m \u001b[0mprobs\u001b[0m\u001b[0;34m)\u001b[0m\u001b[0;34m\u001b[0m\u001b[0;34m\u001b[0m\u001b[0m\n",
            "\u001b[0;31mKeyError\u001b[0m: 'probs'"
          ]
        }
      ]
    },
    {
      "cell_type": "code",
      "source": [],
      "metadata": {
        "id": "8ALwySgVqFBl"
      },
      "execution_count": null,
      "outputs": []
    }
  ]
}