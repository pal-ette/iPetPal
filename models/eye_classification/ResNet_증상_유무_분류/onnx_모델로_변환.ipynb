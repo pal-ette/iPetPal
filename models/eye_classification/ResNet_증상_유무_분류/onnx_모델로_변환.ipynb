{
  "nbformat": 4,
  "nbformat_minor": 0,
  "metadata": {
    "colab": {
      "provenance": []
    },
    "kernelspec": {
      "name": "python3",
      "display_name": "Python 3"
    },
    "language_info": {
      "name": "python"
    }
  },
  "cells": [
    {
      "cell_type": "code",
      "source": [
        "import onnxruntime\n",
        "from scipy.special import softmax\n",
        "from PIL import Image\n",
        "from torchvision.transforms import ToTensor\n",
        "import os\n",
        "import numpy as np\n",
        "import tensorflow as tf"
      ],
      "metadata": {
        "id": "vJ5e3VXYneOx"
      },
      "execution_count": 65,
      "outputs": []
    },
    {
      "cell_type": "code",
      "execution_count": null,
      "metadata": {
        "id": "DG-pS1P_ir3c"
      },
      "outputs": [],
      "source": [
        "!pip install onnxruntime\n",
        "!pip install git+https://github.com/onnx/tensorflow-onnx"
      ]
    },
    {
      "cell_type": "code",
      "source": [
        "!pip install -U tf2onnx"
      ],
      "metadata": {
        "id": "ajnYB14Gmp4K"
      },
      "execution_count": null,
      "outputs": []
    },
    {
      "cell_type": "code",
      "source": [
        "!python -m tf2onnx.convert --saved-model /content/drive/MyDrive/CV_project/안구질환_모델/Resnet_squared_all_정상_아픔.tf --output model.onnx --opset 12"
      ],
      "metadata": {
        "colab": {
          "base_uri": "https://localhost:8080/"
        },
        "id": "b7HoNgG7muZI",
        "outputId": "df9daf5d-3de1-4b3f-cf02-4d34cf82ad66"
      },
      "execution_count": 4,
      "outputs": [
        {
          "output_type": "stream",
          "name": "stdout",
          "text": [
            "2024-06-03 05:40:56.233548: E external/local_xla/xla/stream_executor/cuda/cuda_dnn.cc:9261] Unable to register cuDNN factory: Attempting to register factory for plugin cuDNN when one has already been registered\n",
            "2024-06-03 05:40:56.233654: E external/local_xla/xla/stream_executor/cuda/cuda_fft.cc:607] Unable to register cuFFT factory: Attempting to register factory for plugin cuFFT when one has already been registered\n",
            "2024-06-03 05:40:56.237593: E external/local_xla/xla/stream_executor/cuda/cuda_blas.cc:1515] Unable to register cuBLAS factory: Attempting to register factory for plugin cuBLAS when one has already been registered\n",
            "2024-06-03 05:40:56.255222: I tensorflow/core/platform/cpu_feature_guard.cc:182] This TensorFlow binary is optimized to use available CPU instructions in performance-critical operations.\n",
            "To enable the following instructions: AVX2 FMA, in other operations, rebuild TensorFlow with the appropriate compiler flags.\n",
            "2024-06-03 05:40:57.719367: W tensorflow/compiler/tf2tensorrt/utils/py_utils.cc:38] TF-TRT Warning: Could not find TensorRT\n",
            "/usr/lib/python3.10/runpy.py:126: RuntimeWarning: 'tf2onnx.convert' found in sys.modules after import of package 'tf2onnx', but prior to execution of 'tf2onnx.convert'; this may result in unpredictable behaviour\n",
            "  warn(RuntimeWarning(msg))\n",
            "2024-06-03 05:41:00,160 - WARNING - '--tag' not specified for saved_model. Using --tag serve\n",
            "2024-06-03 05:41:23,545 - INFO - Signatures found in model: [serving_default].\n",
            "2024-06-03 05:41:23,545 - WARNING - '--signature_def' not specified, using first signature: serving_default\n",
            "2024-06-03 05:41:23,546 - INFO - Output names: ['dense_7']\n",
            "2024-06-03 05:41:23.573531: I tensorflow/core/grappler/devices.cc:66] Number of eligible GPUs (core count >= 8, compute capability >= 0.0): 0\n",
            "2024-06-03 05:41:23.573817: I tensorflow/core/grappler/clusters/single_machine.cc:361] Starting new session\n",
            "2024-06-03 05:41:29.201135: I tensorflow/core/grappler/devices.cc:66] Number of eligible GPUs (core count >= 8, compute capability >= 0.0): 0\n",
            "2024-06-03 05:41:29.201332: I tensorflow/core/grappler/clusters/single_machine.cc:361] Starting new session\n",
            "2024-06-03 05:41:30,968 - INFO - Using tensorflow=2.15.0, onnx=1.16.1, tf2onnx=1.16.1/ed0224\n",
            "2024-06-03 05:41:30,968 - INFO - Using opset <onnx, 12>\n",
            "2024-06-03 05:41:31,597 - INFO - Computed 0 values for constant folding\n",
            "2024-06-03 05:41:33,373 - INFO - Optimizing ONNX model\n",
            "2024-06-03 05:41:37,336 - INFO - After optimization: Add -1 (19->18), BatchNormalization -32 (49->17), Const -98 (277->179), GlobalAveragePool +1 (0->1), Identity -2 (2->0), ReduceMean -1 (1->0), Squeeze +1 (0->1), Transpose -211 (212->1)\n",
            "2024-06-03 05:41:37,517 - INFO - \n",
            "2024-06-03 05:41:37,517 - INFO - Successfully converted TensorFlow model /content/drive/MyDrive/CV_project/안구질환_모델/Resnet_squared_all_정상_아픔.tf to ONNX\n",
            "2024-06-03 05:41:37,517 - INFO - Model inputs: ['input_4']\n",
            "2024-06-03 05:41:37,517 - INFO - Model outputs: ['dense_7']\n",
            "2024-06-03 05:41:37,518 - INFO - ONNX model is saved at model.onnx\n"
          ]
        }
      ]
    },
    {
      "cell_type": "code",
      "source": [
        "!cp /content/model.onnx /content/drive/MyDrive/CV_project/안구질환_모델/"
      ],
      "metadata": {
        "id": "muOD7RA5oQQy"
      },
      "execution_count": 7,
      "outputs": []
    },
    {
      "cell_type": "markdown",
      "source": [
        "## onnx 추론\n"
      ],
      "metadata": {
        "id": "KIe2GAJ4pFlJ"
      }
    },
    {
      "cell_type": "code",
      "source": [
        "onnx_path = '/content/drive/MyDrive/CV_project/안구질환_모델/Resnet_squared_all_정상_아픔.tf/ResNet50v2_binary.onnx'"
      ],
      "metadata": {
        "id": "kKjdvRaMrXhS"
      },
      "execution_count": 74,
      "outputs": []
    },
    {
      "cell_type": "code",
      "source": [
        "ort_session = onnxruntime.InferenceSession(onnx_path)\n",
        "input_name = ort_session.get_inputs()[0].name"
      ],
      "metadata": {
        "id": "7FNzifoW20vy"
      },
      "execution_count": 75,
      "outputs": []
    },
    {
      "cell_type": "code",
      "source": [
        "tf_path = '/content/drive/MyDrive/CV_project/안구질환_모델/Resnet_squared_all_정상_아픔.tf'\n",
        "tf_model = tf.keras.models.load_model(tf_path)"
      ],
      "metadata": {
        "id": "q3NVeY9e6UcU"
      },
      "execution_count": 76,
      "outputs": []
    },
    {
      "cell_type": "code",
      "source": [
        "sick_img_path = \"/content/drive/MyDrive/CV_project/data/안구질환/개_train_test_val_squared/test/궤양성각막질환/crop_D0_125a8627-60a5-11ec-8402-0a7404972c70.jpg\"\n",
        "\n",
        "normal_img_path = \"/content/drive/MyDrive/CV_project/data/안구질환/개_train_test_val_squared/test/정상/crop_D0_03b2ab5b-60a5-11ec-8402-0a7404972c70.jpg\"\n",
        "\n",
        "img_path = sick_img_path\n"
      ],
      "metadata": {
        "id": "u04W3yHx18gx"
      },
      "execution_count": 82,
      "outputs": []
    },
    {
      "cell_type": "code",
      "source": [
        "img = Image.open(img_path)\n",
        "img = img.resize((224, 224))\n",
        "img = np.array(img, dtype=np.float32)\n",
        "\n",
        "img = img / 255.\n",
        "img = img.reshape((1, 224, 224, 3))\n",
        "ort_inputs = {input_name: img}\n",
        "ort_session.run(None, ort_inputs)"
      ],
      "metadata": {
        "colab": {
          "base_uri": "https://localhost:8080/"
        },
        "id": "RWBPPMUi2Sdq",
        "outputId": "f0363108-93bf-49c9-c334-4ff60dcd40e0"
      },
      "execution_count": 83,
      "outputs": [
        {
          "output_type": "execute_result",
          "data": {
            "text/plain": [
              "[array([[2.4139881e-05]], dtype=float32)]"
            ]
          },
          "metadata": {},
          "execution_count": 83
        }
      ]
    },
    {
      "cell_type": "code",
      "source": [
        "img = Image.open(img_path)\n",
        "img = img.resize((224, 224))\n",
        "img = np.array(img)\n",
        "\n",
        "img = img / 255.\n",
        "img = tf.expand_dims(img, axis=0)\n",
        "tf_model.predict(img, verbose=0)"
      ],
      "metadata": {
        "colab": {
          "base_uri": "https://localhost:8080/"
        },
        "id": "TbpaB5BD4WwL",
        "outputId": "0ff6547b-08b1-4877-ed52-3382fe42c97e"
      },
      "execution_count": 84,
      "outputs": [
        {
          "output_type": "execute_result",
          "data": {
            "text/plain": [
              "array([[2.410668e-05]], dtype=float32)"
            ]
          },
          "metadata": {},
          "execution_count": 84
        }
      ]
    }
  ]
}