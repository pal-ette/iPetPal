{
  "nbformat": 4,
  "nbformat_minor": 0,
  "metadata": {
    "colab": {
      "provenance": [],
      "gpuType": "T4",
      "machine_shape": "hm"
    },
    "kernelspec": {
      "name": "python3",
      "display_name": "Python 3"
    },
    "language_info": {
      "name": "python"
    },
    "accelerator": "GPU"
  },
  "cells": [
    {
      "cell_type": "markdown",
      "source": [
        "## 모듈 불러오기"
      ],
      "metadata": {
        "id": "CcQiJdnBPQ5Z"
      }
    },
    {
      "cell_type": "markdown",
      "source": [
        "정상 - 하나로\n",
        "결막염\n",
        "백내장"
      ],
      "metadata": {
        "id": "yrs-a_AbMoh7"
      }
    },
    {
      "cell_type": "code",
      "source": [
        "!pip install split-folders\n"
      ],
      "metadata": {
        "collapsed": true,
        "id": "iGj6klphiAl_",
        "colab": {
          "base_uri": "https://localhost:8080/"
        },
        "outputId": "0268de67-a6d5-4d87-b708-2dd26e44159c"
      },
      "execution_count": 2,
      "outputs": [
        {
          "output_type": "stream",
          "name": "stdout",
          "text": [
            "Collecting split-folders\n",
            "  Downloading split_folders-0.5.1-py3-none-any.whl (8.4 kB)\n",
            "Installing collected packages: split-folders\n",
            "Successfully installed split-folders-0.5.1\n"
          ]
        }
      ]
    },
    {
      "cell_type": "code",
      "execution_count": 3,
      "metadata": {
        "id": "m2RboTsTNxpt"
      },
      "outputs": [],
      "source": [
        "from PIL import Image\n",
        "import requests\n",
        "import numpy as np\n",
        "import matplotlib.pyplot as plt\n",
        "import splitfolders\n",
        "import tensorflow as tf\n",
        "import os\n",
        "\n",
        "from tensorflow.keras import layers, models\n",
        "from tensorflow.keras.utils import image_dataset_from_directory\n",
        "from tensorflow.keras.layers import Dense"
      ]
    },
    {
      "cell_type": "markdown",
      "source": [
        "## 데이터 정의\n"
      ],
      "metadata": {
        "id": "T8Zghjm_PT3J"
      }
    },
    {
      "cell_type": "markdown",
      "source": [
        "### 압축 풀기\n"
      ],
      "metadata": {
        "id": "p-1wKVHdM0kE"
      }
    },
    {
      "cell_type": "code",
      "source": [
        "!unzip -q \"/content/drive/MyDrive/CV_project/data/안구질환/개_질환_최종.zip\"\n"
      ],
      "metadata": {
        "id": "0Ds69P_2O1ZZ"
      },
      "execution_count": 5,
      "outputs": []
    },
    {
      "cell_type": "markdown",
      "source": [
        "### train, test, valid split"
      ],
      "metadata": {
        "id": "0KvkcVTQNAHc"
      }
    },
    {
      "cell_type": "code",
      "source": [
        "splitfolders.ratio('/content/개', output='output_dir', ratio=(0.8, 0.1, 0.1))  # train/val/test = 8:1:1\n"
      ],
      "metadata": {
        "colab": {
          "base_uri": "https://localhost:8080/"
        },
        "id": "lhfwjgQrh76S",
        "outputId": "d922c2ec-a9dd-429f-88a4-2bc39929981c"
      },
      "execution_count": 6,
      "outputs": [
        {
          "output_type": "stream",
          "name": "stderr",
          "text": [
            "Copying files: 68875 files [00:14, 4599.53 files/s]\n"
          ]
        }
      ]
    },
    {
      "cell_type": "code",
      "source": [
        "train_path = 'output_dir/train'\n",
        "val_path = 'output_dir/val'\n",
        "test_path = 'output_dir/test'"
      ],
      "metadata": {
        "id": "0zL0kSxKMted"
      },
      "execution_count": 7,
      "outputs": []
    },
    {
      "cell_type": "markdown",
      "source": [
        "### 정규화"
      ],
      "metadata": {
        "id": "rAuSwGuxNFik"
      }
    },
    {
      "cell_type": "code",
      "source": [
        "img_width, img_height = 400, 400\n",
        "batch_size = 32\n",
        "num_classes = 10\n",
        "last_activation = 'softmax'\n",
        "\n",
        "train_ds = image_dataset_from_directory(\n",
        "    train_path,\n",
        "    batch_size=batch_size,\n",
        "    image_size=(img_width, img_height),\n",
        "    shuffle=True,\n",
        "    label_mode='int'\n",
        ")\n",
        "\n",
        "valid_ds = image_dataset_from_directory(\n",
        "    val_path,\n",
        "    batch_size=batch_size,\n",
        "    image_size=(img_width, img_height),\n",
        "    shuffle=True,\n",
        "    label_mode='int'\n",
        ")\n",
        "\n",
        "test_ds = image_dataset_from_directory(\n",
        "    test_path,\n",
        "    batch_size=batch_size,\n",
        "    image_size=(img_width, img_height),\n",
        "    shuffle=True,\n",
        "    label_mode='int'\n",
        ")"
      ],
      "metadata": {
        "colab": {
          "base_uri": "https://localhost:8080/",
          "height": 222
        },
        "id": "rdl1J3BWMvEV",
        "outputId": "e3f3359c-f461-4448-e9f4-e1bc8ca5d699"
      },
      "execution_count": 35,
      "outputs": [
        {
          "output_type": "error",
          "ename": "NameError",
          "evalue": "name 'img_width' is not defined",
          "traceback": [
            "\u001b[0;31m---------------------------------------------------------------------------\u001b[0m",
            "\u001b[0;31mNameError\u001b[0m                                 Traceback (most recent call last)",
            "\u001b[0;32m<ipython-input-35-8faac8dc86f5>\u001b[0m in \u001b[0;36m<cell line: 1>\u001b[0;34m()\u001b[0m\n\u001b[1;32m      2\u001b[0m     \u001b[0mtrain_path\u001b[0m\u001b[0;34m,\u001b[0m\u001b[0;34m\u001b[0m\u001b[0;34m\u001b[0m\u001b[0m\n\u001b[1;32m      3\u001b[0m     \u001b[0mbatch_size\u001b[0m\u001b[0;34m=\u001b[0m\u001b[0mbatch_size\u001b[0m\u001b[0;34m,\u001b[0m\u001b[0;34m\u001b[0m\u001b[0;34m\u001b[0m\u001b[0m\n\u001b[0;32m----> 4\u001b[0;31m     \u001b[0mimage_size\u001b[0m\u001b[0;34m=\u001b[0m\u001b[0;34m(\u001b[0m\u001b[0mimg_width\u001b[0m\u001b[0;34m,\u001b[0m \u001b[0mimg_height\u001b[0m\u001b[0;34m)\u001b[0m\u001b[0;34m,\u001b[0m\u001b[0;34m\u001b[0m\u001b[0;34m\u001b[0m\u001b[0m\n\u001b[0m\u001b[1;32m      5\u001b[0m     \u001b[0mshuffle\u001b[0m\u001b[0;34m=\u001b[0m\u001b[0;32mTrue\u001b[0m\u001b[0;34m,\u001b[0m\u001b[0;34m\u001b[0m\u001b[0;34m\u001b[0m\u001b[0m\n\u001b[1;32m      6\u001b[0m     \u001b[0mlabel_mode\u001b[0m\u001b[0;34m=\u001b[0m\u001b[0;34m'int'\u001b[0m\u001b[0;34m\u001b[0m\u001b[0;34m\u001b[0m\u001b[0m\n",
            "\u001b[0;31mNameError\u001b[0m: name 'img_width' is not defined"
          ]
        }
      ]
    },
    {
      "cell_type": "code",
      "source": [
        "# labels = train_path.class_names\n",
        "# labels"
      ],
      "metadata": {
        "id": "dj-xqHUBNYH9"
      },
      "execution_count": null,
      "outputs": []
    },
    {
      "cell_type": "code",
      "source": [
        "# normalization_layer = tf.keras.layers.Rescaling(1./255)\n",
        "\n",
        "# train_ds = train_ds.map(lambda x, y: (normalization_layer(x), y))\n",
        "# valid_ds = valid_ds.map(lambda x, y: (normalization_layer(x), y))"
      ],
      "metadata": {
        "id": "kg5ShIBDNO1l"
      },
      "execution_count": null,
      "outputs": []
    },
    {
      "cell_type": "code",
      "source": [
        "# for images, labels in train_ds.take(1):\n",
        "#     print(images.shape, labels.shape, labels.dtype)\n"
      ],
      "metadata": {
        "colab": {
          "base_uri": "https://localhost:8080/"
        },
        "id": "47irhGPnOKyU",
        "outputId": "c619f82b-15a1-48e0-f31e-ed5df3600fb8"
      },
      "execution_count": null,
      "outputs": [
        {
          "output_type": "stream",
          "name": "stdout",
          "text": [
            "(32, 400, 400, 3) (32,) <dtype: 'int32'>\n"
          ]
        }
      ]
    },
    {
      "cell_type": "markdown",
      "source": [
        "## 모델 구축\n"
      ],
      "metadata": {
        "id": "o7wbm1cgMd3G"
      }
    },
    {
      "cell_type": "markdown",
      "source": [
        "### 하이퍼파라미터 값 정의"
      ],
      "metadata": {
        "id": "ay47QUf_MhrP"
      }
    },
    {
      "cell_type": "code",
      "source": [
        "# 하이퍼파라미터 설정\n",
        "nam_classes = 10      # 데이터셋의 클래스 개수 (안구 질환은 10개)\n",
        "input_shape = (400, 400, 3)  # 입력 이미지 형태 (배치 크기, 높이, 너비, 채널 수)\n",
        "learning_rate = 0.001  # 학습률\n",
        "batch_size = 32        # 배치 크기\n",
        "epoch_num = 30        # 학습 에포크 수\n",
        "num_heads = 8         # Multi-Head Attention 헤드 개수\n",
        "trans_num = 8         # Transformer 블록 반복 횟수\n",
        "img_patch_size = 16     # 이미지 패치 크기 (가로 및 세로)\n",
        "p_i_num = int(400 / 4 * 400 / 4) + 1  # Positional Embedding 입력 크기 (패치 개수 + 1)\n",
        "proj_num = 32        # 투영 벡터 차원\n",
        "class_num = 10       # 분류할 클래스 개수"
      ],
      "metadata": {
        "id": "tY5WJEg_faTA"
      },
      "execution_count": 24,
      "outputs": []
    },
    {
      "cell_type": "code",
      "source": [
        "# 인코딩 값 정의\n",
        "position_input = [range(64) for i in range(68875 )]\n",
        "position_input = np.array(position_input)\n",
        "position_input = np.reshape(position_input, (68875 ,64,1))\n",
        "\n",
        "# 모델 정의\n",
        "i = tf.keras.Input(shape=input_shape)\n",
        "p_i = tf.keras.Input(shape=(p_i_num,1))\n",
        "out_patch = tf.image.extract_patches(images=i,\n",
        "            sizes=[1, img_patch_size, img_patch_size, 1],\n",
        "            strides=[1, img_patch_size, img_patch_size, 1],\n",
        "            rates=[1, 1, 1, 1],\n",
        "            padding=\"VALID\")\n",
        "\n",
        "# out_patch: (배치 크기, 패치 개수, 채널 수)\n",
        "# p_out: (배치 크기, 패치 개수, 채널 수)\n",
        "\n",
        "# out = tf.keras.layers.Reshape([-1,img_patch_size*img_patch_size*3])(out_patch)\n",
        "out_patch = tf.keras.layers.Reshape([-1, img_patch_size*img_patch_size*3])(out_patch)\n",
        "print(out_patch.shape())\n",
        "\n",
        "p_out = tf.keras.layers.Embedding(p_i_num, proj_num)(p_i)\n",
        "# p_out = tf.keras.layers.Reshape([-1,proj_num])(p_out)\n",
        "p_out = tf.keras.layers.Reshape([-1, proj_num])(p_out)\n",
        "out = tf.keras.layers.Dense(proj_num)(out_patch)\n",
        "out = tf.keras.layers.Add()([out, p_out])\n",
        "\n",
        "# for _ in range(trans_num):\n",
        "#     out_1 = tf.keras.layers.LayerNormalization(epsilon=1e-6)(out)\n",
        "#     a_out = tf.keras.layers.MultiHeadAttention(num_heads=num_heads,\n",
        "#                                                key_dim=proj_num,\n",
        "#                                                dropout=0.1)(out_1, out_1)\n",
        "#     out_2 = tf.keras.layers.Add()([a_out, out])\n",
        "#     out_3 = tf.keras.layers.LayerNormalization(epsilon=1e-6)(out_2)\n",
        "#     out_3 = tf.keras.layers.Dense(proj_num *2, activation=tf.nn.gelu)(out_3)\n",
        "#     out_3 = tf.keras.layers.Dropout(0.1)(out_3)\n",
        "#     out_3 = tf.keras.layers.Dense(proj_num, activation=tf.nn.gelu)(out_3)\n",
        "#     out_3 = tf.keras.layers.Dropout(0.1)(out_3)\n",
        "#     out = tf.keras.layers.Add()([out_3, out_2])\n",
        "\n",
        "# out = tf.keras.layers.LayerNormalization(epsilon=1e-6)(out)\n",
        "# out = tf.keras.layers.Flatten()(out)\n",
        "# out = tf.keras.layers.Dropout(0.5)(out)\n",
        "# out = tf.keras.layers.Dense(1024, activation=tf.nn.gelu)(out)\n",
        "# out = tf.keras.layers.Dropout(0.1)(out)\n",
        "# out = tf.keras.layers.Dense(512, activation=tf.nn.gelu)(out)\n",
        "# out = tf.keras.layers.Dropout(0.1)(out)\n",
        "# out = tf.keras.layers.Dense(class_num)(out)\n",
        "\n",
        "# vit_model = tf.keras.Model(inputs=[i,p_i], outputs=[out])\n",
        "\n",
        "# # 모델 요약\n",
        "# vit_model.summary()\n"
      ],
      "metadata": {
        "id": "ksvGh8jFhfQP",
        "colab": {
          "base_uri": "https://localhost:8080/",
          "height": 222
        },
        "outputId": "39bb5c1c-9b6c-401a-ae51-4b3c2ff7f788"
      },
      "execution_count": 34,
      "outputs": [
        {
          "output_type": "error",
          "ename": "TypeError",
          "evalue": "'TensorShape' object is not callable",
          "traceback": [
            "\u001b[0;31m---------------------------------------------------------------------------\u001b[0m",
            "\u001b[0;31mTypeError\u001b[0m                                 Traceback (most recent call last)",
            "\u001b[0;32m<ipython-input-34-39ceeff2aba3>\u001b[0m in \u001b[0;36m<cell line: 20>\u001b[0;34m()\u001b[0m\n\u001b[1;32m     18\u001b[0m \u001b[0;31m# out = tf.keras.layers.Reshape([-1,img_patch_size*img_patch_size*3])(out_patch)\u001b[0m\u001b[0;34m\u001b[0m\u001b[0;34m\u001b[0m\u001b[0m\n\u001b[1;32m     19\u001b[0m \u001b[0mout_patch\u001b[0m \u001b[0;34m=\u001b[0m \u001b[0mtf\u001b[0m\u001b[0;34m.\u001b[0m\u001b[0mkeras\u001b[0m\u001b[0;34m.\u001b[0m\u001b[0mlayers\u001b[0m\u001b[0;34m.\u001b[0m\u001b[0mReshape\u001b[0m\u001b[0;34m(\u001b[0m\u001b[0;34m[\u001b[0m\u001b[0;34m-\u001b[0m\u001b[0;36m1\u001b[0m\u001b[0;34m,\u001b[0m \u001b[0mimg_patch_size\u001b[0m\u001b[0;34m*\u001b[0m\u001b[0mimg_patch_size\u001b[0m\u001b[0;34m*\u001b[0m\u001b[0;36m3\u001b[0m\u001b[0;34m]\u001b[0m\u001b[0;34m)\u001b[0m\u001b[0;34m(\u001b[0m\u001b[0mout_patch\u001b[0m\u001b[0;34m)\u001b[0m\u001b[0;34m\u001b[0m\u001b[0;34m\u001b[0m\u001b[0m\n\u001b[0;32m---> 20\u001b[0;31m \u001b[0mprint\u001b[0m\u001b[0;34m(\u001b[0m\u001b[0mout_patch\u001b[0m\u001b[0;34m.\u001b[0m\u001b[0mshape\u001b[0m\u001b[0;34m(\u001b[0m\u001b[0;34m)\u001b[0m\u001b[0;34m)\u001b[0m\u001b[0;34m\u001b[0m\u001b[0;34m\u001b[0m\u001b[0m\n\u001b[0m\u001b[1;32m     21\u001b[0m \u001b[0;34m\u001b[0m\u001b[0m\n\u001b[1;32m     22\u001b[0m \u001b[0mp_out\u001b[0m \u001b[0;34m=\u001b[0m \u001b[0mtf\u001b[0m\u001b[0;34m.\u001b[0m\u001b[0mkeras\u001b[0m\u001b[0;34m.\u001b[0m\u001b[0mlayers\u001b[0m\u001b[0;34m.\u001b[0m\u001b[0mEmbedding\u001b[0m\u001b[0;34m(\u001b[0m\u001b[0mp_i_num\u001b[0m\u001b[0;34m,\u001b[0m \u001b[0mproj_num\u001b[0m\u001b[0;34m)\u001b[0m\u001b[0;34m(\u001b[0m\u001b[0mp_i\u001b[0m\u001b[0;34m)\u001b[0m\u001b[0;34m\u001b[0m\u001b[0;34m\u001b[0m\u001b[0m\n",
            "\u001b[0;31mTypeError\u001b[0m: 'TensorShape' object is not callable"
          ]
        }
      ]
    },
    {
      "cell_type": "code",
      "source": [
        "# 모델 구조\n",
        "tf.keras.utils.plot_model(vit_model,show_shapes=True)"
      ],
      "metadata": {
        "id": "SF2DuR_jOkNE"
      },
      "execution_count": null,
      "outputs": []
    },
    {
      "cell_type": "code",
      "source": [
        "vit_image_model=  tf.keras.Model(inputs=vit_model.inputs, outputs=vit_model.layers[1].output)\n",
        "img=vit_image_model.predict([x_train[0:2],position_input[0:2]])\n",
        "img.shape"
      ],
      "metadata": {
        "id": "YbL_Kwy7tROz"
      },
      "execution_count": null,
      "outputs": []
    },
    {
      "cell_type": "code",
      "source": [
        "import matplotlib.pyplot as plt\n",
        "\n",
        "plt.figure(figsize=(4, 4))\n",
        "image = x_train[0]\n",
        "plt.imshow(image.astype(\"uint8\"))\n",
        "plt.axis(\"off\")"
      ],
      "metadata": {
        "id": "YUJXVEXMtTNd"
      },
      "execution_count": null,
      "outputs": []
    },
    {
      "cell_type": "code",
      "source": [
        "plt.figure(figsize=(4, 4))\n",
        "for i in range(8):\n",
        "    for j in range(8):\n",
        "        ax = plt.subplot(8, 8, i*8 +j+1)\n",
        "        sub_img=np.reshape(img[0,i,j,:],(4,4,3))\n",
        "        plt.imshow(sub_img.astype(\"uint8\"))\n",
        "        plt.axis(\"off\")"
      ],
      "metadata": {
        "id": "9pCkkcr1tUaa"
      },
      "execution_count": null,
      "outputs": []
    },
    {
      "cell_type": "code",
      "source": [
        "vit_model.compile(optimizer=tf.keras.optimizers.Adam(learning_rate),\n",
        "        loss=tf.keras.losses.SparseCategoricalCrossentropy(from_logits=True),\n",
        "        metrics=[tf.keras.metrics.SparseCategoricalAccuracy(name=\"accuracy\"),\n",
        "            tf.keras.metrics.SparseTopKCategoricalAccuracy(5, name=\"top-5-accuracy\")])\n",
        "\n",
        "from tensorflow.keras.callbacks import ModelCheckpoint, EarlyStopping # 모델 저장, 조기종료\n",
        "\n",
        "checkpoinat_cb = ModelCheckpoint('/content/drive/MyDrive/CV_project/data/안구질환/best-cnn-model.h5')   # 최적 검증 점수를 만드는 모델 자동 저장\n",
        "early_stopping_cb = EarlyStopping(patience=2, restore_best_weights=True)  # 과대 적합 방지 및 , 필요하지 않은 훈련 하지 않도록 조기 종료\n",
        "\n",
        "\n",
        "vit_model.fit(x=[x_train,position_input],\n",
        "              y=y_train,\n",
        "              batch_size=batch_size,\n",
        "              epochs=epoch_num,\n",
        "              callbacks=[checkpoinat_cb, early_stopping_cb]\n",
        "              validation_split=0.3)"
      ],
      "metadata": {
        "id": "x_2betxFtWAi"
      },
      "execution_count": null,
      "outputs": []
    }
  ]
}