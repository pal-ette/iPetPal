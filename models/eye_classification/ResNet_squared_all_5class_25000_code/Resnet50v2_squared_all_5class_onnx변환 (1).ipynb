{
  "nbformat": 4,
  "nbformat_minor": 0,
  "metadata": {
    "colab": {
      "provenance": [],
      "gpuType": "L4",
      "machine_shape": "hm"
    },
    "kernelspec": {
      "name": "python3",
      "display_name": "Python 3"
    },
    "language_info": {
      "name": "python"
    },
    "accelerator": "GPU"
  },
  "cells": [
    {
      "cell_type": "code",
      "execution_count": null,
      "metadata": {
        "id": "DG-pS1P_ir3c"
      },
      "outputs": [],
      "source": [
        "!pip install onnxruntime\n",
        "!pip install git+https://github.com/onnx/tensorflow-onnx\n",
        "!pip install -U tf2onnx"
      ]
    },
    {
      "cell_type": "code",
      "source": [
        "import onnxruntime\n",
        "from scipy.special import softmax\n",
        "from PIL import Image\n",
        "from torchvision.transforms import ToTensor\n",
        "import os\n",
        "import numpy as np\n",
        "import tensorflow as tf"
      ],
      "metadata": {
        "id": "vJ5e3VXYneOx"
      },
      "execution_count": null,
      "outputs": []
    },
    {
      "cell_type": "code",
      "source": [
        "!python -m tf2onnx.convert --saved-model /content/drive/MyDrive/CV_project/안구질환_모델/개_안구_all_ttv_au_under_250000_5class.tf --output /content/drive/MyDrive/CV_project/안구질환_모델/ResNet_squared_all_5class_code/개_안구_all_ttv_au_under_250000_5class.onnx --opset 12"
      ],
      "metadata": {
        "colab": {
          "base_uri": "https://localhost:8080/"
        },
        "id": "b7HoNgG7muZI",
        "outputId": "92d284bb-90aa-481b-c86b-9f281b3e3a5b"
      },
      "execution_count": null,
      "outputs": [
        {
          "output_type": "stream",
          "name": "stdout",
          "text": [
            "2024-06-06 03:50:07.374679: E external/local_xla/xla/stream_executor/cuda/cuda_dnn.cc:9261] Unable to register cuDNN factory: Attempting to register factory for plugin cuDNN when one has already been registered\n",
            "2024-06-06 03:50:07.374727: E external/local_xla/xla/stream_executor/cuda/cuda_fft.cc:607] Unable to register cuFFT factory: Attempting to register factory for plugin cuFFT when one has already been registered\n",
            "2024-06-06 03:50:07.376596: E external/local_xla/xla/stream_executor/cuda/cuda_blas.cc:1515] Unable to register cuBLAS factory: Attempting to register factory for plugin cuBLAS when one has already been registered\n",
            "2024-06-06 03:50:08.382638: W tensorflow/compiler/tf2tensorrt/utils/py_utils.cc:38] TF-TRT Warning: Could not find TensorRT\n",
            "/usr/lib/python3.10/runpy.py:126: RuntimeWarning: 'tf2onnx.convert' found in sys.modules after import of package 'tf2onnx', but prior to execution of 'tf2onnx.convert'; this may result in unpredictable behaviour\n",
            "  warn(RuntimeWarning(msg))\n",
            "2024-06-06 03:50:10.216751: W tensorflow/core/common_runtime/gpu/gpu_bfc_allocator.cc:47] Overriding orig_value setting because the TF_FORCE_GPU_ALLOW_GROWTH environment variable is set. Original config value was 0.\n",
            "2024-06-06 03:50:10,218 - WARNING - '--tag' not specified for saved_model. Using --tag serve\n",
            "2024-06-06 03:50:23,875 - INFO - Signatures found in model: [serving_default].\n",
            "2024-06-06 03:50:23,876 - WARNING - '--signature_def' not specified, using first signature: serving_default\n",
            "2024-06-06 03:50:23,877 - INFO - Output names: ['dense_3']\n",
            "2024-06-06 03:50:29,166 - INFO - Using tensorflow=2.15.0, onnx=1.16.1, tf2onnx=1.16.1/ed0224\n",
            "2024-06-06 03:50:29,166 - INFO - Using opset <onnx, 12>\n",
            "2024-06-06 03:50:29,668 - INFO - Computed 0 values for constant folding\n",
            "2024-06-06 03:50:30,666 - INFO - Optimizing ONNX model\n",
            "2024-06-06 03:50:32,487 - INFO - After optimization: Add -1 (19->18), BatchNormalization -32 (49->17), Const -98 (277->179), GlobalAveragePool +1 (0->1), Identity -2 (2->0), ReduceMean -1 (1->0), Squeeze +1 (0->1), Transpose -211 (212->1)\n",
            "2024-06-06 03:50:32,668 - INFO - \n",
            "2024-06-06 03:50:32,669 - INFO - Successfully converted TensorFlow model /content/drive/MyDrive/CV_project/안구질환_모델/개_안구_all_ttv_au_under_250000_5class.tf to ONNX\n",
            "2024-06-06 03:50:32,669 - INFO - Model inputs: ['input_2']\n",
            "2024-06-06 03:50:32,669 - INFO - Model outputs: ['dense_3']\n",
            "2024-06-06 03:50:32,669 - INFO - ONNX model is saved at /content/drive/MyDrive/CV_project/안구질환_모델/ResNet_squared_all_5class_code/개_안구_all_ttv_au_under_250000_5class.onnx\n"
          ]
        }
      ]
    },
    {
      "cell_type": "code",
      "source": [
        "# prompt: /content/Resnet_squared_all_4class_b64_e40.onnx 이 파일을  /content/drive/MyDrive/CV_project/안구질환_모델/ResNet_squared_all_4class_code 이 경로의 저장하는 방법을 알려줘\n",
        "\n",
        "# Import the necessary libraries\n",
        "import shutil\n",
        "\n",
        "# Define the source and destination paths\n",
        "source_path = \"/content/Resnet_squared_all_4class_b64_e40.onnx\"\n",
        "destination_path = \"/content/drive/MyDrive/CV_project/안구질환_모델/ResNet_squared_all_4class_code/Resnet_squared_all_4class_b64_e40.onnx\"\n",
        "\n",
        "# Copy the file\n",
        "shutil.copyfile(source_path, destination_path)\n",
        "\n",
        "# Print a message to confirm the file has been copied\n",
        "print(\"File copied successfully.\")\n"
      ],
      "metadata": {
        "colab": {
          "base_uri": "https://localhost:8080/"
        },
        "id": "Zm9YMnJrvJXC",
        "outputId": "41840133-c72c-4207-c67d-c6b29e2c1324"
      },
      "execution_count": null,
      "outputs": [
        {
          "output_type": "stream",
          "name": "stdout",
          "text": [
            "File copied successfully.\n"
          ]
        }
      ]
    },
    {
      "cell_type": "markdown",
      "source": [
        "## onnx 추론\n"
      ],
      "metadata": {
        "id": "KIe2GAJ4pFlJ"
      }
    },
    {
      "cell_type": "code",
      "source": [
        "onnx_path = '/content/drive/MyDrive/CV_project/안구질환_모델/ResNet_squared_all_5class_25000_code/개_안구_all_ttv_au_under_250000_5class.onnx'"
      ],
      "metadata": {
        "id": "kKjdvRaMrXhS"
      },
      "execution_count": null,
      "outputs": []
    },
    {
      "cell_type": "code",
      "source": [
        "ort_session = onnxruntime.InferenceSession(onnx_path)\n",
        "input_name = ort_session.get_inputs()[0].name"
      ],
      "metadata": {
        "id": "7FNzifoW20vy"
      },
      "execution_count": null,
      "outputs": []
    },
    {
      "cell_type": "code",
      "source": [
        "tf_path = '/content/drive/MyDrive/CV_project/안구질환_모델/개_안구_all_ttv_au_under_250000_5class.tf'\n",
        "tf_model = tf.keras.models.load_model(tf_path)"
      ],
      "metadata": {
        "id": "q3NVeY9e6UcU"
      },
      "execution_count": null,
      "outputs": []
    },
    {
      "cell_type": "code",
      "source": [
        "sick_img_path = \"/content/drive/MyDrive/CV_project/data/안구질환/개_train_test_val_squared/test/궤양성각막질환/crop_D0_125a8627-60a5-11ec-8402-0a7404972c70.jpg\"\n",
        "\n",
        "normal_img_path = \"/content/drive/MyDrive/CV_project/data/안구질환/개_train_test_val_squared/test/정상/crop_D0_03b2ab5b-60a5-11ec-8402-0a7404972c70.jpg\"\n",
        "\n",
        "img_path = sick_img_path\n"
      ],
      "metadata": {
        "id": "u04W3yHx18gx"
      },
      "execution_count": null,
      "outputs": []
    },
    {
      "cell_type": "code",
      "source": [
        "img = Image.open(img_path)\n",
        "img = img.resize((224, 224))\n",
        "img = np.array(img, dtype=np.float32)\n",
        "\n",
        "img = img / 255.\n",
        "img = img.reshape((1, 224, 224, 3))\n",
        "ort_inputs = {input_name: img}\n",
        "ort_output = ort_session.run(None, ort_inputs)\n",
        "ort_output"
      ],
      "metadata": {
        "colab": {
          "base_uri": "https://localhost:8080/"
        },
        "id": "RWBPPMUi2Sdq",
        "outputId": "3e64d84c-f9ae-431d-f726-b6fc76554a10"
      },
      "execution_count": null,
      "outputs": [
        {
          "output_type": "execute_result",
          "data": {
            "text/plain": [
              "[array([[1.0000000e+00, 4.4595357e-15, 9.6807660e-16, 5.0382475e-14,\n",
              "         1.0349237e-09]], dtype=float32)]"
            ]
          },
          "metadata": {},
          "execution_count": 10
        }
      ]
    },
    {
      "cell_type": "code",
      "source": [
        "img = Image.open(img_path)\n",
        "img = img.resize((224, 224))\n",
        "img = np.array(img)\n",
        "\n",
        "img = img / 255.\n",
        "img = tf.expand_dims(img, axis=0)\n",
        "tf_model.predict(img, verbose=0)"
      ],
      "metadata": {
        "colab": {
          "base_uri": "https://localhost:8080/"
        },
        "id": "TbpaB5BD4WwL",
        "outputId": "f88c2b75-5a69-413e-b4af-36d731c9df94"
      },
      "execution_count": null,
      "outputs": [
        {
          "output_type": "execute_result",
          "data": {
            "text/plain": [
              "array([[1.0000000e+00, 4.4554208e-15, 9.6831292e-16, 5.0310738e-14,\n",
              "        1.0329477e-09]], dtype=float32)"
            ]
          },
          "metadata": {},
          "execution_count": 11
        }
      ]
    },
    {
      "cell_type": "code",
      "source": [
        "labels= [\n",
        "    '궤양성각막질환',\n",
        "    '백내장',\n",
        "    '안검종양',\n",
        "    '핵경화'\n",
        "]\n",
        "labels[np.argmax(ort_output[0][0])]"
      ],
      "metadata": {
        "colab": {
          "base_uri": "https://localhost:8080/",
          "height": 35
        },
        "id": "WJ4BCk_MwwbK",
        "outputId": "dbd26950-e79b-4314-b8e1-9e62302c86d0"
      },
      "execution_count": null,
      "outputs": [
        {
          "output_type": "execute_result",
          "data": {
            "text/plain": [
              "'궤양성각막질환'"
            ],
            "application/vnd.google.colaboratory.intrinsic+json": {
              "type": "string"
            }
          },
          "metadata": {},
          "execution_count": 12
        }
      ]
    },
    {
      "cell_type": "code",
      "source": [],
      "metadata": {
        "id": "e3WqrkXLwwyq"
      },
      "execution_count": null,
      "outputs": []
    }
  ]
}