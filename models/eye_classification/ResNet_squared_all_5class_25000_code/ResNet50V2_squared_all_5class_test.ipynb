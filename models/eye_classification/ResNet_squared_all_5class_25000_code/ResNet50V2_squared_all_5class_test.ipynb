{
  "nbformat": 4,
  "nbformat_minor": 0,
  "metadata": {
    "colab": {
      "provenance": [],
      "machine_shape": "hm",
      "gpuType": "T4"
    },
    "kernelspec": {
      "name": "python3",
      "display_name": "Python 3"
    },
    "language_info": {
      "name": "python"
    },
    "accelerator": "GPU"
  },
  "cells": [
    {
      "cell_type": "code",
      "source": [
        "import matplotlib.font_manager as font_manager\n",
        "import matplotlib.pyplot as plt\n",
        "\n",
        "font_files = font_manager.findSystemFonts(fontpaths='/content/drive/MyDrive/Pal-ette/D2Coding')\n",
        "for font_file in font_files:\n",
        "    font_manager.fontManager.addfont(font_file)\n",
        "\n",
        "plt.rc('font', family='D2Coding')"
      ],
      "metadata": {
        "id": "0b78nltwTOIZ"
      },
      "execution_count": null,
      "outputs": []
    },
    {
      "cell_type": "code",
      "source": [
        "import tensorflow as tf\n",
        "import os\n",
        "from scipy.special import softmax\n",
        "from PIL import Image\n",
        "import numpy as np\n"
      ],
      "metadata": {
        "id": "gqDSLriFxiYs"
      },
      "execution_count": null,
      "outputs": []
    },
    {
      "cell_type": "code",
      "source": [
        "!unzip -q \"/content/drive/MyDrive/CV_project/data/안구질환/개_안구_all_ttv_au_under_250000_5class.zip\""
      ],
      "metadata": {
        "id": "kNwfREbnoUXC"
      },
      "execution_count": null,
      "outputs": []
    },
    {
      "cell_type": "code",
      "source": [
        "test_data = '/content/개_안구_all_ttv_au_under_250000_5class/test'"
      ],
      "metadata": {
        "id": "vh8TB1hnfgQo"
      },
      "execution_count": null,
      "outputs": []
    },
    {
      "cell_type": "code",
      "source": [
        "model_path = '/content/drive/MyDrive/CV_project/안구질환_모델/content/개_안구_all_ttv_au_under_250000_5class.tf'\n",
        "model = tf.keras.models.load_model(model_path)"
      ],
      "metadata": {
        "id": "INEovPeaLwTU"
      },
      "execution_count": null,
      "outputs": []
    },
    {
      "cell_type": "code",
      "source": [
        "labels= [\n",
        "    '궤양성각막질환',\n",
        "    '백내장',\n",
        "    '안검종양',\n",
        "    '정상',\n",
        "    '핵경화',\n",
        "]"
      ],
      "metadata": {
        "id": "mBQD3UguiE1r"
      },
      "execution_count": null,
      "outputs": []
    },
    {
      "cell_type": "code",
      "source": [
        "def inference(file_path):\n",
        "    img = Image.open(file_path)\n",
        "    img = img.resize((224, 224))\n",
        "    img = np.array(img)\n",
        "\n",
        "    img = img / 255.\n",
        "    img = tf.expand_dims(img, axis=0)\n",
        "    pred = model.predict(img, verbose=0)\n",
        "    return pred"
      ],
      "metadata": {
        "id": "YzrT0Z_bqfLX"
      },
      "execution_count": null,
      "outputs": []
    },
    {
      "cell_type": "code",
      "source": [
        "predictions = {'target':[], 'pred':[], 'prob':[]}\n",
        "for folder in os.listdir(test_data):\n",
        "    print(folder)\n",
        "    for file in os.listdir(os.path.join(test_data, folder)):\n",
        "        pred = inference(os.path.join(test_data, folder, file))\n",
        "        predictions['target'].append(folder)\n",
        "        predictions['pred'].append(labels[pred.argmax()])\n",
        "        predictions['prob'].append(pred.tolist())\n",
        "        if len(predictions['target']) % 1000 == 0:\n",
        "            print(len(predictions['target']), \"predictions done\")"
      ],
      "metadata": {
        "colab": {
          "base_uri": "https://localhost:8080/"
        },
        "id": "ZcLqNo8vqzJJ",
        "outputId": "737b31ed-6cfb-4dd5-e0f7-42dc418a63b0"
      },
      "execution_count": null,
      "outputs": [
        {
          "output_type": "stream",
          "name": "stdout",
          "text": [
            "정상\n",
            "1000 predictions done\n",
            "2000 predictions done\n",
            "3000 predictions done\n",
            "4000 predictions done\n",
            "5000 predictions done\n",
            "6000 predictions done\n",
            "7000 predictions done\n",
            "8000 predictions done\n",
            "안검종양\n",
            "9000 predictions done\n",
            "핵경화\n",
            "10000 predictions done\n",
            "궤양성각막질환\n",
            "11000 predictions done\n",
            "백내장\n",
            "12000 predictions done\n",
            "13000 predictions done\n",
            "14000 predictions done\n"
          ]
        }
      ]
    },
    {
      "cell_type": "code",
      "source": [
        "import os\n",
        "\n",
        "base_dir = '/content/개_안구_tr_te_va_squared_all_4class'\n",
        "\n",
        "for root, dirs, files in os.walk(base_dir):\n",
        "    if root != base_dir:  # base_dir 자체는 제외\n",
        "        num_images = sum(1 for file in files if file.endswith('.jpg') or file.endswith('.png'))  # jpg, png 이미지 확인\n",
        "        print(f\"{os.path.basename(root)}: {num_images} images\")"
      ],
      "metadata": {
        "id": "2UrMy8cUqmuZ"
      },
      "execution_count": null,
      "outputs": []
    },
    {
      "cell_type": "code",
      "source": [
        "from collections import Counter\n",
        "\n",
        "Counter(predictions['target'])"
      ],
      "metadata": {
        "colab": {
          "base_uri": "https://localhost:8080/"
        },
        "id": "x5EEBeJNXkrU",
        "outputId": "41e4eb5a-e3d7-4d10-dcac-122c2dea415b"
      },
      "execution_count": null,
      "outputs": [
        {
          "output_type": "execute_result",
          "data": {
            "text/plain": [
              "Counter({'정상': 8515, '안검종양': 540, '핵경화': 1081, '궤양성각막질환': 1548, '백내장': 2323})"
            ]
          },
          "metadata": {},
          "execution_count": 10
        }
      ]
    },
    {
      "cell_type": "code",
      "source": [
        "Counter(predictions['pred'])"
      ],
      "metadata": {
        "colab": {
          "base_uri": "https://localhost:8080/"
        },
        "id": "m1Dfwk6XvB64",
        "outputId": "55c21e8c-1a04-430d-a149-ad3e793bfcfb"
      },
      "execution_count": null,
      "outputs": [
        {
          "output_type": "execute_result",
          "data": {
            "text/plain": [
              "Counter({'정상': 8464, '궤양성각막질환': 1619, '안검종양': 844, '백내장': 1804, '핵경화': 1276})"
            ]
          },
          "metadata": {},
          "execution_count": 11
        }
      ]
    },
    {
      "cell_type": "code",
      "source": [
        "import unicodedata\n",
        "target = [unicodedata.normalize('NFC', t) for t in predictions['target']]\n",
        "predictions['target'] = target"
      ],
      "metadata": {
        "id": "QJEKCHHTdTwy"
      },
      "execution_count": null,
      "outputs": []
    },
    {
      "cell_type": "code",
      "source": [
        "pred = [unicodedata.normalize('NFC', p) for p in predictions['pred']]\n",
        "predictions['pred'] = pred"
      ],
      "metadata": {
        "id": "SvBe2gAw225G"
      },
      "execution_count": null,
      "outputs": []
    },
    {
      "cell_type": "code",
      "source": [
        "print(target[0], len(target[0]))"
      ],
      "metadata": {
        "colab": {
          "base_uri": "https://localhost:8080/"
        },
        "id": "4IfOrICtTzyl",
        "outputId": "81a061a5-a3e6-4aa7-8577-d7682d150dd4"
      },
      "execution_count": null,
      "outputs": [
        {
          "output_type": "stream",
          "name": "stdout",
          "text": [
            "정상 2\n"
          ]
        }
      ]
    },
    {
      "cell_type": "code",
      "source": [
        "!rm -rf ~/.cache/matplotlib\n"
      ],
      "metadata": {
        "id": "ZUNISzOVZck2"
      },
      "execution_count": null,
      "outputs": []
    },
    {
      "cell_type": "code",
      "source": [
        "# confusion matrix 생성 및 시각화\n",
        "import matplotlib.font_manager as font_manager\n",
        "import matplotlib.pyplot as plt\n",
        "from sklearn.metrics import confusion_matrix\n",
        "import seaborn as sns\n",
        "import numpy as np\n",
        "\n",
        "# confusion matrix 생성 및 시각화\n",
        "cm = confusion_matrix(predictions['target'], predictions['pred'], normalize='true')\n",
        "hm = sns.heatmap(cm, annot=True, fmt='.2f', cmap='flare_r')\n",
        "hm.set_xlabel('예측값', fontsize=10)\n",
        "hm.set_ylabel('실제값', fontsize=10)\n",
        "hm.set_xticklabels(labels=labels, fontsize=10, rotation=45, ha='right', rotation_mode='anchor')\n",
        "hm.set_yticklabels(labels=labels, fontsize=10, rotation=0)\n",
        "\n",
        "plt.show()"
      ],
      "metadata": {
        "id": "CxR7qlUCEsKL",
        "colab": {
          "base_uri": "https://localhost:8080/",
          "height": 512
        },
        "outputId": "882b9c12-971f-4fa0-c9f8-735ce0c0a4e4"
      },
      "execution_count": null,
      "outputs": [
        {
          "output_type": "display_data",
          "data": {
            "text/plain": [
              "<Figure size 640x480 with 2 Axes>"
            ],
            "image/png": "[encoded data removed]"
          },
          "metadata": {}
        }
      ]
    },
    {
      "cell_type": "code",
      "source": [
        "from sklearn.metrics import classification_report\n",
        "\n",
        "cr = classification_report(predictions['target'], predictions['pred'])\n",
        "print(cr)"
      ],
      "metadata": {
        "colab": {
          "base_uri": "https://localhost:8080/"
        },
        "id": "WRBUn_R_UFPt",
        "outputId": "daa59635-160e-4697-9114-3d74aa30167f"
      },
      "execution_count": null,
      "outputs": [
        {
          "output_type": "stream",
          "name": "stdout",
          "text": [
            "              precision    recall  f1-score   support\n",
            "\n",
            "     궤양성각막질환       0.87      0.91      0.89      1548\n",
            "         백내장       0.87      0.68      0.76      2323\n",
            "        안검종양       0.61      0.95      0.74       540\n",
            "          정상       1.00      0.99      0.99      8515\n",
            "         핵경화       0.57      0.67      0.61      1081\n",
            "\n",
            "    accuracy                           0.90     14007\n",
            "   macro avg       0.78      0.84      0.80     14007\n",
            "weighted avg       0.91      0.90      0.90     14007\n",
            "\n"
          ]
        }
      ]
    }
  ]
}