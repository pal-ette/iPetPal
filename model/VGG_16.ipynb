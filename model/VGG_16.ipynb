{
  "nbformat": 4,
  "nbformat_minor": 0,
  "metadata": {
    "colab": {
      "provenance": [],
      "gpuType": "T4",
      "machine_shape": "hm"
    },
    "kernelspec": {
      "name": "python3",
      "display_name": "Python 3"
    },
    "language_info": {
      "name": "python"
    },
    "accelerator": "GPU"
  },
  "cells": [
    {
      "cell_type": "code",
      "execution_count": 1,
      "metadata": {
        "id": "DntLxesOqNVz"
      },
      "outputs": [],
      "source": [
        "!unzip -q \"/content/drive/MyDrive/CV_project/data/안구질환/train_test_val.zip\"\n"
      ]
    },
    {
      "cell_type": "code",
      "source": [
        "import torch\n",
        "from torch import nn\n",
        "from torch import optim\n",
        "from torch.nn import functional as F\n",
        "from torch.utils.data import DataLoader\n",
        "from torchvision import models\n",
        "from torchvision import transforms\n",
        "from torchvision.datasets import ImageFolder"
      ],
      "metadata": {
        "id": "Q1wbGWxkraPC"
      },
      "execution_count": 2,
      "outputs": []
    },
    {
      "cell_type": "code",
      "source": [
        "!find /content/train_test_val/ -name \".ipynb_checkpoints\" -type d -exec rm -rf {} +\n"
      ],
      "metadata": {
        "id": "wSc77qQNtnRy"
      },
      "execution_count": 3,
      "outputs": []
    },
    {
      "cell_type": "code",
      "source": [
        "# 하이퍼파라미터 설정\n",
        "hyperparams = {\n",
        "    \"batch_size\": 4,  # 배치 크기: 한 번에 네 개의 이미지를 처리\n",
        "    \"learning_rate\": 0.0001,  # 학습률: 모델이 학습할 때 가중치를 업데이트하는 속도\n",
        "    \"epochs\": 10,  # 에포크 수: 전체 데이터셋을 몇 번 반복해서 학습할 것인지 설정\n",
        "    \"transform\": transforms.Compose(  # 데이터 변환 파이프라인 설정\n",
        "        [\n",
        "            transforms.Resize(256),  # 이미지를 256x256 크기로 리사이즈\n",
        "            transforms.CenterCrop(224),  # 이미지를 중앙에서 224x224 크기로 자름\n",
        "            transforms.ToTensor(),  # 이미지를 텐서로 변환 (픽셀 값을 [0, 1] 범위로 변환)\n",
        "            transforms.Normalize(mean=[0.48235, 0.45882, 0.40784], std=[1.0/255.0, 1.0/255.0, 1.0/255.0])\n",
        "            # 이미지 정규화: 평균과 표준편차를 사용하여 각 채널을 정규화\n",
        "        ]\n",
        "    )\n",
        "}\n",
        "\n"
      ],
      "metadata": {
        "id": "EECAc_ylrq2Z"
      },
      "execution_count": 4,
      "outputs": []
    },
    {
      "cell_type": "markdown",
      "source": [
        "### pytorch 이미지 폴더, 이미지 로더 설정"
      ],
      "metadata": {
        "id": "wUphdHArQEXV"
      }
    },
    {
      "cell_type": "code",
      "source": [
        "# 학습 데이터셋 생성\n",
        "train_dataset = ImageFolder(root=\"/content/train_test_val/train\", transform=hyperparams[\"transform\"])\n",
        "\n",
        "# 테스트 데이터셋 생성\n",
        "test_dataset = ImageFolder(root=\"/content/train_test_val/test\", transform=hyperparams[\"transform\"])\n",
        "\n",
        "# 학습 데이터 로더 생성\n",
        "train_dataloader = DataLoader(train_dataset, batch_size=hyperparams[\"batch_size\"], shuffle=True, drop_last=True)\n",
        "\n",
        "# 테스트 데이터 로더 생성\n",
        "test_dataloader = DataLoader(test_dataset, batch_size=hyperparams[\"batch_size\"], shuffle=True, drop_last=True)\n"
      ],
      "metadata": {
        "id": "9W_seLkXQDX_"
      },
      "execution_count": 5,
      "outputs": []
    },
    {
      "cell_type": "markdown",
      "source": [
        "### 모델 불러오기\n"
      ],
      "metadata": {
        "id": "C2PvXo15FHWZ"
      }
    },
    {
      "cell_type": "code",
      "source": [
        "model = models.vgg16(weights=\"VGG16_Weights.IMAGENET1K_V1\")\n",
        "model.classifier[6] = nn.Linear(4096, len(train_dataset.classes))"
      ],
      "metadata": {
        "id": "Fj1dKLr_2yye",
        "colab": {
          "base_uri": "https://localhost:8080/"
        },
        "outputId": "0fad6db2-c832-4465-dbce-1462a4002600"
      },
      "execution_count": 6,
      "outputs": [
        {
          "output_type": "stream",
          "name": "stderr",
          "text": [
            "Downloading: \"https://download.pytorch.org/models/vgg16-397923af.pth\" to /root/.cache/torch/hub/checkpoints/vgg16-397923af.pth\n",
            "100%|██████████| 528M/528M [00:02<00:00, 222MB/s]\n"
          ]
        }
      ]
    },
    {
      "cell_type": "code",
      "source": [
        "device = \"cuda\" if torch.cuda.is_available() else \"cpu\"\n",
        "model = model.to(device)\n",
        "criterion = nn.CrossEntropyLoss().to(device)\n",
        "optimizer = optim.SGD(model.parameters(), lr=hyperparams[\"learning_rate\"])"
      ],
      "metadata": {
        "id": "Irh556ZDQaC-"
      },
      "execution_count": 7,
      "outputs": []
    },
    {
      "cell_type": "code",
      "source": [
        "for epoch in range(hyperparams[\"epochs\"]):\n",
        "    cost = 0.0\n",
        "\n",
        "    for images, classes in train_dataloader:\n",
        "        images = images.to(device)\n",
        "        classes = classes.to(device)\n",
        "\n",
        "        output = model(images)\n",
        "        loss = criterion(output, classes)\n",
        "\n",
        "        optimizer.zero_grad()\n",
        "        loss.backward()\n",
        "        optimizer.step()\n",
        "\n",
        "        cost += loss\n",
        "\n",
        "    cost = cost / len(train_dataloader)\n",
        "    print(f\"Epoch : {epoch+1:4d}, Cost : {cost:.3f}\")"
      ],
      "metadata": {
        "colab": {
          "base_uri": "https://localhost:8080/"
        },
        "id": "szhKY07WFbqP",
        "outputId": "28c8eb01-ed81-4c8e-c859-85ed1064d092"
      },
      "execution_count": null,
      "outputs": [
        {
          "output_type": "stream",
          "name": "stdout",
          "text": [
            "Epoch :    1, Cost : 1.315\n",
            "Epoch :    2, Cost : 1.102\n",
            "Epoch :    3, Cost : 1.022\n",
            "Epoch :    4, Cost : 0.963\n",
            "Epoch :    5, Cost : 0.912\n",
            "Epoch :    6, Cost : 0.865\n",
            "Epoch :    7, Cost : 0.829\n",
            "Epoch :    8, Cost : 0.795\n"
          ]
        }
      ]
    },
    {
      "cell_type": "code",
      "source": [
        "with torch.no_grad():\n",
        "    model.eval()\n",
        "\n",
        "    accuracy = 0.0\n",
        "    for images, classes in test_dataloader:\n",
        "        images = images.to(device)\n",
        "        classes = classes.to(device)\n",
        "\n",
        "        outputs = model(images)\n",
        "        probs = F.softmax(outputs, dim=-1)\n",
        "        outputs_classes = torch.argmax(probs, dim=-1)\n",
        "\n",
        "        accuracy += int(torch.eq(classes, outputs_classes).sum())\n",
        "\n",
        "    print(f\"acc@1 : {accuracy / (len(test_dataloader) * hyperparams['batch_size']) * 100:.2f}%\")"
      ],
      "metadata": {
        "id": "TARx9jebG7g1"
      },
      "execution_count": null,
      "outputs": []
    },
    {
      "cell_type": "code",
      "source": [
        "torch.save(model.state_dict(), \"../models/VGG16.pt\")\n",
        "print(\"Saved the model weights\")"
      ],
      "metadata": {
        "id": "rWuH_BZZQxgF"
      },
      "execution_count": null,
      "outputs": []
    }
  ]
}